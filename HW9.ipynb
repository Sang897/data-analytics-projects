{
  "cells": [
    {
      "cell_type": "markdown",
      "metadata": {
        "id": "view-in-github",
        "colab_type": "text"
      },
      "source": [
        "<a href=\"https://colab.research.google.com/github/Sang897/hello-world/blob/master/HW9.ipynb\" target=\"_parent\"><img src=\"https://colab.research.google.com/assets/colab-badge.svg\" alt=\"Open In Colab\"/></a>"
      ]
    },
    {
      "cell_type": "markdown",
      "metadata": {
        "id": "llbnp5tEomj_"
      },
      "source": [
        "# Intro to Data Science HW 9\n",
        "##### Copyright Jeffrey Stanton, Jeffrey Saltz, and Jasmina Tacheva"
      ]
    },
    {
      "cell_type": "code",
      "execution_count": null,
      "metadata": {
        "id": "ao5sIFlLomkB"
      },
      "outputs": [],
      "source": [
        "# Enter your name here: Jack (Sang Uk) Park "
      ]
    },
    {
      "cell_type": "markdown",
      "metadata": {
        "id": "WdlN17mgomkC"
      },
      "source": [
        "### Attribution statement: (choose only one and delete the rest)"
      ]
    },
    {
      "cell_type": "code",
      "execution_count": null,
      "metadata": {
        "id": "_5ovD9VromkC"
      },
      "outputs": [],
      "source": [
        "# 1. I did this homework by myself, with help from the book and the professor.\n",
        "# 2. I did this homework with help from the book and the professor and these Internet sources:\n",
        "# 3. I did this homework with help from <Name of another student> but did not cut and paste any code."
      ]
    },
    {
      "cell_type": "markdown",
      "metadata": {
        "id": "TYZ0yJeZomkC"
      },
      "source": [
        "Supervised learning means that there is a **criterion one is trying to predict**. The typical strategy is to **divide data** into a **training set** and a **test set** (for example, **two-thirds training** and **one-third test**), train the model on the training set, and then see how well the model does on the test set. <br>\n",
        "\n",
        "**Support vector machines (SVM)** are a highly flexible and powerful method of doing **supervised machine learning**.\n",
        "\n",
        "Another approach is to use **partition trees (rpart)** \n",
        "\n",
        "In this homework, we will use another banking dataset to train an SVM model, as well as an rpart model, to **classify potential borrowers into 2 groups of credit risk** – **reliable borrowers** and **borrowers posing a risk**. You can learn more about the variables in the dataset here:<br> https://archive.ics.uci.edu/ml/datasets/Statlog+%28German+Credit+Data%29 <br>\n",
        "\n",
        "This kind of classification algorithms is used in many aspects of our lives – from credit card approvals to stock market predictions, and even some medical diagnoses. <br>\n",
        "\n",
        "## Part 1: Load and condition the data  \n",
        "\n",
        "A.\tRead the contents of the following .csv file into a dataframe called **credit**: <br>\n",
        "\n",
        "https://intro-datascience.s3.us-east-2.amazonaws.com/GermanCredit.csv <br>\n",
        "\n",
        "You will also need to install( ) and library( ) several other libraries, such as **kernlab** and **caret**.\n"
      ]
    },
    {
      "cell_type": "code",
      "execution_count": 6,
      "metadata": {
        "colab": {
          "base_uri": "https://localhost:8080/",
          "height": 1000
        },
        "id": "JPC6RlOwomkD",
        "outputId": "a239e0c3-67fe-4445-f1be-08f9883a6d98"
      },
      "outputs": [
        {
          "output_type": "stream",
          "name": "stderr",
          "text": [
            "Installing package into ‘/usr/local/lib/R/site-library’\n",
            "(as ‘lib’ is unspecified)\n",
            "\n",
            "Installing package into ‘/usr/local/lib/R/site-library’\n",
            "(as ‘lib’ is unspecified)\n",
            "\n",
            "Installing package into ‘/usr/local/lib/R/site-library’\n",
            "(as ‘lib’ is unspecified)\n",
            "\n",
            "Installing package into ‘/usr/local/lib/R/site-library’\n",
            "(as ‘lib’ is unspecified)\n",
            "\n",
            "Installing package into ‘/usr/local/lib/R/site-library’\n",
            "(as ‘lib’ is unspecified)\n",
            "\n",
            "\u001b[1mRows: \u001b[22m\u001b[34m1000\u001b[39m \u001b[1mColumns: \u001b[22m\u001b[34m21\u001b[39m\n",
            "\n",
            "\u001b[36m──\u001b[39m \u001b[1mColumn specification\u001b[22m \u001b[36m────────────────────────────────────────────────────────\u001b[39m\n",
            "\u001b[1mDelimiter:\u001b[22m \",\"\n",
            "\u001b[31mchr\u001b[39m (13): status, credit_history, purpose, savings, employment_duration, per...\n",
            "\u001b[32mdbl\u001b[39m  (8): duration, amount, installment_rate, present_residence, age, number...\n",
            "\n",
            "\n",
            "\u001b[36mℹ\u001b[39m Use \u001b[30m\u001b[47m\u001b[30m\u001b[47m`spec()`\u001b[47m\u001b[30m\u001b[49m\u001b[39m to retrieve the full column specification for this data.\n",
            "\u001b[36mℹ\u001b[39m Specify the column types or set \u001b[30m\u001b[47m\u001b[30m\u001b[47m`show_col_types = FALSE`\u001b[47m\u001b[30m\u001b[49m\u001b[39m to quiet this message.\n",
            "\n"
          ]
        },
        {
          "output_type": "display_data",
          "data": {
            "text/plain": [
              "     status                                     duration\n",
              "1    ... < 100 DM                                6      \n",
              "2    0 <= ... < 200 DM                          48      \n",
              "3    no checking account                        12      \n",
              "4    ... < 100 DM                               42      \n",
              "5    ... < 100 DM                               24      \n",
              "6    no checking account                        36      \n",
              "7    no checking account                        24      \n",
              "8    0 <= ... < 200 DM                          36      \n",
              "9    no checking account                        12      \n",
              "10   0 <= ... < 200 DM                          30      \n",
              "11   0 <= ... < 200 DM                          12      \n",
              "12   ... < 100 DM                               48      \n",
              "13   0 <= ... < 200 DM                          12      \n",
              "14   ... < 100 DM                               24      \n",
              "15   ... < 100 DM                               15      \n",
              "16   ... < 100 DM                               24      \n",
              "17   no checking account                        24      \n",
              "18   ... < 100 DM                               30      \n",
              "19   0 <= ... < 200 DM                          24      \n",
              "20   no checking account                        24      \n",
              "21   no checking account                         9      \n",
              "22   ... < 100 DM                                6      \n",
              "23   ... < 100 DM                               10      \n",
              "24   0 <= ... < 200 DM                          12      \n",
              "25   no checking account                        10      \n",
              "26   ... < 100 DM                                6      \n",
              "27   no checking account                         6      \n",
              "28   ... >= 200 DM / salary for at least 1 year 12      \n",
              "29   0 <= ... < 200 DM                           7      \n",
              "30   ... < 100 DM                               60      \n",
              "⋮    ⋮                                          ⋮       \n",
              "971  0 <= ... < 200 DM                          15      \n",
              "972  no checking account                        24      \n",
              "973  ... < 100 DM                               24      \n",
              "974  ... < 100 DM                               60      \n",
              "975  no checking account                        30      \n",
              "976  ... >= 200 DM / salary for at least 1 year 24      \n",
              "977  0 <= ... < 200 DM                           6      \n",
              "978  0 <= ... < 200 DM                          18      \n",
              "979  no checking account                        24      \n",
              "980  0 <= ... < 200 DM                          15      \n",
              "981  0 <= ... < 200 DM                          30      \n",
              "982  no checking account                        48      \n",
              "983  ... >= 200 DM / salary for at least 1 year 21      \n",
              "984  ... < 100 DM                               36      \n",
              "985  no checking account                        24      \n",
              "986  ... < 100 DM                               15      \n",
              "987  ... >= 200 DM / salary for at least 1 year 42      \n",
              "988  no checking account                        13      \n",
              "989  ... < 100 DM                               24      \n",
              "990  0 <= ... < 200 DM                          24      \n",
              "991  no checking account                        12      \n",
              "992  no checking account                        15      \n",
              "993  ... < 100 DM                               18      \n",
              "994  ... < 100 DM                               36      \n",
              "995  no checking account                        12      \n",
              "996  no checking account                        12      \n",
              "997  ... < 100 DM                               30      \n",
              "998  no checking account                        12      \n",
              "999  ... < 100 DM                               45      \n",
              "1000 0 <= ... < 200 DM                          45      \n",
              "     credit_history                              purpose             amount\n",
              "1    critical account/other credits existing     domestic appliances  1169 \n",
              "2    existing credits paid back duly till now    domestic appliances  5951 \n",
              "3    critical account/other credits existing     retraining           2096 \n",
              "4    existing credits paid back duly till now    radio/television     7882 \n",
              "5    delay in paying off in the past             car (new)            4870 \n",
              "6    existing credits paid back duly till now    retraining           9055 \n",
              "7    existing credits paid back duly till now    radio/television     2835 \n",
              "8    existing credits paid back duly till now    car (used)           6948 \n",
              "9    existing credits paid back duly till now    domestic appliances  3059 \n",
              "10   critical account/other credits existing     car (new)            5234 \n",
              "11   existing credits paid back duly till now    car (new)            1295 \n",
              "12   existing credits paid back duly till now    others               4308 \n",
              "13   existing credits paid back duly till now    domestic appliances  1567 \n",
              "14   critical account/other credits existing     car (new)            1199 \n",
              "15   existing credits paid back duly till now    car (new)            1403 \n",
              "16   existing credits paid back duly till now    domestic appliances  1282 \n",
              "17   critical account/other credits existing     domestic appliances  2424 \n",
              "18   no credits taken/all credits paid back duly others               8072 \n",
              "19   existing credits paid back duly till now    car (used)          12579 \n",
              "20   existing credits paid back duly till now    domestic appliances  3430 \n",
              "21   critical account/other credits existing     car (new)            2134 \n",
              "22   existing credits paid back duly till now    domestic appliances  2647 \n",
              "23   critical account/other credits existing     car (new)            2241 \n",
              "24   critical account/other credits existing     car (used)           1804 \n",
              "25   critical account/other credits existing     radio/television     2069 \n",
              "26   existing credits paid back duly till now    radio/television     1374 \n",
              "27   no credits taken/all credits paid back duly domestic appliances   426 \n",
              "28   all credits at this bank paid back duly     domestic appliances   409 \n",
              "29   existing credits paid back duly till now    domestic appliances  2415 \n",
              "30   delay in paying off in the past             others               6836 \n",
              "⋮    ⋮                                           ⋮                   ⋮     \n",
              "971  existing credits paid back duly till now    education           1514  \n",
              "972  existing credits paid back duly till now    car (new)           7393  \n",
              "973  all credits at this bank paid back duly     car (new)           1193  \n",
              "974  existing credits paid back duly till now    others              7297  \n",
              "975  critical account/other credits existing     domestic appliances 2831  \n",
              "976  existing credits paid back duly till now    domestic appliances 1258  \n",
              "977  existing credits paid back duly till now    domestic appliances  753  \n",
              "978  delay in paying off in the past             others              2427  \n",
              "979  delay in paying off in the past             car (new)           2538  \n",
              "980  all credits at this bank paid back duly     car (new)           1264  \n",
              "981  critical account/other credits existing     radio/television    8386  \n",
              "982  existing credits paid back duly till now    others              4844  \n",
              "983  existing credits paid back duly till now    car (new)           2923  \n",
              "984  existing credits paid back duly till now    car (used)          8229  \n",
              "985  critical account/other credits existing     radio/television    2028  \n",
              "986  critical account/other credits existing     radio/television    1433  \n",
              "987  no credits taken/all credits paid back duly others              6289  \n",
              "988  existing credits paid back duly till now    domestic appliances 1409  \n",
              "989  existing credits paid back duly till now    car (used)          6579  \n",
              "990  critical account/other credits existing     domestic appliances 1743  \n",
              "991  critical account/other credits existing     retraining          3565  \n",
              "992  all credits at this bank paid back duly     domestic appliances 1569  \n",
              "993  existing credits paid back duly till now    domestic appliances 1936  \n",
              "994  existing credits paid back duly till now    radio/television    3959  \n",
              "995  existing credits paid back duly till now    car (new)           2390  \n",
              "996  existing credits paid back duly till now    radio/television    1736  \n",
              "997  existing credits paid back duly till now    car (used)          3857  \n",
              "998  existing credits paid back duly till now    domestic appliances  804  \n",
              "999  existing credits paid back duly till now    domestic appliances 1845  \n",
              "1000 critical account/other credits existing     car (used)          4576  \n",
              "     savings                    employment_duration installment_rate\n",
              "1    unknown/no savings account ... >= 7 years      4               \n",
              "2    ... < 100 DM               1 <= ... < 4 years  2               \n",
              "3    ... < 100 DM               4 <= ... < 7 years  2               \n",
              "4    ... < 100 DM               4 <= ... < 7 years  2               \n",
              "5    ... < 100 DM               1 <= ... < 4 years  3               \n",
              "6    unknown/no savings account 1 <= ... < 4 years  2               \n",
              "7    500 <= ... < 1000 DM       ... >= 7 years      3               \n",
              "8    ... < 100 DM               1 <= ... < 4 years  2               \n",
              "9    ... >= 1000 DM             4 <= ... < 7 years  2               \n",
              "10   ... < 100 DM               unemployed          4               \n",
              "11   ... < 100 DM               ... < 1 year        3               \n",
              "12   ... < 100 DM               ... < 1 year        3               \n",
              "13   ... < 100 DM               1 <= ... < 4 years  1               \n",
              "14   ... < 100 DM               ... >= 7 years      4               \n",
              "15   ... < 100 DM               1 <= ... < 4 years  2               \n",
              "16   100 <= ... < 500 DM        1 <= ... < 4 years  4               \n",
              "17   unknown/no savings account ... >= 7 years      4               \n",
              "18   unknown/no savings account ... < 1 year        2               \n",
              "19   ... < 100 DM               ... >= 7 years      4               \n",
              "20   500 <= ... < 1000 DM       ... >= 7 years      3               \n",
              "21   ... < 100 DM               1 <= ... < 4 years  4               \n",
              "22   500 <= ... < 1000 DM       1 <= ... < 4 years  2               \n",
              "23   ... < 100 DM               ... < 1 year        1               \n",
              "24   100 <= ... < 500 DM        ... < 1 year        3               \n",
              "25   unknown/no savings account 1 <= ... < 4 years  2               \n",
              "26   ... < 100 DM               1 <= ... < 4 years  1               \n",
              "27   ... < 100 DM               ... >= 7 years      4               \n",
              "28   ... >= 1000 DM             1 <= ... < 4 years  3               \n",
              "29   ... < 100 DM               1 <= ... < 4 years  3               \n",
              "30   ... < 100 DM               ... >= 7 years      3               \n",
              "⋮    ⋮                          ⋮                   ⋮               \n",
              "971  100 <= ... < 500 DM        1 <= ... < 4 years  4               \n",
              "972  ... < 100 DM               1 <= ... < 4 years  1               \n",
              "973  ... < 100 DM               unemployed          1               \n",
              "974  ... < 100 DM               ... >= 7 years      4               \n",
              "975  ... < 100 DM               1 <= ... < 4 years  4               \n",
              "976  500 <= ... < 1000 DM       1 <= ... < 4 years  3               \n",
              "977  ... < 100 DM               1 <= ... < 4 years  2               \n",
              "978  unknown/no savings account ... >= 7 years      4               \n",
              "979  ... < 100 DM               ... >= 7 years      4               \n",
              "980  100 <= ... < 500 DM        1 <= ... < 4 years  2               \n",
              "981  ... < 100 DM               4 <= ... < 7 years  2               \n",
              "982  ... < 100 DM               unemployed          3               \n",
              "983  100 <= ... < 500 DM        1 <= ... < 4 years  1               \n",
              "984  ... < 100 DM               1 <= ... < 4 years  2               \n",
              "985  ... < 100 DM               4 <= ... < 7 years  2               \n",
              "986  ... < 100 DM               1 <= ... < 4 years  4               \n",
              "987  ... < 100 DM               ... < 1 year        2               \n",
              "988  100 <= ... < 500 DM        unemployed          2               \n",
              "989  ... < 100 DM               unemployed          4               \n",
              "990  ... < 100 DM               ... >= 7 years      4               \n",
              "991  unknown/no savings account ... < 1 year        2               \n",
              "992  100 <= ... < 500 DM        ... >= 7 years      4               \n",
              "993  unknown/no savings account 4 <= ... < 7 years  2               \n",
              "994  ... < 100 DM               unemployed          4               \n",
              "995  unknown/no savings account ... >= 7 years      4               \n",
              "996  ... < 100 DM               4 <= ... < 7 years  3               \n",
              "997  ... < 100 DM               1 <= ... < 4 years  4               \n",
              "998  ... < 100 DM               ... >= 7 years      4               \n",
              "999  ... < 100 DM               1 <= ... < 4 years  4               \n",
              "1000 100 <= ... < 500 DM        unemployed          3               \n",
              "     personal_status_sex                 other_debtors ⋯\n",
              "1    male : single                       none          ⋯\n",
              "2    female : divorced/separated/married none          ⋯\n",
              "3    male : single                       none          ⋯\n",
              "4    male : single                       guarantor     ⋯\n",
              "5    male : single                       none          ⋯\n",
              "6    male : single                       none          ⋯\n",
              "7    male : single                       none          ⋯\n",
              "8    male : single                       none          ⋯\n",
              "9    male : divorced/separated           none          ⋯\n",
              "10   male : married/widowed              none          ⋯\n",
              "11   female : divorced/separated/married none          ⋯\n",
              "12   female : divorced/separated/married none          ⋯\n",
              "13   female : divorced/separated/married none          ⋯\n",
              "14   male : single                       none          ⋯\n",
              "15   female : divorced/separated/married none          ⋯\n",
              "16   female : divorced/separated/married none          ⋯\n",
              "17   male : single                       none          ⋯\n",
              "18   male : single                       none          ⋯\n",
              "19   female : divorced/separated/married none          ⋯\n",
              "20   male : single                       none          ⋯\n",
              "21   male : single                       none          ⋯\n",
              "22   male : single                       none          ⋯\n",
              "23   male : single                       none          ⋯\n",
              "24   male : single                       none          ⋯\n",
              "25   male : married/widowed              none          ⋯\n",
              "26   male : single                       none          ⋯\n",
              "27   male : married/widowed              none          ⋯\n",
              "28   female : divorced/separated/married none          ⋯\n",
              "29   male : single                       guarantor     ⋯\n",
              "30   male : single                       none          ⋯\n",
              "⋮    ⋮                                   ⋮             ⋱\n",
              "971  male : single                       guarantor     ⋯\n",
              "972  male : single                       none          ⋯\n",
              "973  female : divorced/separated/married co-applicant  ⋯\n",
              "974  male : single                       co-applicant  ⋯\n",
              "975  female : divorced/separated/married none          ⋯\n",
              "976  female : divorced/separated/married none          ⋯\n",
              "977  female : divorced/separated/married guarantor     ⋯\n",
              "978  male : single                       none          ⋯\n",
              "979  male : single                       none          ⋯\n",
              "980  male : married/widowed              none          ⋯\n",
              "981  male : single                       none          ⋯\n",
              "982  male : single                       none          ⋯\n",
              "983  female : divorced/separated/married none          ⋯\n",
              "984  male : single                       none          ⋯\n",
              "985  male : single                       none          ⋯\n",
              "986  female : divorced/separated/married none          ⋯\n",
              "987  male : divorced/separated           none          ⋯\n",
              "988  female : divorced/separated/married none          ⋯\n",
              "989  male : single                       none          ⋯\n",
              "990  male : single                       none          ⋯\n",
              "991  male : single                       none          ⋯\n",
              "992  male : single                       none          ⋯\n",
              "993  male : married/widowed              none          ⋯\n",
              "994  male : single                       none          ⋯\n",
              "995  male : single                       none          ⋯\n",
              "996  female : divorced/separated/married none          ⋯\n",
              "997  male : divorced/separated           none          ⋯\n",
              "998  male : single                       none          ⋯\n",
              "999  male : single                       none          ⋯\n",
              "1000 male : single                       none          ⋯\n",
              "     property                                          age\n",
              "1    real estate                                       67 \n",
              "2    real estate                                       22 \n",
              "3    real estate                                       49 \n",
              "4    building society savings agreement/life insurance 45 \n",
              "5    unknown/no property                               53 \n",
              "6    unknown/no property                               35 \n",
              "7    building society savings agreement/life insurance 53 \n",
              "8    car or other                                      35 \n",
              "9    real estate                                       61 \n",
              "10   car or other                                      28 \n",
              "11   car or other                                      25 \n",
              "12   building society savings agreement/life insurance 24 \n",
              "13   car or other                                      22 \n",
              "14   car or other                                      60 \n",
              "15   car or other                                      28 \n",
              "16   car or other                                      32 \n",
              "17   building society savings agreement/life insurance 53 \n",
              "18   car or other                                      25 \n",
              "19   unknown/no property                               44 \n",
              "20   car or other                                      31 \n",
              "21   car or other                                      48 \n",
              "22   real estate                                       44 \n",
              "23   real estate                                       48 \n",
              "24   building society savings agreement/life insurance 44 \n",
              "25   car or other                                      26 \n",
              "26   real estate                                       36 \n",
              "27   car or other                                      39 \n",
              "28   real estate                                       42 \n",
              "29   real estate                                       34 \n",
              "30   unknown/no property                               63 \n",
              "⋮    ⋮                                                 ⋮  \n",
              "971  real estate                                       22 \n",
              "972  building society savings agreement/life insurance 43 \n",
              "973  unknown/no property                               29 \n",
              "974  unknown/no property                               36 \n",
              "975  car or other                                      33 \n",
              "976  car or other                                      57 \n",
              "977  real estate                                       64 \n",
              "978  building society savings agreement/life insurance 42 \n",
              "979  car or other                                      47 \n",
              "980  building society savings agreement/life insurance 25 \n",
              "981  building society savings agreement/life insurance 49 \n",
              "982  car or other                                      33 \n",
              "983  car or other                                      28 \n",
              "984  building society savings agreement/life insurance 26 \n",
              "985  building society savings agreement/life insurance 30 \n",
              "986  building society savings agreement/life insurance 25 \n",
              "987  building society savings agreement/life insurance 33 \n",
              "988  real estate                                       64 \n",
              "989  unknown/no property                               29 \n",
              "990  building society savings agreement/life insurance 48 \n",
              "991  building society savings agreement/life insurance 37 \n",
              "992  car or other                                      34 \n",
              "993  car or other                                      23 \n",
              "994  building society savings agreement/life insurance 30 \n",
              "995  car or other                                      50 \n",
              "996  real estate                                       31 \n",
              "997  building society savings agreement/life insurance 40 \n",
              "998  car or other                                      38 \n",
              "999  unknown/no property                               23 \n",
              "1000 car or other                                      27 \n",
              "     other_installment_plans housing  number_credits\n",
              "1    none                    own      2             \n",
              "2    none                    own      1             \n",
              "3    none                    own      1             \n",
              "4    none                    for free 1             \n",
              "5    none                    for free 2             \n",
              "6    none                    for free 1             \n",
              "7    none                    own      1             \n",
              "8    none                    rent     1             \n",
              "9    none                    own      1             \n",
              "10   none                    own      2             \n",
              "11   none                    rent     1             \n",
              "12   none                    rent     1             \n",
              "13   none                    own      1             \n",
              "14   none                    own      2             \n",
              "15   none                    rent     1             \n",
              "16   none                    own      1             \n",
              "17   none                    own      2             \n",
              "18   bank                    own      3             \n",
              "19   none                    for free 1             \n",
              "20   none                    own      1             \n",
              "21   none                    own      3             \n",
              "22   none                    rent     1             \n",
              "23   none                    rent     2             \n",
              "24   none                    own      1             \n",
              "25   none                    own      2             \n",
              "26   bank                    own      1             \n",
              "27   none                    own      1             \n",
              "28   none                    rent     2             \n",
              "29   none                    own      1             \n",
              "30   none                    own      2             \n",
              "⋮    ⋮                       ⋮        ⋮             \n",
              "971  none                    own      1             \n",
              "972  none                    own      1             \n",
              "973  none                    rent     2             \n",
              "974  none                    rent     1             \n",
              "975  none                    own      1             \n",
              "976  none                    own      1             \n",
              "977  none                    own      1             \n",
              "978  none                    own      2             \n",
              "979  none                    own      2             \n",
              "980  none                    rent     1             \n",
              "981  none                    own      1             \n",
              "982  bank                    rent     1             \n",
              "983  bank                    own      1             \n",
              "984  none                    own      1             \n",
              "985  none                    own      2             \n",
              "986  none                    rent     2             \n",
              "987  none                    own      2             \n",
              "988  none                    own      1             \n",
              "989  none                    for free 1             \n",
              "990  none                    own      2             \n",
              "991  none                    own      2             \n",
              "992  bank                    own      1             \n",
              "993  none                    rent     2             \n",
              "994  none                    own      1             \n",
              "995  none                    own      1             \n",
              "996  none                    own      1             \n",
              "997  none                    own      1             \n",
              "998  none                    own      1             \n",
              "999  none                    for free 1             \n",
              "1000 none                    own      1             \n",
              "     job                                                        people_liable\n",
              "1    skilled employee/official                                  1            \n",
              "2    skilled employee/official                                  1            \n",
              "3    unskilled - resident                                       2            \n",
              "4    skilled employee/official                                  2            \n",
              "5    skilled employee/official                                  2            \n",
              "6    unskilled - resident                                       2            \n",
              "7    skilled employee/official                                  1            \n",
              "8    management/self-employed/highly qualified employee/officer 1            \n",
              "9    unskilled - resident                                       1            \n",
              "10   management/self-employed/highly qualified employee/officer 1            \n",
              "11   skilled employee/official                                  1            \n",
              "12   skilled employee/official                                  1            \n",
              "13   skilled employee/official                                  1            \n",
              "14   unskilled - resident                                       1            \n",
              "15   skilled employee/official                                  1            \n",
              "16   unskilled - resident                                       1            \n",
              "17   skilled employee/official                                  1            \n",
              "18   skilled employee/official                                  1            \n",
              "19   management/self-employed/highly qualified employee/officer 1            \n",
              "20   skilled employee/official                                  2            \n",
              "21   skilled employee/official                                  1            \n",
              "22   skilled employee/official                                  2            \n",
              "23   unskilled - resident                                       2            \n",
              "24   skilled employee/official                                  1            \n",
              "25   skilled employee/official                                  1            \n",
              "26   unskilled - resident                                       1            \n",
              "27   unskilled - resident                                       1            \n",
              "28   skilled employee/official                                  1            \n",
              "29   skilled employee/official                                  1            \n",
              "30   skilled employee/official                                  1            \n",
              "⋮    ⋮                                                          ⋮            \n",
              "971  skilled employee/official                                  1            \n",
              "972  unskilled - resident                                       2            \n",
              "973  unemployed/unskilled - non-resident                        1            \n",
              "974  skilled employee/official                                  1            \n",
              "975  skilled employee/official                                  1            \n",
              "976  unskilled - resident                                       1            \n",
              "977  skilled employee/official                                  1            \n",
              "978  skilled employee/official                                  1            \n",
              "979  unskilled - resident                                       2            \n",
              "980  skilled employee/official                                  1            \n",
              "981  skilled employee/official                                  1            \n",
              "982  management/self-employed/highly qualified employee/officer 1            \n",
              "983  management/self-employed/highly qualified employee/officer 1            \n",
              "984  skilled employee/official                                  2            \n",
              "985  unskilled - resident                                       1            \n",
              "986  skilled employee/official                                  1            \n",
              "987  skilled employee/official                                  1            \n",
              "988  skilled employee/official                                  1            \n",
              "989  management/self-employed/highly qualified employee/officer 1            \n",
              "990  unskilled - resident                                       1            \n",
              "991  unskilled - resident                                       2            \n",
              "992  unskilled - resident                                       2            \n",
              "993  unskilled - resident                                       1            \n",
              "994  management/self-employed/highly qualified employee/officer 1            \n",
              "995  skilled employee/official                                  1            \n",
              "996  unskilled - resident                                       1            \n",
              "997  management/self-employed/highly qualified employee/officer 1            \n",
              "998  skilled employee/official                                  1            \n",
              "999  skilled employee/official                                  1            \n",
              "1000 skilled employee/official                                  1            \n",
              "     telephone foreign_worker credit_risk\n",
              "1    yes       yes            1          \n",
              "2    no        yes            0          \n",
              "3    no        yes            1          \n",
              "4    no        yes            1          \n",
              "5    no        yes            0          \n",
              "6    yes       yes            1          \n",
              "7    no        yes            1          \n",
              "8    yes       yes            1          \n",
              "9    no        yes            1          \n",
              "10   no        yes            0          \n",
              "11   no        yes            0          \n",
              "12   no        yes            0          \n",
              "13   yes       yes            1          \n",
              "14   no        yes            0          \n",
              "15   no        yes            1          \n",
              "16   no        yes            0          \n",
              "17   no        yes            1          \n",
              "18   no        yes            1          \n",
              "19   yes       yes            0          \n",
              "20   yes       yes            1          \n",
              "21   yes       yes            1          \n",
              "22   no        yes            1          \n",
              "23   no        no             1          \n",
              "24   no        yes            1          \n",
              "25   no        no             1          \n",
              "26   yes       yes            1          \n",
              "27   no        yes            1          \n",
              "28   no        yes            1          \n",
              "29   no        yes            1          \n",
              "30   yes       yes            0          \n",
              "⋮    ⋮         ⋮              ⋮          \n",
              "971  no        yes            1          \n",
              "972  no        yes            1          \n",
              "973  no        yes            0          \n",
              "974  no        yes            0          \n",
              "975  yes       yes            1          \n",
              "976  no        yes            1          \n",
              "977  no        yes            1          \n",
              "978  no        yes            1          \n",
              "979  no        yes            0          \n",
              "980  no        yes            0          \n",
              "981  no        yes            0          \n",
              "982  yes       yes            0          \n",
              "983  yes       yes            1          \n",
              "984  no        yes            0          \n",
              "985  no        yes            1          \n",
              "986  no        yes            1          \n",
              "987  no        yes            1          \n",
              "988  no        yes            1          \n",
              "989  yes       yes            1          \n",
              "990  no        yes            1          \n",
              "991  no        yes            1          \n",
              "992  no        yes            1          \n",
              "993  no        yes            1          \n",
              "994  yes       yes            1          \n",
              "995  yes       yes            1          \n",
              "996  no        yes            1          \n",
              "997  yes       yes            1          \n",
              "998  no        yes            1          \n",
              "999  yes       yes            0          \n",
              "1000 no        yes            1          "
            ],
            "text/latex": "A spec\\_tbl\\_df: 1000 × 21\n\\begin{tabular}{lllllllllllllllllllll}\n status & duration & credit\\_history & purpose & amount & savings & employment\\_duration & installment\\_rate & personal\\_status\\_sex & other\\_debtors & ⋯ & property & age & other\\_installment\\_plans & housing & number\\_credits & job & people\\_liable & telephone & foreign\\_worker & credit\\_risk\\\\\n <chr> & <dbl> & <chr> & <chr> & <dbl> & <chr> & <chr> & <dbl> & <chr> & <chr> & ⋯ & <chr> & <dbl> & <chr> & <chr> & <dbl> & <chr> & <dbl> & <chr> & <chr> & <dbl>\\\\\n\\hline\n\t ... < 100 DM                               &  6 & critical account/other credits existing     & domestic appliances &  1169 & unknown/no savings account & ... >= 7 years     & 4 & male : single                       & none      & ⋯ & real estate                                       & 67 & none & own      & 2 & skilled employee/official                                  & 1 & yes & yes & 1\\\\\n\t 0 <= ... < 200 DM                          & 48 & existing credits paid back duly till now    & domestic appliances &  5951 & ... < 100 DM               & 1 <= ... < 4 years & 2 & female : divorced/separated/married & none      & ⋯ & real estate                                       & 22 & none & own      & 1 & skilled employee/official                                  & 1 & no  & yes & 0\\\\\n\t no checking account                        & 12 & critical account/other credits existing     & retraining          &  2096 & ... < 100 DM               & 4 <= ... < 7 years & 2 & male : single                       & none      & ⋯ & real estate                                       & 49 & none & own      & 1 & unskilled - resident                                       & 2 & no  & yes & 1\\\\\n\t ... < 100 DM                               & 42 & existing credits paid back duly till now    & radio/television    &  7882 & ... < 100 DM               & 4 <= ... < 7 years & 2 & male : single                       & guarantor & ⋯ & building society savings agreement/life insurance & 45 & none & for free & 1 & skilled employee/official                                  & 2 & no  & yes & 1\\\\\n\t ... < 100 DM                               & 24 & delay in paying off in the past             & car (new)           &  4870 & ... < 100 DM               & 1 <= ... < 4 years & 3 & male : single                       & none      & ⋯ & unknown/no property                               & 53 & none & for free & 2 & skilled employee/official                                  & 2 & no  & yes & 0\\\\\n\t no checking account                        & 36 & existing credits paid back duly till now    & retraining          &  9055 & unknown/no savings account & 1 <= ... < 4 years & 2 & male : single                       & none      & ⋯ & unknown/no property                               & 35 & none & for free & 1 & unskilled - resident                                       & 2 & yes & yes & 1\\\\\n\t no checking account                        & 24 & existing credits paid back duly till now    & radio/television    &  2835 & 500 <= ... < 1000 DM       & ... >= 7 years     & 3 & male : single                       & none      & ⋯ & building society savings agreement/life insurance & 53 & none & own      & 1 & skilled employee/official                                  & 1 & no  & yes & 1\\\\\n\t 0 <= ... < 200 DM                          & 36 & existing credits paid back duly till now    & car (used)          &  6948 & ... < 100 DM               & 1 <= ... < 4 years & 2 & male : single                       & none      & ⋯ & car or other                                      & 35 & none & rent     & 1 & management/self-employed/highly qualified employee/officer & 1 & yes & yes & 1\\\\\n\t no checking account                        & 12 & existing credits paid back duly till now    & domestic appliances &  3059 & ... >= 1000 DM             & 4 <= ... < 7 years & 2 & male : divorced/separated           & none      & ⋯ & real estate                                       & 61 & none & own      & 1 & unskilled - resident                                       & 1 & no  & yes & 1\\\\\n\t 0 <= ... < 200 DM                          & 30 & critical account/other credits existing     & car (new)           &  5234 & ... < 100 DM               & unemployed         & 4 & male : married/widowed              & none      & ⋯ & car or other                                      & 28 & none & own      & 2 & management/self-employed/highly qualified employee/officer & 1 & no  & yes & 0\\\\\n\t 0 <= ... < 200 DM                          & 12 & existing credits paid back duly till now    & car (new)           &  1295 & ... < 100 DM               & ... < 1 year       & 3 & female : divorced/separated/married & none      & ⋯ & car or other                                      & 25 & none & rent     & 1 & skilled employee/official                                  & 1 & no  & yes & 0\\\\\n\t ... < 100 DM                               & 48 & existing credits paid back duly till now    & others              &  4308 & ... < 100 DM               & ... < 1 year       & 3 & female : divorced/separated/married & none      & ⋯ & building society savings agreement/life insurance & 24 & none & rent     & 1 & skilled employee/official                                  & 1 & no  & yes & 0\\\\\n\t 0 <= ... < 200 DM                          & 12 & existing credits paid back duly till now    & domestic appliances &  1567 & ... < 100 DM               & 1 <= ... < 4 years & 1 & female : divorced/separated/married & none      & ⋯ & car or other                                      & 22 & none & own      & 1 & skilled employee/official                                  & 1 & yes & yes & 1\\\\\n\t ... < 100 DM                               & 24 & critical account/other credits existing     & car (new)           &  1199 & ... < 100 DM               & ... >= 7 years     & 4 & male : single                       & none      & ⋯ & car or other                                      & 60 & none & own      & 2 & unskilled - resident                                       & 1 & no  & yes & 0\\\\\n\t ... < 100 DM                               & 15 & existing credits paid back duly till now    & car (new)           &  1403 & ... < 100 DM               & 1 <= ... < 4 years & 2 & female : divorced/separated/married & none      & ⋯ & car or other                                      & 28 & none & rent     & 1 & skilled employee/official                                  & 1 & no  & yes & 1\\\\\n\t ... < 100 DM                               & 24 & existing credits paid back duly till now    & domestic appliances &  1282 & 100 <= ... < 500 DM        & 1 <= ... < 4 years & 4 & female : divorced/separated/married & none      & ⋯ & car or other                                      & 32 & none & own      & 1 & unskilled - resident                                       & 1 & no  & yes & 0\\\\\n\t no checking account                        & 24 & critical account/other credits existing     & domestic appliances &  2424 & unknown/no savings account & ... >= 7 years     & 4 & male : single                       & none      & ⋯ & building society savings agreement/life insurance & 53 & none & own      & 2 & skilled employee/official                                  & 1 & no  & yes & 1\\\\\n\t ... < 100 DM                               & 30 & no credits taken/all credits paid back duly & others              &  8072 & unknown/no savings account & ... < 1 year       & 2 & male : single                       & none      & ⋯ & car or other                                      & 25 & bank & own      & 3 & skilled employee/official                                  & 1 & no  & yes & 1\\\\\n\t 0 <= ... < 200 DM                          & 24 & existing credits paid back duly till now    & car (used)          & 12579 & ... < 100 DM               & ... >= 7 years     & 4 & female : divorced/separated/married & none      & ⋯ & unknown/no property                               & 44 & none & for free & 1 & management/self-employed/highly qualified employee/officer & 1 & yes & yes & 0\\\\\n\t no checking account                        & 24 & existing credits paid back duly till now    & domestic appliances &  3430 & 500 <= ... < 1000 DM       & ... >= 7 years     & 3 & male : single                       & none      & ⋯ & car or other                                      & 31 & none & own      & 1 & skilled employee/official                                  & 2 & yes & yes & 1\\\\\n\t no checking account                        &  9 & critical account/other credits existing     & car (new)           &  2134 & ... < 100 DM               & 1 <= ... < 4 years & 4 & male : single                       & none      & ⋯ & car or other                                      & 48 & none & own      & 3 & skilled employee/official                                  & 1 & yes & yes & 1\\\\\n\t ... < 100 DM                               &  6 & existing credits paid back duly till now    & domestic appliances &  2647 & 500 <= ... < 1000 DM       & 1 <= ... < 4 years & 2 & male : single                       & none      & ⋯ & real estate                                       & 44 & none & rent     & 1 & skilled employee/official                                  & 2 & no  & yes & 1\\\\\n\t ... < 100 DM                               & 10 & critical account/other credits existing     & car (new)           &  2241 & ... < 100 DM               & ... < 1 year       & 1 & male : single                       & none      & ⋯ & real estate                                       & 48 & none & rent     & 2 & unskilled - resident                                       & 2 & no  & no  & 1\\\\\n\t 0 <= ... < 200 DM                          & 12 & critical account/other credits existing     & car (used)          &  1804 & 100 <= ... < 500 DM        & ... < 1 year       & 3 & male : single                       & none      & ⋯ & building society savings agreement/life insurance & 44 & none & own      & 1 & skilled employee/official                                  & 1 & no  & yes & 1\\\\\n\t no checking account                        & 10 & critical account/other credits existing     & radio/television    &  2069 & unknown/no savings account & 1 <= ... < 4 years & 2 & male : married/widowed              & none      & ⋯ & car or other                                      & 26 & none & own      & 2 & skilled employee/official                                  & 1 & no  & no  & 1\\\\\n\t ... < 100 DM                               &  6 & existing credits paid back duly till now    & radio/television    &  1374 & ... < 100 DM               & 1 <= ... < 4 years & 1 & male : single                       & none      & ⋯ & real estate                                       & 36 & bank & own      & 1 & unskilled - resident                                       & 1 & yes & yes & 1\\\\\n\t no checking account                        &  6 & no credits taken/all credits paid back duly & domestic appliances &   426 & ... < 100 DM               & ... >= 7 years     & 4 & male : married/widowed              & none      & ⋯ & car or other                                      & 39 & none & own      & 1 & unskilled - resident                                       & 1 & no  & yes & 1\\\\\n\t ... >= 200 DM / salary for at least 1 year & 12 & all credits at this bank paid back duly     & domestic appliances &   409 & ... >= 1000 DM             & 1 <= ... < 4 years & 3 & female : divorced/separated/married & none      & ⋯ & real estate                                       & 42 & none & rent     & 2 & skilled employee/official                                  & 1 & no  & yes & 1\\\\\n\t 0 <= ... < 200 DM                          &  7 & existing credits paid back duly till now    & domestic appliances &  2415 & ... < 100 DM               & 1 <= ... < 4 years & 3 & male : single                       & guarantor & ⋯ & real estate                                       & 34 & none & own      & 1 & skilled employee/official                                  & 1 & no  & yes & 1\\\\\n\t ... < 100 DM                               & 60 & delay in paying off in the past             & others              &  6836 & ... < 100 DM               & ... >= 7 years     & 3 & male : single                       & none      & ⋯ & unknown/no property                               & 63 & none & own      & 2 & skilled employee/official                                  & 1 & yes & yes & 0\\\\\n\t ⋮ & ⋮ & ⋮ & ⋮ & ⋮ & ⋮ & ⋮ & ⋮ & ⋮ & ⋮ & ⋱ & ⋮ & ⋮ & ⋮ & ⋮ & ⋮ & ⋮ & ⋮ & ⋮ & ⋮ & ⋮\\\\\n\t 0 <= ... < 200 DM                          & 15 & existing credits paid back duly till now    & education           & 1514 & 100 <= ... < 500 DM        & 1 <= ... < 4 years & 4 & male : single                       & guarantor    & ⋯ & real estate                                       & 22 & none & own      & 1 & skilled employee/official                                  & 1 & no  & yes & 1\\\\\n\t no checking account                        & 24 & existing credits paid back duly till now    & car (new)           & 7393 & ... < 100 DM               & 1 <= ... < 4 years & 1 & male : single                       & none         & ⋯ & building society savings agreement/life insurance & 43 & none & own      & 1 & unskilled - resident                                       & 2 & no  & yes & 1\\\\\n\t ... < 100 DM                               & 24 & all credits at this bank paid back duly     & car (new)           & 1193 & ... < 100 DM               & unemployed         & 1 & female : divorced/separated/married & co-applicant & ⋯ & unknown/no property                               & 29 & none & rent     & 2 & unemployed/unskilled - non-resident                        & 1 & no  & yes & 0\\\\\n\t ... < 100 DM                               & 60 & existing credits paid back duly till now    & others              & 7297 & ... < 100 DM               & ... >= 7 years     & 4 & male : single                       & co-applicant & ⋯ & unknown/no property                               & 36 & none & rent     & 1 & skilled employee/official                                  & 1 & no  & yes & 0\\\\\n\t no checking account                        & 30 & critical account/other credits existing     & domestic appliances & 2831 & ... < 100 DM               & 1 <= ... < 4 years & 4 & female : divorced/separated/married & none         & ⋯ & car or other                                      & 33 & none & own      & 1 & skilled employee/official                                  & 1 & yes & yes & 1\\\\\n\t ... >= 200 DM / salary for at least 1 year & 24 & existing credits paid back duly till now    & domestic appliances & 1258 & 500 <= ... < 1000 DM       & 1 <= ... < 4 years & 3 & female : divorced/separated/married & none         & ⋯ & car or other                                      & 57 & none & own      & 1 & unskilled - resident                                       & 1 & no  & yes & 1\\\\\n\t 0 <= ... < 200 DM                          &  6 & existing credits paid back duly till now    & domestic appliances &  753 & ... < 100 DM               & 1 <= ... < 4 years & 2 & female : divorced/separated/married & guarantor    & ⋯ & real estate                                       & 64 & none & own      & 1 & skilled employee/official                                  & 1 & no  & yes & 1\\\\\n\t 0 <= ... < 200 DM                          & 18 & delay in paying off in the past             & others              & 2427 & unknown/no savings account & ... >= 7 years     & 4 & male : single                       & none         & ⋯ & building society savings agreement/life insurance & 42 & none & own      & 2 & skilled employee/official                                  & 1 & no  & yes & 1\\\\\n\t no checking account                        & 24 & delay in paying off in the past             & car (new)           & 2538 & ... < 100 DM               & ... >= 7 years     & 4 & male : single                       & none         & ⋯ & car or other                                      & 47 & none & own      & 2 & unskilled - resident                                       & 2 & no  & yes & 0\\\\\n\t 0 <= ... < 200 DM                          & 15 & all credits at this bank paid back duly     & car (new)           & 1264 & 100 <= ... < 500 DM        & 1 <= ... < 4 years & 2 & male : married/widowed              & none         & ⋯ & building society savings agreement/life insurance & 25 & none & rent     & 1 & skilled employee/official                                  & 1 & no  & yes & 0\\\\\n\t 0 <= ... < 200 DM                          & 30 & critical account/other credits existing     & radio/television    & 8386 & ... < 100 DM               & 4 <= ... < 7 years & 2 & male : single                       & none         & ⋯ & building society savings agreement/life insurance & 49 & none & own      & 1 & skilled employee/official                                  & 1 & no  & yes & 0\\\\\n\t no checking account                        & 48 & existing credits paid back duly till now    & others              & 4844 & ... < 100 DM               & unemployed         & 3 & male : single                       & none         & ⋯ & car or other                                      & 33 & bank & rent     & 1 & management/self-employed/highly qualified employee/officer & 1 & yes & yes & 0\\\\\n\t ... >= 200 DM / salary for at least 1 year & 21 & existing credits paid back duly till now    & car (new)           & 2923 & 100 <= ... < 500 DM        & 1 <= ... < 4 years & 1 & female : divorced/separated/married & none         & ⋯ & car or other                                      & 28 & bank & own      & 1 & management/self-employed/highly qualified employee/officer & 1 & yes & yes & 1\\\\\n\t ... < 100 DM                               & 36 & existing credits paid back duly till now    & car (used)          & 8229 & ... < 100 DM               & 1 <= ... < 4 years & 2 & male : single                       & none         & ⋯ & building society savings agreement/life insurance & 26 & none & own      & 1 & skilled employee/official                                  & 2 & no  & yes & 0\\\\\n\t no checking account                        & 24 & critical account/other credits existing     & radio/television    & 2028 & ... < 100 DM               & 4 <= ... < 7 years & 2 & male : single                       & none         & ⋯ & building society savings agreement/life insurance & 30 & none & own      & 2 & unskilled - resident                                       & 1 & no  & yes & 1\\\\\n\t ... < 100 DM                               & 15 & critical account/other credits existing     & radio/television    & 1433 & ... < 100 DM               & 1 <= ... < 4 years & 4 & female : divorced/separated/married & none         & ⋯ & building society savings agreement/life insurance & 25 & none & rent     & 2 & skilled employee/official                                  & 1 & no  & yes & 1\\\\\n\t ... >= 200 DM / salary for at least 1 year & 42 & no credits taken/all credits paid back duly & others              & 6289 & ... < 100 DM               & ... < 1 year       & 2 & male : divorced/separated           & none         & ⋯ & building society savings agreement/life insurance & 33 & none & own      & 2 & skilled employee/official                                  & 1 & no  & yes & 1\\\\\n\t no checking account                        & 13 & existing credits paid back duly till now    & domestic appliances & 1409 & 100 <= ... < 500 DM        & unemployed         & 2 & female : divorced/separated/married & none         & ⋯ & real estate                                       & 64 & none & own      & 1 & skilled employee/official                                  & 1 & no  & yes & 1\\\\\n\t ... < 100 DM                               & 24 & existing credits paid back duly till now    & car (used)          & 6579 & ... < 100 DM               & unemployed         & 4 & male : single                       & none         & ⋯ & unknown/no property                               & 29 & none & for free & 1 & management/self-employed/highly qualified employee/officer & 1 & yes & yes & 1\\\\\n\t 0 <= ... < 200 DM                          & 24 & critical account/other credits existing     & domestic appliances & 1743 & ... < 100 DM               & ... >= 7 years     & 4 & male : single                       & none         & ⋯ & building society savings agreement/life insurance & 48 & none & own      & 2 & unskilled - resident                                       & 1 & no  & yes & 1\\\\\n\t no checking account                        & 12 & critical account/other credits existing     & retraining          & 3565 & unknown/no savings account & ... < 1 year       & 2 & male : single                       & none         & ⋯ & building society savings agreement/life insurance & 37 & none & own      & 2 & unskilled - resident                                       & 2 & no  & yes & 1\\\\\n\t no checking account                        & 15 & all credits at this bank paid back duly     & domestic appliances & 1569 & 100 <= ... < 500 DM        & ... >= 7 years     & 4 & male : single                       & none         & ⋯ & car or other                                      & 34 & bank & own      & 1 & unskilled - resident                                       & 2 & no  & yes & 1\\\\\n\t ... < 100 DM                               & 18 & existing credits paid back duly till now    & domestic appliances & 1936 & unknown/no savings account & 4 <= ... < 7 years & 2 & male : married/widowed              & none         & ⋯ & car or other                                      & 23 & none & rent     & 2 & unskilled - resident                                       & 1 & no  & yes & 1\\\\\n\t ... < 100 DM                               & 36 & existing credits paid back duly till now    & radio/television    & 3959 & ... < 100 DM               & unemployed         & 4 & male : single                       & none         & ⋯ & building society savings agreement/life insurance & 30 & none & own      & 1 & management/self-employed/highly qualified employee/officer & 1 & yes & yes & 1\\\\\n\t no checking account                        & 12 & existing credits paid back duly till now    & car (new)           & 2390 & unknown/no savings account & ... >= 7 years     & 4 & male : single                       & none         & ⋯ & car or other                                      & 50 & none & own      & 1 & skilled employee/official                                  & 1 & yes & yes & 1\\\\\n\t no checking account                        & 12 & existing credits paid back duly till now    & radio/television    & 1736 & ... < 100 DM               & 4 <= ... < 7 years & 3 & female : divorced/separated/married & none         & ⋯ & real estate                                       & 31 & none & own      & 1 & unskilled - resident                                       & 1 & no  & yes & 1\\\\\n\t ... < 100 DM                               & 30 & existing credits paid back duly till now    & car (used)          & 3857 & ... < 100 DM               & 1 <= ... < 4 years & 4 & male : divorced/separated           & none         & ⋯ & building society savings agreement/life insurance & 40 & none & own      & 1 & management/self-employed/highly qualified employee/officer & 1 & yes & yes & 1\\\\\n\t no checking account                        & 12 & existing credits paid back duly till now    & domestic appliances &  804 & ... < 100 DM               & ... >= 7 years     & 4 & male : single                       & none         & ⋯ & car or other                                      & 38 & none & own      & 1 & skilled employee/official                                  & 1 & no  & yes & 1\\\\\n\t ... < 100 DM                               & 45 & existing credits paid back duly till now    & domestic appliances & 1845 & ... < 100 DM               & 1 <= ... < 4 years & 4 & male : single                       & none         & ⋯ & unknown/no property                               & 23 & none & for free & 1 & skilled employee/official                                  & 1 & yes & yes & 0\\\\\n\t 0 <= ... < 200 DM                          & 45 & critical account/other credits existing     & car (used)          & 4576 & 100 <= ... < 500 DM        & unemployed         & 3 & male : single                       & none         & ⋯ & car or other                                      & 27 & none & own      & 1 & skilled employee/official                                  & 1 & no  & yes & 1\\\\\n\\end{tabular}\n",
            "text/markdown": "\nA spec_tbl_df: 1000 × 21\n\n| status &lt;chr&gt; | duration &lt;dbl&gt; | credit_history &lt;chr&gt; | purpose &lt;chr&gt; | amount &lt;dbl&gt; | savings &lt;chr&gt; | employment_duration &lt;chr&gt; | installment_rate &lt;dbl&gt; | personal_status_sex &lt;chr&gt; | other_debtors &lt;chr&gt; | ⋯ ⋯ | property &lt;chr&gt; | age &lt;dbl&gt; | other_installment_plans &lt;chr&gt; | housing &lt;chr&gt; | number_credits &lt;dbl&gt; | job &lt;chr&gt; | people_liable &lt;dbl&gt; | telephone &lt;chr&gt; | foreign_worker &lt;chr&gt; | credit_risk &lt;dbl&gt; |\n|---|---|---|---|---|---|---|---|---|---|---|---|---|---|---|---|---|---|---|---|---|\n| ... &lt; 100 DM                               |  6 | critical account/other credits existing     | domestic appliances |  1169 | unknown/no savings account | ... &gt;= 7 years     | 4 | male : single                       | none      | ⋯ | real estate                                       | 67 | none | own      | 2 | skilled employee/official                                  | 1 | yes | yes | 1 |\n| 0 &lt;= ... &lt; 200 DM                          | 48 | existing credits paid back duly till now    | domestic appliances |  5951 | ... &lt; 100 DM               | 1 &lt;= ... &lt; 4 years | 2 | female : divorced/separated/married | none      | ⋯ | real estate                                       | 22 | none | own      | 1 | skilled employee/official                                  | 1 | no  | yes | 0 |\n| no checking account                        | 12 | critical account/other credits existing     | retraining          |  2096 | ... &lt; 100 DM               | 4 &lt;= ... &lt; 7 years | 2 | male : single                       | none      | ⋯ | real estate                                       | 49 | none | own      | 1 | unskilled - resident                                       | 2 | no  | yes | 1 |\n| ... &lt; 100 DM                               | 42 | existing credits paid back duly till now    | radio/television    |  7882 | ... &lt; 100 DM               | 4 &lt;= ... &lt; 7 years | 2 | male : single                       | guarantor | ⋯ | building society savings agreement/life insurance | 45 | none | for free | 1 | skilled employee/official                                  | 2 | no  | yes | 1 |\n| ... &lt; 100 DM                               | 24 | delay in paying off in the past             | car (new)           |  4870 | ... &lt; 100 DM               | 1 &lt;= ... &lt; 4 years | 3 | male : single                       | none      | ⋯ | unknown/no property                               | 53 | none | for free | 2 | skilled employee/official                                  | 2 | no  | yes | 0 |\n| no checking account                        | 36 | existing credits paid back duly till now    | retraining          |  9055 | unknown/no savings account | 1 &lt;= ... &lt; 4 years | 2 | male : single                       | none      | ⋯ | unknown/no property                               | 35 | none | for free | 1 | unskilled - resident                                       | 2 | yes | yes | 1 |\n| no checking account                        | 24 | existing credits paid back duly till now    | radio/television    |  2835 | 500 &lt;= ... &lt; 1000 DM       | ... &gt;= 7 years     | 3 | male : single                       | none      | ⋯ | building society savings agreement/life insurance | 53 | none | own      | 1 | skilled employee/official                                  | 1 | no  | yes | 1 |\n| 0 &lt;= ... &lt; 200 DM                          | 36 | existing credits paid back duly till now    | car (used)          |  6948 | ... &lt; 100 DM               | 1 &lt;= ... &lt; 4 years | 2 | male : single                       | none      | ⋯ | car or other                                      | 35 | none | rent     | 1 | management/self-employed/highly qualified employee/officer | 1 | yes | yes | 1 |\n| no checking account                        | 12 | existing credits paid back duly till now    | domestic appliances |  3059 | ... &gt;= 1000 DM             | 4 &lt;= ... &lt; 7 years | 2 | male : divorced/separated           | none      | ⋯ | real estate                                       | 61 | none | own      | 1 | unskilled - resident                                       | 1 | no  | yes | 1 |\n| 0 &lt;= ... &lt; 200 DM                          | 30 | critical account/other credits existing     | car (new)           |  5234 | ... &lt; 100 DM               | unemployed         | 4 | male : married/widowed              | none      | ⋯ | car or other                                      | 28 | none | own      | 2 | management/self-employed/highly qualified employee/officer | 1 | no  | yes | 0 |\n| 0 &lt;= ... &lt; 200 DM                          | 12 | existing credits paid back duly till now    | car (new)           |  1295 | ... &lt; 100 DM               | ... &lt; 1 year       | 3 | female : divorced/separated/married | none      | ⋯ | car or other                                      | 25 | none | rent     | 1 | skilled employee/official                                  | 1 | no  | yes | 0 |\n| ... &lt; 100 DM                               | 48 | existing credits paid back duly till now    | others              |  4308 | ... &lt; 100 DM               | ... &lt; 1 year       | 3 | female : divorced/separated/married | none      | ⋯ | building society savings agreement/life insurance | 24 | none | rent     | 1 | skilled employee/official                                  | 1 | no  | yes | 0 |\n| 0 &lt;= ... &lt; 200 DM                          | 12 | existing credits paid back duly till now    | domestic appliances |  1567 | ... &lt; 100 DM               | 1 &lt;= ... &lt; 4 years | 1 | female : divorced/separated/married | none      | ⋯ | car or other                                      | 22 | none | own      | 1 | skilled employee/official                                  | 1 | yes | yes | 1 |\n| ... &lt; 100 DM                               | 24 | critical account/other credits existing     | car (new)           |  1199 | ... &lt; 100 DM               | ... &gt;= 7 years     | 4 | male : single                       | none      | ⋯ | car or other                                      | 60 | none | own      | 2 | unskilled - resident                                       | 1 | no  | yes | 0 |\n| ... &lt; 100 DM                               | 15 | existing credits paid back duly till now    | car (new)           |  1403 | ... &lt; 100 DM               | 1 &lt;= ... &lt; 4 years | 2 | female : divorced/separated/married | none      | ⋯ | car or other                                      | 28 | none | rent     | 1 | skilled employee/official                                  | 1 | no  | yes | 1 |\n| ... &lt; 100 DM                               | 24 | existing credits paid back duly till now    | domestic appliances |  1282 | 100 &lt;= ... &lt; 500 DM        | 1 &lt;= ... &lt; 4 years | 4 | female : divorced/separated/married | none      | ⋯ | car or other                                      | 32 | none | own      | 1 | unskilled - resident                                       | 1 | no  | yes | 0 |\n| no checking account                        | 24 | critical account/other credits existing     | domestic appliances |  2424 | unknown/no savings account | ... &gt;= 7 years     | 4 | male : single                       | none      | ⋯ | building society savings agreement/life insurance | 53 | none | own      | 2 | skilled employee/official                                  | 1 | no  | yes | 1 |\n| ... &lt; 100 DM                               | 30 | no credits taken/all credits paid back duly | others              |  8072 | unknown/no savings account | ... &lt; 1 year       | 2 | male : single                       | none      | ⋯ | car or other                                      | 25 | bank | own      | 3 | skilled employee/official                                  | 1 | no  | yes | 1 |\n| 0 &lt;= ... &lt; 200 DM                          | 24 | existing credits paid back duly till now    | car (used)          | 12579 | ... &lt; 100 DM               | ... &gt;= 7 years     | 4 | female : divorced/separated/married | none      | ⋯ | unknown/no property                               | 44 | none | for free | 1 | management/self-employed/highly qualified employee/officer | 1 | yes | yes | 0 |\n| no checking account                        | 24 | existing credits paid back duly till now    | domestic appliances |  3430 | 500 &lt;= ... &lt; 1000 DM       | ... &gt;= 7 years     | 3 | male : single                       | none      | ⋯ | car or other                                      | 31 | none | own      | 1 | skilled employee/official                                  | 2 | yes | yes | 1 |\n| no checking account                        |  9 | critical account/other credits existing     | car (new)           |  2134 | ... &lt; 100 DM               | 1 &lt;= ... &lt; 4 years | 4 | male : single                       | none      | ⋯ | car or other                                      | 48 | none | own      | 3 | skilled employee/official                                  | 1 | yes | yes | 1 |\n| ... &lt; 100 DM                               |  6 | existing credits paid back duly till now    | domestic appliances |  2647 | 500 &lt;= ... &lt; 1000 DM       | 1 &lt;= ... &lt; 4 years | 2 | male : single                       | none      | ⋯ | real estate                                       | 44 | none | rent     | 1 | skilled employee/official                                  | 2 | no  | yes | 1 |\n| ... &lt; 100 DM                               | 10 | critical account/other credits existing     | car (new)           |  2241 | ... &lt; 100 DM               | ... &lt; 1 year       | 1 | male : single                       | none      | ⋯ | real estate                                       | 48 | none | rent     | 2 | unskilled - resident                                       | 2 | no  | no  | 1 |\n| 0 &lt;= ... &lt; 200 DM                          | 12 | critical account/other credits existing     | car (used)          |  1804 | 100 &lt;= ... &lt; 500 DM        | ... &lt; 1 year       | 3 | male : single                       | none      | ⋯ | building society savings agreement/life insurance | 44 | none | own      | 1 | skilled employee/official                                  | 1 | no  | yes | 1 |\n| no checking account                        | 10 | critical account/other credits existing     | radio/television    |  2069 | unknown/no savings account | 1 &lt;= ... &lt; 4 years | 2 | male : married/widowed              | none      | ⋯ | car or other                                      | 26 | none | own      | 2 | skilled employee/official                                  | 1 | no  | no  | 1 |\n| ... &lt; 100 DM                               |  6 | existing credits paid back duly till now    | radio/television    |  1374 | ... &lt; 100 DM               | 1 &lt;= ... &lt; 4 years | 1 | male : single                       | none      | ⋯ | real estate                                       | 36 | bank | own      | 1 | unskilled - resident                                       | 1 | yes | yes | 1 |\n| no checking account                        |  6 | no credits taken/all credits paid back duly | domestic appliances |   426 | ... &lt; 100 DM               | ... &gt;= 7 years     | 4 | male : married/widowed              | none      | ⋯ | car or other                                      | 39 | none | own      | 1 | unskilled - resident                                       | 1 | no  | yes | 1 |\n| ... &gt;= 200 DM / salary for at least 1 year | 12 | all credits at this bank paid back duly     | domestic appliances |   409 | ... &gt;= 1000 DM             | 1 &lt;= ... &lt; 4 years | 3 | female : divorced/separated/married | none      | ⋯ | real estate                                       | 42 | none | rent     | 2 | skilled employee/official                                  | 1 | no  | yes | 1 |\n| 0 &lt;= ... &lt; 200 DM                          |  7 | existing credits paid back duly till now    | domestic appliances |  2415 | ... &lt; 100 DM               | 1 &lt;= ... &lt; 4 years | 3 | male : single                       | guarantor | ⋯ | real estate                                       | 34 | none | own      | 1 | skilled employee/official                                  | 1 | no  | yes | 1 |\n| ... &lt; 100 DM                               | 60 | delay in paying off in the past             | others              |  6836 | ... &lt; 100 DM               | ... &gt;= 7 years     | 3 | male : single                       | none      | ⋯ | unknown/no property                               | 63 | none | own      | 2 | skilled employee/official                                  | 1 | yes | yes | 0 |\n| ⋮ | ⋮ | ⋮ | ⋮ | ⋮ | ⋮ | ⋮ | ⋮ | ⋮ | ⋮ | ⋱ | ⋮ | ⋮ | ⋮ | ⋮ | ⋮ | ⋮ | ⋮ | ⋮ | ⋮ | ⋮ |\n| 0 &lt;= ... &lt; 200 DM                          | 15 | existing credits paid back duly till now    | education           | 1514 | 100 &lt;= ... &lt; 500 DM        | 1 &lt;= ... &lt; 4 years | 4 | male : single                       | guarantor    | ⋯ | real estate                                       | 22 | none | own      | 1 | skilled employee/official                                  | 1 | no  | yes | 1 |\n| no checking account                        | 24 | existing credits paid back duly till now    | car (new)           | 7393 | ... &lt; 100 DM               | 1 &lt;= ... &lt; 4 years | 1 | male : single                       | none         | ⋯ | building society savings agreement/life insurance | 43 | none | own      | 1 | unskilled - resident                                       | 2 | no  | yes | 1 |\n| ... &lt; 100 DM                               | 24 | all credits at this bank paid back duly     | car (new)           | 1193 | ... &lt; 100 DM               | unemployed         | 1 | female : divorced/separated/married | co-applicant | ⋯ | unknown/no property                               | 29 | none | rent     | 2 | unemployed/unskilled - non-resident                        | 1 | no  | yes | 0 |\n| ... &lt; 100 DM                               | 60 | existing credits paid back duly till now    | others              | 7297 | ... &lt; 100 DM               | ... &gt;= 7 years     | 4 | male : single                       | co-applicant | ⋯ | unknown/no property                               | 36 | none | rent     | 1 | skilled employee/official                                  | 1 | no  | yes | 0 |\n| no checking account                        | 30 | critical account/other credits existing     | domestic appliances | 2831 | ... &lt; 100 DM               | 1 &lt;= ... &lt; 4 years | 4 | female : divorced/separated/married | none         | ⋯ | car or other                                      | 33 | none | own      | 1 | skilled employee/official                                  | 1 | yes | yes | 1 |\n| ... &gt;= 200 DM / salary for at least 1 year | 24 | existing credits paid back duly till now    | domestic appliances | 1258 | 500 &lt;= ... &lt; 1000 DM       | 1 &lt;= ... &lt; 4 years | 3 | female : divorced/separated/married | none         | ⋯ | car or other                                      | 57 | none | own      | 1 | unskilled - resident                                       | 1 | no  | yes | 1 |\n| 0 &lt;= ... &lt; 200 DM                          |  6 | existing credits paid back duly till now    | domestic appliances |  753 | ... &lt; 100 DM               | 1 &lt;= ... &lt; 4 years | 2 | female : divorced/separated/married | guarantor    | ⋯ | real estate                                       | 64 | none | own      | 1 | skilled employee/official                                  | 1 | no  | yes | 1 |\n| 0 &lt;= ... &lt; 200 DM                          | 18 | delay in paying off in the past             | others              | 2427 | unknown/no savings account | ... &gt;= 7 years     | 4 | male : single                       | none         | ⋯ | building society savings agreement/life insurance | 42 | none | own      | 2 | skilled employee/official                                  | 1 | no  | yes | 1 |\n| no checking account                        | 24 | delay in paying off in the past             | car (new)           | 2538 | ... &lt; 100 DM               | ... &gt;= 7 years     | 4 | male : single                       | none         | ⋯ | car or other                                      | 47 | none | own      | 2 | unskilled - resident                                       | 2 | no  | yes | 0 |\n| 0 &lt;= ... &lt; 200 DM                          | 15 | all credits at this bank paid back duly     | car (new)           | 1264 | 100 &lt;= ... &lt; 500 DM        | 1 &lt;= ... &lt; 4 years | 2 | male : married/widowed              | none         | ⋯ | building society savings agreement/life insurance | 25 | none | rent     | 1 | skilled employee/official                                  | 1 | no  | yes | 0 |\n| 0 &lt;= ... &lt; 200 DM                          | 30 | critical account/other credits existing     | radio/television    | 8386 | ... &lt; 100 DM               | 4 &lt;= ... &lt; 7 years | 2 | male : single                       | none         | ⋯ | building society savings agreement/life insurance | 49 | none | own      | 1 | skilled employee/official                                  | 1 | no  | yes | 0 |\n| no checking account                        | 48 | existing credits paid back duly till now    | others              | 4844 | ... &lt; 100 DM               | unemployed         | 3 | male : single                       | none         | ⋯ | car or other                                      | 33 | bank | rent     | 1 | management/self-employed/highly qualified employee/officer | 1 | yes | yes | 0 |\n| ... &gt;= 200 DM / salary for at least 1 year | 21 | existing credits paid back duly till now    | car (new)           | 2923 | 100 &lt;= ... &lt; 500 DM        | 1 &lt;= ... &lt; 4 years | 1 | female : divorced/separated/married | none         | ⋯ | car or other                                      | 28 | bank | own      | 1 | management/self-employed/highly qualified employee/officer | 1 | yes | yes | 1 |\n| ... &lt; 100 DM                               | 36 | existing credits paid back duly till now    | car (used)          | 8229 | ... &lt; 100 DM               | 1 &lt;= ... &lt; 4 years | 2 | male : single                       | none         | ⋯ | building society savings agreement/life insurance | 26 | none | own      | 1 | skilled employee/official                                  | 2 | no  | yes | 0 |\n| no checking account                        | 24 | critical account/other credits existing     | radio/television    | 2028 | ... &lt; 100 DM               | 4 &lt;= ... &lt; 7 years | 2 | male : single                       | none         | ⋯ | building society savings agreement/life insurance | 30 | none | own      | 2 | unskilled - resident                                       | 1 | no  | yes | 1 |\n| ... &lt; 100 DM                               | 15 | critical account/other credits existing     | radio/television    | 1433 | ... &lt; 100 DM               | 1 &lt;= ... &lt; 4 years | 4 | female : divorced/separated/married | none         | ⋯ | building society savings agreement/life insurance | 25 | none | rent     | 2 | skilled employee/official                                  | 1 | no  | yes | 1 |\n| ... &gt;= 200 DM / salary for at least 1 year | 42 | no credits taken/all credits paid back duly | others              | 6289 | ... &lt; 100 DM               | ... &lt; 1 year       | 2 | male : divorced/separated           | none         | ⋯ | building society savings agreement/life insurance | 33 | none | own      | 2 | skilled employee/official                                  | 1 | no  | yes | 1 |\n| no checking account                        | 13 | existing credits paid back duly till now    | domestic appliances | 1409 | 100 &lt;= ... &lt; 500 DM        | unemployed         | 2 | female : divorced/separated/married | none         | ⋯ | real estate                                       | 64 | none | own      | 1 | skilled employee/official                                  | 1 | no  | yes | 1 |\n| ... &lt; 100 DM                               | 24 | existing credits paid back duly till now    | car (used)          | 6579 | ... &lt; 100 DM               | unemployed         | 4 | male : single                       | none         | ⋯ | unknown/no property                               | 29 | none | for free | 1 | management/self-employed/highly qualified employee/officer | 1 | yes | yes | 1 |\n| 0 &lt;= ... &lt; 200 DM                          | 24 | critical account/other credits existing     | domestic appliances | 1743 | ... &lt; 100 DM               | ... &gt;= 7 years     | 4 | male : single                       | none         | ⋯ | building society savings agreement/life insurance | 48 | none | own      | 2 | unskilled - resident                                       | 1 | no  | yes | 1 |\n| no checking account                        | 12 | critical account/other credits existing     | retraining          | 3565 | unknown/no savings account | ... &lt; 1 year       | 2 | male : single                       | none         | ⋯ | building society savings agreement/life insurance | 37 | none | own      | 2 | unskilled - resident                                       | 2 | no  | yes | 1 |\n| no checking account                        | 15 | all credits at this bank paid back duly     | domestic appliances | 1569 | 100 &lt;= ... &lt; 500 DM        | ... &gt;= 7 years     | 4 | male : single                       | none         | ⋯ | car or other                                      | 34 | bank | own      | 1 | unskilled - resident                                       | 2 | no  | yes | 1 |\n| ... &lt; 100 DM                               | 18 | existing credits paid back duly till now    | domestic appliances | 1936 | unknown/no savings account | 4 &lt;= ... &lt; 7 years | 2 | male : married/widowed              | none         | ⋯ | car or other                                      | 23 | none | rent     | 2 | unskilled - resident                                       | 1 | no  | yes | 1 |\n| ... &lt; 100 DM                               | 36 | existing credits paid back duly till now    | radio/television    | 3959 | ... &lt; 100 DM               | unemployed         | 4 | male : single                       | none         | ⋯ | building society savings agreement/life insurance | 30 | none | own      | 1 | management/self-employed/highly qualified employee/officer | 1 | yes | yes | 1 |\n| no checking account                        | 12 | existing credits paid back duly till now    | car (new)           | 2390 | unknown/no savings account | ... &gt;= 7 years     | 4 | male : single                       | none         | ⋯ | car or other                                      | 50 | none | own      | 1 | skilled employee/official                                  | 1 | yes | yes | 1 |\n| no checking account                        | 12 | existing credits paid back duly till now    | radio/television    | 1736 | ... &lt; 100 DM               | 4 &lt;= ... &lt; 7 years | 3 | female : divorced/separated/married | none         | ⋯ | real estate                                       | 31 | none | own      | 1 | unskilled - resident                                       | 1 | no  | yes | 1 |\n| ... &lt; 100 DM                               | 30 | existing credits paid back duly till now    | car (used)          | 3857 | ... &lt; 100 DM               | 1 &lt;= ... &lt; 4 years | 4 | male : divorced/separated           | none         | ⋯ | building society savings agreement/life insurance | 40 | none | own      | 1 | management/self-employed/highly qualified employee/officer | 1 | yes | yes | 1 |\n| no checking account                        | 12 | existing credits paid back duly till now    | domestic appliances |  804 | ... &lt; 100 DM               | ... &gt;= 7 years     | 4 | male : single                       | none         | ⋯ | car or other                                      | 38 | none | own      | 1 | skilled employee/official                                  | 1 | no  | yes | 1 |\n| ... &lt; 100 DM                               | 45 | existing credits paid back duly till now    | domestic appliances | 1845 | ... &lt; 100 DM               | 1 &lt;= ... &lt; 4 years | 4 | male : single                       | none         | ⋯ | unknown/no property                               | 23 | none | for free | 1 | skilled employee/official                                  | 1 | yes | yes | 0 |\n| 0 &lt;= ... &lt; 200 DM                          | 45 | critical account/other credits existing     | car (used)          | 4576 | 100 &lt;= ... &lt; 500 DM        | unemployed         | 3 | male : single                       | none         | ⋯ | car or other                                      | 27 | none | own      | 1 | skilled employee/official                                  | 1 | no  | yes | 1 |\n\n",
            "text/html": [
              "<table class=\"dataframe\">\n",
              "<caption>A spec_tbl_df: 1000 × 21</caption>\n",
              "<thead>\n",
              "\t<tr><th scope=col>status</th><th scope=col>duration</th><th scope=col>credit_history</th><th scope=col>purpose</th><th scope=col>amount</th><th scope=col>savings</th><th scope=col>employment_duration</th><th scope=col>installment_rate</th><th scope=col>personal_status_sex</th><th scope=col>other_debtors</th><th scope=col>⋯</th><th scope=col>property</th><th scope=col>age</th><th scope=col>other_installment_plans</th><th scope=col>housing</th><th scope=col>number_credits</th><th scope=col>job</th><th scope=col>people_liable</th><th scope=col>telephone</th><th scope=col>foreign_worker</th><th scope=col>credit_risk</th></tr>\n",
              "\t<tr><th scope=col>&lt;chr&gt;</th><th scope=col>&lt;dbl&gt;</th><th scope=col>&lt;chr&gt;</th><th scope=col>&lt;chr&gt;</th><th scope=col>&lt;dbl&gt;</th><th scope=col>&lt;chr&gt;</th><th scope=col>&lt;chr&gt;</th><th scope=col>&lt;dbl&gt;</th><th scope=col>&lt;chr&gt;</th><th scope=col>&lt;chr&gt;</th><th scope=col>⋯</th><th scope=col>&lt;chr&gt;</th><th scope=col>&lt;dbl&gt;</th><th scope=col>&lt;chr&gt;</th><th scope=col>&lt;chr&gt;</th><th scope=col>&lt;dbl&gt;</th><th scope=col>&lt;chr&gt;</th><th scope=col>&lt;dbl&gt;</th><th scope=col>&lt;chr&gt;</th><th scope=col>&lt;chr&gt;</th><th scope=col>&lt;dbl&gt;</th></tr>\n",
              "</thead>\n",
              "<tbody>\n",
              "\t<tr><td><span style=white-space:pre-wrap>... &lt; 100 DM                              </span></td><td> 6</td><td><span style=white-space:pre-wrap>critical account/other credits existing    </span></td><td>domestic appliances</td><td> 1169</td><td>unknown/no savings account</td><td><span style=white-space:pre-wrap>... &gt;= 7 years    </span></td><td>4</td><td><span style=white-space:pre-wrap>male : single                      </span></td><td><span style=white-space:pre-wrap>none     </span></td><td>⋯</td><td><span style=white-space:pre-wrap>real estate                                      </span></td><td>67</td><td>none</td><td><span style=white-space:pre-wrap>own     </span></td><td>2</td><td><span style=white-space:pre-wrap>skilled employee/official                                 </span></td><td>1</td><td>yes</td><td>yes</td><td>1</td></tr>\n",
              "\t<tr><td><span style=white-space:pre-wrap>0 &lt;= ... &lt; 200 DM                         </span></td><td>48</td><td><span style=white-space:pre-wrap>existing credits paid back duly till now   </span></td><td>domestic appliances</td><td> 5951</td><td><span style=white-space:pre-wrap>... &lt; 100 DM              </span></td><td>1 &lt;= ... &lt; 4 years</td><td>2</td><td>female : divorced/separated/married</td><td><span style=white-space:pre-wrap>none     </span></td><td>⋯</td><td><span style=white-space:pre-wrap>real estate                                      </span></td><td>22</td><td>none</td><td><span style=white-space:pre-wrap>own     </span></td><td>1</td><td><span style=white-space:pre-wrap>skilled employee/official                                 </span></td><td>1</td><td>no </td><td>yes</td><td>0</td></tr>\n",
              "\t<tr><td><span style=white-space:pre-wrap>no checking account                       </span></td><td>12</td><td><span style=white-space:pre-wrap>critical account/other credits existing    </span></td><td><span style=white-space:pre-wrap>retraining         </span></td><td> 2096</td><td><span style=white-space:pre-wrap>... &lt; 100 DM              </span></td><td>4 &lt;= ... &lt; 7 years</td><td>2</td><td><span style=white-space:pre-wrap>male : single                      </span></td><td><span style=white-space:pre-wrap>none     </span></td><td>⋯</td><td><span style=white-space:pre-wrap>real estate                                      </span></td><td>49</td><td>none</td><td><span style=white-space:pre-wrap>own     </span></td><td>1</td><td><span style=white-space:pre-wrap>unskilled - resident                                      </span></td><td>2</td><td>no </td><td>yes</td><td>1</td></tr>\n",
              "\t<tr><td><span style=white-space:pre-wrap>... &lt; 100 DM                              </span></td><td>42</td><td><span style=white-space:pre-wrap>existing credits paid back duly till now   </span></td><td><span style=white-space:pre-wrap>radio/television   </span></td><td> 7882</td><td><span style=white-space:pre-wrap>... &lt; 100 DM              </span></td><td>4 &lt;= ... &lt; 7 years</td><td>2</td><td><span style=white-space:pre-wrap>male : single                      </span></td><td>guarantor</td><td>⋯</td><td>building society savings agreement/life insurance</td><td>45</td><td>none</td><td>for free</td><td>1</td><td><span style=white-space:pre-wrap>skilled employee/official                                 </span></td><td>2</td><td>no </td><td>yes</td><td>1</td></tr>\n",
              "\t<tr><td><span style=white-space:pre-wrap>... &lt; 100 DM                              </span></td><td>24</td><td><span style=white-space:pre-wrap>delay in paying off in the past            </span></td><td><span style=white-space:pre-wrap>car (new)          </span></td><td> 4870</td><td><span style=white-space:pre-wrap>... &lt; 100 DM              </span></td><td>1 &lt;= ... &lt; 4 years</td><td>3</td><td><span style=white-space:pre-wrap>male : single                      </span></td><td><span style=white-space:pre-wrap>none     </span></td><td>⋯</td><td><span style=white-space:pre-wrap>unknown/no property                              </span></td><td>53</td><td>none</td><td>for free</td><td>2</td><td><span style=white-space:pre-wrap>skilled employee/official                                 </span></td><td>2</td><td>no </td><td>yes</td><td>0</td></tr>\n",
              "\t<tr><td><span style=white-space:pre-wrap>no checking account                       </span></td><td>36</td><td><span style=white-space:pre-wrap>existing credits paid back duly till now   </span></td><td><span style=white-space:pre-wrap>retraining         </span></td><td> 9055</td><td>unknown/no savings account</td><td>1 &lt;= ... &lt; 4 years</td><td>2</td><td><span style=white-space:pre-wrap>male : single                      </span></td><td><span style=white-space:pre-wrap>none     </span></td><td>⋯</td><td><span style=white-space:pre-wrap>unknown/no property                              </span></td><td>35</td><td>none</td><td>for free</td><td>1</td><td><span style=white-space:pre-wrap>unskilled - resident                                      </span></td><td>2</td><td>yes</td><td>yes</td><td>1</td></tr>\n",
              "\t<tr><td><span style=white-space:pre-wrap>no checking account                       </span></td><td>24</td><td><span style=white-space:pre-wrap>existing credits paid back duly till now   </span></td><td><span style=white-space:pre-wrap>radio/television   </span></td><td> 2835</td><td><span style=white-space:pre-wrap>500 &lt;= ... &lt; 1000 DM      </span></td><td><span style=white-space:pre-wrap>... &gt;= 7 years    </span></td><td>3</td><td><span style=white-space:pre-wrap>male : single                      </span></td><td><span style=white-space:pre-wrap>none     </span></td><td>⋯</td><td>building society savings agreement/life insurance</td><td>53</td><td>none</td><td><span style=white-space:pre-wrap>own     </span></td><td>1</td><td><span style=white-space:pre-wrap>skilled employee/official                                 </span></td><td>1</td><td>no </td><td>yes</td><td>1</td></tr>\n",
              "\t<tr><td><span style=white-space:pre-wrap>0 &lt;= ... &lt; 200 DM                         </span></td><td>36</td><td><span style=white-space:pre-wrap>existing credits paid back duly till now   </span></td><td><span style=white-space:pre-wrap>car (used)         </span></td><td> 6948</td><td><span style=white-space:pre-wrap>... &lt; 100 DM              </span></td><td>1 &lt;= ... &lt; 4 years</td><td>2</td><td><span style=white-space:pre-wrap>male : single                      </span></td><td><span style=white-space:pre-wrap>none     </span></td><td>⋯</td><td><span style=white-space:pre-wrap>car or other                                     </span></td><td>35</td><td>none</td><td><span style=white-space:pre-wrap>rent    </span></td><td>1</td><td>management/self-employed/highly qualified employee/officer</td><td>1</td><td>yes</td><td>yes</td><td>1</td></tr>\n",
              "\t<tr><td><span style=white-space:pre-wrap>no checking account                       </span></td><td>12</td><td><span style=white-space:pre-wrap>existing credits paid back duly till now   </span></td><td>domestic appliances</td><td> 3059</td><td><span style=white-space:pre-wrap>... &gt;= 1000 DM            </span></td><td>4 &lt;= ... &lt; 7 years</td><td>2</td><td><span style=white-space:pre-wrap>male : divorced/separated          </span></td><td><span style=white-space:pre-wrap>none     </span></td><td>⋯</td><td><span style=white-space:pre-wrap>real estate                                      </span></td><td>61</td><td>none</td><td><span style=white-space:pre-wrap>own     </span></td><td>1</td><td><span style=white-space:pre-wrap>unskilled - resident                                      </span></td><td>1</td><td>no </td><td>yes</td><td>1</td></tr>\n",
              "\t<tr><td><span style=white-space:pre-wrap>0 &lt;= ... &lt; 200 DM                         </span></td><td>30</td><td><span style=white-space:pre-wrap>critical account/other credits existing    </span></td><td><span style=white-space:pre-wrap>car (new)          </span></td><td> 5234</td><td><span style=white-space:pre-wrap>... &lt; 100 DM              </span></td><td><span style=white-space:pre-wrap>unemployed        </span></td><td>4</td><td><span style=white-space:pre-wrap>male : married/widowed             </span></td><td><span style=white-space:pre-wrap>none     </span></td><td>⋯</td><td><span style=white-space:pre-wrap>car or other                                     </span></td><td>28</td><td>none</td><td><span style=white-space:pre-wrap>own     </span></td><td>2</td><td>management/self-employed/highly qualified employee/officer</td><td>1</td><td>no </td><td>yes</td><td>0</td></tr>\n",
              "\t<tr><td><span style=white-space:pre-wrap>0 &lt;= ... &lt; 200 DM                         </span></td><td>12</td><td><span style=white-space:pre-wrap>existing credits paid back duly till now   </span></td><td><span style=white-space:pre-wrap>car (new)          </span></td><td> 1295</td><td><span style=white-space:pre-wrap>... &lt; 100 DM              </span></td><td><span style=white-space:pre-wrap>... &lt; 1 year      </span></td><td>3</td><td>female : divorced/separated/married</td><td><span style=white-space:pre-wrap>none     </span></td><td>⋯</td><td><span style=white-space:pre-wrap>car or other                                     </span></td><td>25</td><td>none</td><td><span style=white-space:pre-wrap>rent    </span></td><td>1</td><td><span style=white-space:pre-wrap>skilled employee/official                                 </span></td><td>1</td><td>no </td><td>yes</td><td>0</td></tr>\n",
              "\t<tr><td><span style=white-space:pre-wrap>... &lt; 100 DM                              </span></td><td>48</td><td><span style=white-space:pre-wrap>existing credits paid back duly till now   </span></td><td><span style=white-space:pre-wrap>others             </span></td><td> 4308</td><td><span style=white-space:pre-wrap>... &lt; 100 DM              </span></td><td><span style=white-space:pre-wrap>... &lt; 1 year      </span></td><td>3</td><td>female : divorced/separated/married</td><td><span style=white-space:pre-wrap>none     </span></td><td>⋯</td><td>building society savings agreement/life insurance</td><td>24</td><td>none</td><td><span style=white-space:pre-wrap>rent    </span></td><td>1</td><td><span style=white-space:pre-wrap>skilled employee/official                                 </span></td><td>1</td><td>no </td><td>yes</td><td>0</td></tr>\n",
              "\t<tr><td><span style=white-space:pre-wrap>0 &lt;= ... &lt; 200 DM                         </span></td><td>12</td><td><span style=white-space:pre-wrap>existing credits paid back duly till now   </span></td><td>domestic appliances</td><td> 1567</td><td><span style=white-space:pre-wrap>... &lt; 100 DM              </span></td><td>1 &lt;= ... &lt; 4 years</td><td>1</td><td>female : divorced/separated/married</td><td><span style=white-space:pre-wrap>none     </span></td><td>⋯</td><td><span style=white-space:pre-wrap>car or other                                     </span></td><td>22</td><td>none</td><td><span style=white-space:pre-wrap>own     </span></td><td>1</td><td><span style=white-space:pre-wrap>skilled employee/official                                 </span></td><td>1</td><td>yes</td><td>yes</td><td>1</td></tr>\n",
              "\t<tr><td><span style=white-space:pre-wrap>... &lt; 100 DM                              </span></td><td>24</td><td><span style=white-space:pre-wrap>critical account/other credits existing    </span></td><td><span style=white-space:pre-wrap>car (new)          </span></td><td> 1199</td><td><span style=white-space:pre-wrap>... &lt; 100 DM              </span></td><td><span style=white-space:pre-wrap>... &gt;= 7 years    </span></td><td>4</td><td><span style=white-space:pre-wrap>male : single                      </span></td><td><span style=white-space:pre-wrap>none     </span></td><td>⋯</td><td><span style=white-space:pre-wrap>car or other                                     </span></td><td>60</td><td>none</td><td><span style=white-space:pre-wrap>own     </span></td><td>2</td><td><span style=white-space:pre-wrap>unskilled - resident                                      </span></td><td>1</td><td>no </td><td>yes</td><td>0</td></tr>\n",
              "\t<tr><td><span style=white-space:pre-wrap>... &lt; 100 DM                              </span></td><td>15</td><td><span style=white-space:pre-wrap>existing credits paid back duly till now   </span></td><td><span style=white-space:pre-wrap>car (new)          </span></td><td> 1403</td><td><span style=white-space:pre-wrap>... &lt; 100 DM              </span></td><td>1 &lt;= ... &lt; 4 years</td><td>2</td><td>female : divorced/separated/married</td><td><span style=white-space:pre-wrap>none     </span></td><td>⋯</td><td><span style=white-space:pre-wrap>car or other                                     </span></td><td>28</td><td>none</td><td><span style=white-space:pre-wrap>rent    </span></td><td>1</td><td><span style=white-space:pre-wrap>skilled employee/official                                 </span></td><td>1</td><td>no </td><td>yes</td><td>1</td></tr>\n",
              "\t<tr><td><span style=white-space:pre-wrap>... &lt; 100 DM                              </span></td><td>24</td><td><span style=white-space:pre-wrap>existing credits paid back duly till now   </span></td><td>domestic appliances</td><td> 1282</td><td><span style=white-space:pre-wrap>100 &lt;= ... &lt; 500 DM       </span></td><td>1 &lt;= ... &lt; 4 years</td><td>4</td><td>female : divorced/separated/married</td><td><span style=white-space:pre-wrap>none     </span></td><td>⋯</td><td><span style=white-space:pre-wrap>car or other                                     </span></td><td>32</td><td>none</td><td><span style=white-space:pre-wrap>own     </span></td><td>1</td><td><span style=white-space:pre-wrap>unskilled - resident                                      </span></td><td>1</td><td>no </td><td>yes</td><td>0</td></tr>\n",
              "\t<tr><td><span style=white-space:pre-wrap>no checking account                       </span></td><td>24</td><td><span style=white-space:pre-wrap>critical account/other credits existing    </span></td><td>domestic appliances</td><td> 2424</td><td>unknown/no savings account</td><td><span style=white-space:pre-wrap>... &gt;= 7 years    </span></td><td>4</td><td><span style=white-space:pre-wrap>male : single                      </span></td><td><span style=white-space:pre-wrap>none     </span></td><td>⋯</td><td>building society savings agreement/life insurance</td><td>53</td><td>none</td><td><span style=white-space:pre-wrap>own     </span></td><td>2</td><td><span style=white-space:pre-wrap>skilled employee/official                                 </span></td><td>1</td><td>no </td><td>yes</td><td>1</td></tr>\n",
              "\t<tr><td><span style=white-space:pre-wrap>... &lt; 100 DM                              </span></td><td>30</td><td>no credits taken/all credits paid back duly</td><td><span style=white-space:pre-wrap>others             </span></td><td> 8072</td><td>unknown/no savings account</td><td><span style=white-space:pre-wrap>... &lt; 1 year      </span></td><td>2</td><td><span style=white-space:pre-wrap>male : single                      </span></td><td><span style=white-space:pre-wrap>none     </span></td><td>⋯</td><td><span style=white-space:pre-wrap>car or other                                     </span></td><td>25</td><td>bank</td><td><span style=white-space:pre-wrap>own     </span></td><td>3</td><td><span style=white-space:pre-wrap>skilled employee/official                                 </span></td><td>1</td><td>no </td><td>yes</td><td>1</td></tr>\n",
              "\t<tr><td><span style=white-space:pre-wrap>0 &lt;= ... &lt; 200 DM                         </span></td><td>24</td><td><span style=white-space:pre-wrap>existing credits paid back duly till now   </span></td><td><span style=white-space:pre-wrap>car (used)         </span></td><td>12579</td><td><span style=white-space:pre-wrap>... &lt; 100 DM              </span></td><td><span style=white-space:pre-wrap>... &gt;= 7 years    </span></td><td>4</td><td>female : divorced/separated/married</td><td><span style=white-space:pre-wrap>none     </span></td><td>⋯</td><td><span style=white-space:pre-wrap>unknown/no property                              </span></td><td>44</td><td>none</td><td>for free</td><td>1</td><td>management/self-employed/highly qualified employee/officer</td><td>1</td><td>yes</td><td>yes</td><td>0</td></tr>\n",
              "\t<tr><td><span style=white-space:pre-wrap>no checking account                       </span></td><td>24</td><td><span style=white-space:pre-wrap>existing credits paid back duly till now   </span></td><td>domestic appliances</td><td> 3430</td><td><span style=white-space:pre-wrap>500 &lt;= ... &lt; 1000 DM      </span></td><td><span style=white-space:pre-wrap>... &gt;= 7 years    </span></td><td>3</td><td><span style=white-space:pre-wrap>male : single                      </span></td><td><span style=white-space:pre-wrap>none     </span></td><td>⋯</td><td><span style=white-space:pre-wrap>car or other                                     </span></td><td>31</td><td>none</td><td><span style=white-space:pre-wrap>own     </span></td><td>1</td><td><span style=white-space:pre-wrap>skilled employee/official                                 </span></td><td>2</td><td>yes</td><td>yes</td><td>1</td></tr>\n",
              "\t<tr><td><span style=white-space:pre-wrap>no checking account                       </span></td><td> 9</td><td><span style=white-space:pre-wrap>critical account/other credits existing    </span></td><td><span style=white-space:pre-wrap>car (new)          </span></td><td> 2134</td><td><span style=white-space:pre-wrap>... &lt; 100 DM              </span></td><td>1 &lt;= ... &lt; 4 years</td><td>4</td><td><span style=white-space:pre-wrap>male : single                      </span></td><td><span style=white-space:pre-wrap>none     </span></td><td>⋯</td><td><span style=white-space:pre-wrap>car or other                                     </span></td><td>48</td><td>none</td><td><span style=white-space:pre-wrap>own     </span></td><td>3</td><td><span style=white-space:pre-wrap>skilled employee/official                                 </span></td><td>1</td><td>yes</td><td>yes</td><td>1</td></tr>\n",
              "\t<tr><td><span style=white-space:pre-wrap>... &lt; 100 DM                              </span></td><td> 6</td><td><span style=white-space:pre-wrap>existing credits paid back duly till now   </span></td><td>domestic appliances</td><td> 2647</td><td><span style=white-space:pre-wrap>500 &lt;= ... &lt; 1000 DM      </span></td><td>1 &lt;= ... &lt; 4 years</td><td>2</td><td><span style=white-space:pre-wrap>male : single                      </span></td><td><span style=white-space:pre-wrap>none     </span></td><td>⋯</td><td><span style=white-space:pre-wrap>real estate                                      </span></td><td>44</td><td>none</td><td><span style=white-space:pre-wrap>rent    </span></td><td>1</td><td><span style=white-space:pre-wrap>skilled employee/official                                 </span></td><td>2</td><td>no </td><td>yes</td><td>1</td></tr>\n",
              "\t<tr><td><span style=white-space:pre-wrap>... &lt; 100 DM                              </span></td><td>10</td><td><span style=white-space:pre-wrap>critical account/other credits existing    </span></td><td><span style=white-space:pre-wrap>car (new)          </span></td><td> 2241</td><td><span style=white-space:pre-wrap>... &lt; 100 DM              </span></td><td><span style=white-space:pre-wrap>... &lt; 1 year      </span></td><td>1</td><td><span style=white-space:pre-wrap>male : single                      </span></td><td><span style=white-space:pre-wrap>none     </span></td><td>⋯</td><td><span style=white-space:pre-wrap>real estate                                      </span></td><td>48</td><td>none</td><td><span style=white-space:pre-wrap>rent    </span></td><td>2</td><td><span style=white-space:pre-wrap>unskilled - resident                                      </span></td><td>2</td><td>no </td><td>no </td><td>1</td></tr>\n",
              "\t<tr><td><span style=white-space:pre-wrap>0 &lt;= ... &lt; 200 DM                         </span></td><td>12</td><td><span style=white-space:pre-wrap>critical account/other credits existing    </span></td><td><span style=white-space:pre-wrap>car (used)         </span></td><td> 1804</td><td><span style=white-space:pre-wrap>100 &lt;= ... &lt; 500 DM       </span></td><td><span style=white-space:pre-wrap>... &lt; 1 year      </span></td><td>3</td><td><span style=white-space:pre-wrap>male : single                      </span></td><td><span style=white-space:pre-wrap>none     </span></td><td>⋯</td><td>building society savings agreement/life insurance</td><td>44</td><td>none</td><td><span style=white-space:pre-wrap>own     </span></td><td>1</td><td><span style=white-space:pre-wrap>skilled employee/official                                 </span></td><td>1</td><td>no </td><td>yes</td><td>1</td></tr>\n",
              "\t<tr><td><span style=white-space:pre-wrap>no checking account                       </span></td><td>10</td><td><span style=white-space:pre-wrap>critical account/other credits existing    </span></td><td><span style=white-space:pre-wrap>radio/television   </span></td><td> 2069</td><td>unknown/no savings account</td><td>1 &lt;= ... &lt; 4 years</td><td>2</td><td><span style=white-space:pre-wrap>male : married/widowed             </span></td><td><span style=white-space:pre-wrap>none     </span></td><td>⋯</td><td><span style=white-space:pre-wrap>car or other                                     </span></td><td>26</td><td>none</td><td><span style=white-space:pre-wrap>own     </span></td><td>2</td><td><span style=white-space:pre-wrap>skilled employee/official                                 </span></td><td>1</td><td>no </td><td>no </td><td>1</td></tr>\n",
              "\t<tr><td><span style=white-space:pre-wrap>... &lt; 100 DM                              </span></td><td> 6</td><td><span style=white-space:pre-wrap>existing credits paid back duly till now   </span></td><td><span style=white-space:pre-wrap>radio/television   </span></td><td> 1374</td><td><span style=white-space:pre-wrap>... &lt; 100 DM              </span></td><td>1 &lt;= ... &lt; 4 years</td><td>1</td><td><span style=white-space:pre-wrap>male : single                      </span></td><td><span style=white-space:pre-wrap>none     </span></td><td>⋯</td><td><span style=white-space:pre-wrap>real estate                                      </span></td><td>36</td><td>bank</td><td><span style=white-space:pre-wrap>own     </span></td><td>1</td><td><span style=white-space:pre-wrap>unskilled - resident                                      </span></td><td>1</td><td>yes</td><td>yes</td><td>1</td></tr>\n",
              "\t<tr><td><span style=white-space:pre-wrap>no checking account                       </span></td><td> 6</td><td>no credits taken/all credits paid back duly</td><td>domestic appliances</td><td><span style=white-space:pre-wrap>  426</span></td><td><span style=white-space:pre-wrap>... &lt; 100 DM              </span></td><td><span style=white-space:pre-wrap>... &gt;= 7 years    </span></td><td>4</td><td><span style=white-space:pre-wrap>male : married/widowed             </span></td><td><span style=white-space:pre-wrap>none     </span></td><td>⋯</td><td><span style=white-space:pre-wrap>car or other                                     </span></td><td>39</td><td>none</td><td><span style=white-space:pre-wrap>own     </span></td><td>1</td><td><span style=white-space:pre-wrap>unskilled - resident                                      </span></td><td>1</td><td>no </td><td>yes</td><td>1</td></tr>\n",
              "\t<tr><td>... &gt;= 200 DM / salary for at least 1 year</td><td>12</td><td><span style=white-space:pre-wrap>all credits at this bank paid back duly    </span></td><td>domestic appliances</td><td><span style=white-space:pre-wrap>  409</span></td><td><span style=white-space:pre-wrap>... &gt;= 1000 DM            </span></td><td>1 &lt;= ... &lt; 4 years</td><td>3</td><td>female : divorced/separated/married</td><td><span style=white-space:pre-wrap>none     </span></td><td>⋯</td><td><span style=white-space:pre-wrap>real estate                                      </span></td><td>42</td><td>none</td><td><span style=white-space:pre-wrap>rent    </span></td><td>2</td><td><span style=white-space:pre-wrap>skilled employee/official                                 </span></td><td>1</td><td>no </td><td>yes</td><td>1</td></tr>\n",
              "\t<tr><td><span style=white-space:pre-wrap>0 &lt;= ... &lt; 200 DM                         </span></td><td> 7</td><td><span style=white-space:pre-wrap>existing credits paid back duly till now   </span></td><td>domestic appliances</td><td> 2415</td><td><span style=white-space:pre-wrap>... &lt; 100 DM              </span></td><td>1 &lt;= ... &lt; 4 years</td><td>3</td><td><span style=white-space:pre-wrap>male : single                      </span></td><td>guarantor</td><td>⋯</td><td><span style=white-space:pre-wrap>real estate                                      </span></td><td>34</td><td>none</td><td><span style=white-space:pre-wrap>own     </span></td><td>1</td><td><span style=white-space:pre-wrap>skilled employee/official                                 </span></td><td>1</td><td>no </td><td>yes</td><td>1</td></tr>\n",
              "\t<tr><td><span style=white-space:pre-wrap>... &lt; 100 DM                              </span></td><td>60</td><td><span style=white-space:pre-wrap>delay in paying off in the past            </span></td><td><span style=white-space:pre-wrap>others             </span></td><td> 6836</td><td><span style=white-space:pre-wrap>... &lt; 100 DM              </span></td><td><span style=white-space:pre-wrap>... &gt;= 7 years    </span></td><td>3</td><td><span style=white-space:pre-wrap>male : single                      </span></td><td><span style=white-space:pre-wrap>none     </span></td><td>⋯</td><td><span style=white-space:pre-wrap>unknown/no property                              </span></td><td>63</td><td>none</td><td><span style=white-space:pre-wrap>own     </span></td><td>2</td><td><span style=white-space:pre-wrap>skilled employee/official                                 </span></td><td>1</td><td>yes</td><td>yes</td><td>0</td></tr>\n",
              "\t<tr><td>⋮</td><td>⋮</td><td>⋮</td><td>⋮</td><td>⋮</td><td>⋮</td><td>⋮</td><td>⋮</td><td>⋮</td><td>⋮</td><td>⋱</td><td>⋮</td><td>⋮</td><td>⋮</td><td>⋮</td><td>⋮</td><td>⋮</td><td>⋮</td><td>⋮</td><td>⋮</td><td>⋮</td></tr>\n",
              "\t<tr><td><span style=white-space:pre-wrap>0 &lt;= ... &lt; 200 DM                         </span></td><td>15</td><td><span style=white-space:pre-wrap>existing credits paid back duly till now   </span></td><td><span style=white-space:pre-wrap>education          </span></td><td>1514</td><td><span style=white-space:pre-wrap>100 &lt;= ... &lt; 500 DM       </span></td><td>1 &lt;= ... &lt; 4 years</td><td>4</td><td><span style=white-space:pre-wrap>male : single                      </span></td><td><span style=white-space:pre-wrap>guarantor   </span></td><td>⋯</td><td><span style=white-space:pre-wrap>real estate                                      </span></td><td>22</td><td>none</td><td><span style=white-space:pre-wrap>own     </span></td><td>1</td><td><span style=white-space:pre-wrap>skilled employee/official                                 </span></td><td>1</td><td>no </td><td>yes</td><td>1</td></tr>\n",
              "\t<tr><td><span style=white-space:pre-wrap>no checking account                       </span></td><td>24</td><td><span style=white-space:pre-wrap>existing credits paid back duly till now   </span></td><td><span style=white-space:pre-wrap>car (new)          </span></td><td>7393</td><td><span style=white-space:pre-wrap>... &lt; 100 DM              </span></td><td>1 &lt;= ... &lt; 4 years</td><td>1</td><td><span style=white-space:pre-wrap>male : single                      </span></td><td><span style=white-space:pre-wrap>none        </span></td><td>⋯</td><td>building society savings agreement/life insurance</td><td>43</td><td>none</td><td><span style=white-space:pre-wrap>own     </span></td><td>1</td><td><span style=white-space:pre-wrap>unskilled - resident                                      </span></td><td>2</td><td>no </td><td>yes</td><td>1</td></tr>\n",
              "\t<tr><td><span style=white-space:pre-wrap>... &lt; 100 DM                              </span></td><td>24</td><td><span style=white-space:pre-wrap>all credits at this bank paid back duly    </span></td><td><span style=white-space:pre-wrap>car (new)          </span></td><td>1193</td><td><span style=white-space:pre-wrap>... &lt; 100 DM              </span></td><td><span style=white-space:pre-wrap>unemployed        </span></td><td>1</td><td>female : divorced/separated/married</td><td>co-applicant</td><td>⋯</td><td><span style=white-space:pre-wrap>unknown/no property                              </span></td><td>29</td><td>none</td><td><span style=white-space:pre-wrap>rent    </span></td><td>2</td><td><span style=white-space:pre-wrap>unemployed/unskilled - non-resident                       </span></td><td>1</td><td>no </td><td>yes</td><td>0</td></tr>\n",
              "\t<tr><td><span style=white-space:pre-wrap>... &lt; 100 DM                              </span></td><td>60</td><td><span style=white-space:pre-wrap>existing credits paid back duly till now   </span></td><td><span style=white-space:pre-wrap>others             </span></td><td>7297</td><td><span style=white-space:pre-wrap>... &lt; 100 DM              </span></td><td><span style=white-space:pre-wrap>... &gt;= 7 years    </span></td><td>4</td><td><span style=white-space:pre-wrap>male : single                      </span></td><td>co-applicant</td><td>⋯</td><td><span style=white-space:pre-wrap>unknown/no property                              </span></td><td>36</td><td>none</td><td><span style=white-space:pre-wrap>rent    </span></td><td>1</td><td><span style=white-space:pre-wrap>skilled employee/official                                 </span></td><td>1</td><td>no </td><td>yes</td><td>0</td></tr>\n",
              "\t<tr><td><span style=white-space:pre-wrap>no checking account                       </span></td><td>30</td><td><span style=white-space:pre-wrap>critical account/other credits existing    </span></td><td>domestic appliances</td><td>2831</td><td><span style=white-space:pre-wrap>... &lt; 100 DM              </span></td><td>1 &lt;= ... &lt; 4 years</td><td>4</td><td>female : divorced/separated/married</td><td><span style=white-space:pre-wrap>none        </span></td><td>⋯</td><td><span style=white-space:pre-wrap>car or other                                     </span></td><td>33</td><td>none</td><td><span style=white-space:pre-wrap>own     </span></td><td>1</td><td><span style=white-space:pre-wrap>skilled employee/official                                 </span></td><td>1</td><td>yes</td><td>yes</td><td>1</td></tr>\n",
              "\t<tr><td>... &gt;= 200 DM / salary for at least 1 year</td><td>24</td><td><span style=white-space:pre-wrap>existing credits paid back duly till now   </span></td><td>domestic appliances</td><td>1258</td><td><span style=white-space:pre-wrap>500 &lt;= ... &lt; 1000 DM      </span></td><td>1 &lt;= ... &lt; 4 years</td><td>3</td><td>female : divorced/separated/married</td><td><span style=white-space:pre-wrap>none        </span></td><td>⋯</td><td><span style=white-space:pre-wrap>car or other                                     </span></td><td>57</td><td>none</td><td><span style=white-space:pre-wrap>own     </span></td><td>1</td><td><span style=white-space:pre-wrap>unskilled - resident                                      </span></td><td>1</td><td>no </td><td>yes</td><td>1</td></tr>\n",
              "\t<tr><td><span style=white-space:pre-wrap>0 &lt;= ... &lt; 200 DM                         </span></td><td> 6</td><td><span style=white-space:pre-wrap>existing credits paid back duly till now   </span></td><td>domestic appliances</td><td> 753</td><td><span style=white-space:pre-wrap>... &lt; 100 DM              </span></td><td>1 &lt;= ... &lt; 4 years</td><td>2</td><td>female : divorced/separated/married</td><td><span style=white-space:pre-wrap>guarantor   </span></td><td>⋯</td><td><span style=white-space:pre-wrap>real estate                                      </span></td><td>64</td><td>none</td><td><span style=white-space:pre-wrap>own     </span></td><td>1</td><td><span style=white-space:pre-wrap>skilled employee/official                                 </span></td><td>1</td><td>no </td><td>yes</td><td>1</td></tr>\n",
              "\t<tr><td><span style=white-space:pre-wrap>0 &lt;= ... &lt; 200 DM                         </span></td><td>18</td><td><span style=white-space:pre-wrap>delay in paying off in the past            </span></td><td><span style=white-space:pre-wrap>others             </span></td><td>2427</td><td>unknown/no savings account</td><td><span style=white-space:pre-wrap>... &gt;= 7 years    </span></td><td>4</td><td><span style=white-space:pre-wrap>male : single                      </span></td><td><span style=white-space:pre-wrap>none        </span></td><td>⋯</td><td>building society savings agreement/life insurance</td><td>42</td><td>none</td><td><span style=white-space:pre-wrap>own     </span></td><td>2</td><td><span style=white-space:pre-wrap>skilled employee/official                                 </span></td><td>1</td><td>no </td><td>yes</td><td>1</td></tr>\n",
              "\t<tr><td><span style=white-space:pre-wrap>no checking account                       </span></td><td>24</td><td><span style=white-space:pre-wrap>delay in paying off in the past            </span></td><td><span style=white-space:pre-wrap>car (new)          </span></td><td>2538</td><td><span style=white-space:pre-wrap>... &lt; 100 DM              </span></td><td><span style=white-space:pre-wrap>... &gt;= 7 years    </span></td><td>4</td><td><span style=white-space:pre-wrap>male : single                      </span></td><td><span style=white-space:pre-wrap>none        </span></td><td>⋯</td><td><span style=white-space:pre-wrap>car or other                                     </span></td><td>47</td><td>none</td><td><span style=white-space:pre-wrap>own     </span></td><td>2</td><td><span style=white-space:pre-wrap>unskilled - resident                                      </span></td><td>2</td><td>no </td><td>yes</td><td>0</td></tr>\n",
              "\t<tr><td><span style=white-space:pre-wrap>0 &lt;= ... &lt; 200 DM                         </span></td><td>15</td><td><span style=white-space:pre-wrap>all credits at this bank paid back duly    </span></td><td><span style=white-space:pre-wrap>car (new)          </span></td><td>1264</td><td><span style=white-space:pre-wrap>100 &lt;= ... &lt; 500 DM       </span></td><td>1 &lt;= ... &lt; 4 years</td><td>2</td><td><span style=white-space:pre-wrap>male : married/widowed             </span></td><td><span style=white-space:pre-wrap>none        </span></td><td>⋯</td><td>building society savings agreement/life insurance</td><td>25</td><td>none</td><td><span style=white-space:pre-wrap>rent    </span></td><td>1</td><td><span style=white-space:pre-wrap>skilled employee/official                                 </span></td><td>1</td><td>no </td><td>yes</td><td>0</td></tr>\n",
              "\t<tr><td><span style=white-space:pre-wrap>0 &lt;= ... &lt; 200 DM                         </span></td><td>30</td><td><span style=white-space:pre-wrap>critical account/other credits existing    </span></td><td><span style=white-space:pre-wrap>radio/television   </span></td><td>8386</td><td><span style=white-space:pre-wrap>... &lt; 100 DM              </span></td><td>4 &lt;= ... &lt; 7 years</td><td>2</td><td><span style=white-space:pre-wrap>male : single                      </span></td><td><span style=white-space:pre-wrap>none        </span></td><td>⋯</td><td>building society savings agreement/life insurance</td><td>49</td><td>none</td><td><span style=white-space:pre-wrap>own     </span></td><td>1</td><td><span style=white-space:pre-wrap>skilled employee/official                                 </span></td><td>1</td><td>no </td><td>yes</td><td>0</td></tr>\n",
              "\t<tr><td><span style=white-space:pre-wrap>no checking account                       </span></td><td>48</td><td><span style=white-space:pre-wrap>existing credits paid back duly till now   </span></td><td><span style=white-space:pre-wrap>others             </span></td><td>4844</td><td><span style=white-space:pre-wrap>... &lt; 100 DM              </span></td><td><span style=white-space:pre-wrap>unemployed        </span></td><td>3</td><td><span style=white-space:pre-wrap>male : single                      </span></td><td><span style=white-space:pre-wrap>none        </span></td><td>⋯</td><td><span style=white-space:pre-wrap>car or other                                     </span></td><td>33</td><td>bank</td><td><span style=white-space:pre-wrap>rent    </span></td><td>1</td><td>management/self-employed/highly qualified employee/officer</td><td>1</td><td>yes</td><td>yes</td><td>0</td></tr>\n",
              "\t<tr><td>... &gt;= 200 DM / salary for at least 1 year</td><td>21</td><td><span style=white-space:pre-wrap>existing credits paid back duly till now   </span></td><td><span style=white-space:pre-wrap>car (new)          </span></td><td>2923</td><td><span style=white-space:pre-wrap>100 &lt;= ... &lt; 500 DM       </span></td><td>1 &lt;= ... &lt; 4 years</td><td>1</td><td>female : divorced/separated/married</td><td><span style=white-space:pre-wrap>none        </span></td><td>⋯</td><td><span style=white-space:pre-wrap>car or other                                     </span></td><td>28</td><td>bank</td><td><span style=white-space:pre-wrap>own     </span></td><td>1</td><td>management/self-employed/highly qualified employee/officer</td><td>1</td><td>yes</td><td>yes</td><td>1</td></tr>\n",
              "\t<tr><td><span style=white-space:pre-wrap>... &lt; 100 DM                              </span></td><td>36</td><td><span style=white-space:pre-wrap>existing credits paid back duly till now   </span></td><td><span style=white-space:pre-wrap>car (used)         </span></td><td>8229</td><td><span style=white-space:pre-wrap>... &lt; 100 DM              </span></td><td>1 &lt;= ... &lt; 4 years</td><td>2</td><td><span style=white-space:pre-wrap>male : single                      </span></td><td><span style=white-space:pre-wrap>none        </span></td><td>⋯</td><td>building society savings agreement/life insurance</td><td>26</td><td>none</td><td><span style=white-space:pre-wrap>own     </span></td><td>1</td><td><span style=white-space:pre-wrap>skilled employee/official                                 </span></td><td>2</td><td>no </td><td>yes</td><td>0</td></tr>\n",
              "\t<tr><td><span style=white-space:pre-wrap>no checking account                       </span></td><td>24</td><td><span style=white-space:pre-wrap>critical account/other credits existing    </span></td><td><span style=white-space:pre-wrap>radio/television   </span></td><td>2028</td><td><span style=white-space:pre-wrap>... &lt; 100 DM              </span></td><td>4 &lt;= ... &lt; 7 years</td><td>2</td><td><span style=white-space:pre-wrap>male : single                      </span></td><td><span style=white-space:pre-wrap>none        </span></td><td>⋯</td><td>building society savings agreement/life insurance</td><td>30</td><td>none</td><td><span style=white-space:pre-wrap>own     </span></td><td>2</td><td><span style=white-space:pre-wrap>unskilled - resident                                      </span></td><td>1</td><td>no </td><td>yes</td><td>1</td></tr>\n",
              "\t<tr><td><span style=white-space:pre-wrap>... &lt; 100 DM                              </span></td><td>15</td><td><span style=white-space:pre-wrap>critical account/other credits existing    </span></td><td><span style=white-space:pre-wrap>radio/television   </span></td><td>1433</td><td><span style=white-space:pre-wrap>... &lt; 100 DM              </span></td><td>1 &lt;= ... &lt; 4 years</td><td>4</td><td>female : divorced/separated/married</td><td><span style=white-space:pre-wrap>none        </span></td><td>⋯</td><td>building society savings agreement/life insurance</td><td>25</td><td>none</td><td><span style=white-space:pre-wrap>rent    </span></td><td>2</td><td><span style=white-space:pre-wrap>skilled employee/official                                 </span></td><td>1</td><td>no </td><td>yes</td><td>1</td></tr>\n",
              "\t<tr><td>... &gt;= 200 DM / salary for at least 1 year</td><td>42</td><td>no credits taken/all credits paid back duly</td><td><span style=white-space:pre-wrap>others             </span></td><td>6289</td><td><span style=white-space:pre-wrap>... &lt; 100 DM              </span></td><td><span style=white-space:pre-wrap>... &lt; 1 year      </span></td><td>2</td><td><span style=white-space:pre-wrap>male : divorced/separated          </span></td><td><span style=white-space:pre-wrap>none        </span></td><td>⋯</td><td>building society savings agreement/life insurance</td><td>33</td><td>none</td><td><span style=white-space:pre-wrap>own     </span></td><td>2</td><td><span style=white-space:pre-wrap>skilled employee/official                                 </span></td><td>1</td><td>no </td><td>yes</td><td>1</td></tr>\n",
              "\t<tr><td><span style=white-space:pre-wrap>no checking account                       </span></td><td>13</td><td><span style=white-space:pre-wrap>existing credits paid back duly till now   </span></td><td>domestic appliances</td><td>1409</td><td><span style=white-space:pre-wrap>100 &lt;= ... &lt; 500 DM       </span></td><td><span style=white-space:pre-wrap>unemployed        </span></td><td>2</td><td>female : divorced/separated/married</td><td><span style=white-space:pre-wrap>none        </span></td><td>⋯</td><td><span style=white-space:pre-wrap>real estate                                      </span></td><td>64</td><td>none</td><td><span style=white-space:pre-wrap>own     </span></td><td>1</td><td><span style=white-space:pre-wrap>skilled employee/official                                 </span></td><td>1</td><td>no </td><td>yes</td><td>1</td></tr>\n",
              "\t<tr><td><span style=white-space:pre-wrap>... &lt; 100 DM                              </span></td><td>24</td><td><span style=white-space:pre-wrap>existing credits paid back duly till now   </span></td><td><span style=white-space:pre-wrap>car (used)         </span></td><td>6579</td><td><span style=white-space:pre-wrap>... &lt; 100 DM              </span></td><td><span style=white-space:pre-wrap>unemployed        </span></td><td>4</td><td><span style=white-space:pre-wrap>male : single                      </span></td><td><span style=white-space:pre-wrap>none        </span></td><td>⋯</td><td><span style=white-space:pre-wrap>unknown/no property                              </span></td><td>29</td><td>none</td><td>for free</td><td>1</td><td>management/self-employed/highly qualified employee/officer</td><td>1</td><td>yes</td><td>yes</td><td>1</td></tr>\n",
              "\t<tr><td><span style=white-space:pre-wrap>0 &lt;= ... &lt; 200 DM                         </span></td><td>24</td><td><span style=white-space:pre-wrap>critical account/other credits existing    </span></td><td>domestic appliances</td><td>1743</td><td><span style=white-space:pre-wrap>... &lt; 100 DM              </span></td><td><span style=white-space:pre-wrap>... &gt;= 7 years    </span></td><td>4</td><td><span style=white-space:pre-wrap>male : single                      </span></td><td><span style=white-space:pre-wrap>none        </span></td><td>⋯</td><td>building society savings agreement/life insurance</td><td>48</td><td>none</td><td><span style=white-space:pre-wrap>own     </span></td><td>2</td><td><span style=white-space:pre-wrap>unskilled - resident                                      </span></td><td>1</td><td>no </td><td>yes</td><td>1</td></tr>\n",
              "\t<tr><td><span style=white-space:pre-wrap>no checking account                       </span></td><td>12</td><td><span style=white-space:pre-wrap>critical account/other credits existing    </span></td><td><span style=white-space:pre-wrap>retraining         </span></td><td>3565</td><td>unknown/no savings account</td><td><span style=white-space:pre-wrap>... &lt; 1 year      </span></td><td>2</td><td><span style=white-space:pre-wrap>male : single                      </span></td><td><span style=white-space:pre-wrap>none        </span></td><td>⋯</td><td>building society savings agreement/life insurance</td><td>37</td><td>none</td><td><span style=white-space:pre-wrap>own     </span></td><td>2</td><td><span style=white-space:pre-wrap>unskilled - resident                                      </span></td><td>2</td><td>no </td><td>yes</td><td>1</td></tr>\n",
              "\t<tr><td><span style=white-space:pre-wrap>no checking account                       </span></td><td>15</td><td><span style=white-space:pre-wrap>all credits at this bank paid back duly    </span></td><td>domestic appliances</td><td>1569</td><td><span style=white-space:pre-wrap>100 &lt;= ... &lt; 500 DM       </span></td><td><span style=white-space:pre-wrap>... &gt;= 7 years    </span></td><td>4</td><td><span style=white-space:pre-wrap>male : single                      </span></td><td><span style=white-space:pre-wrap>none        </span></td><td>⋯</td><td><span style=white-space:pre-wrap>car or other                                     </span></td><td>34</td><td>bank</td><td><span style=white-space:pre-wrap>own     </span></td><td>1</td><td><span style=white-space:pre-wrap>unskilled - resident                                      </span></td><td>2</td><td>no </td><td>yes</td><td>1</td></tr>\n",
              "\t<tr><td><span style=white-space:pre-wrap>... &lt; 100 DM                              </span></td><td>18</td><td><span style=white-space:pre-wrap>existing credits paid back duly till now   </span></td><td>domestic appliances</td><td>1936</td><td>unknown/no savings account</td><td>4 &lt;= ... &lt; 7 years</td><td>2</td><td><span style=white-space:pre-wrap>male : married/widowed             </span></td><td><span style=white-space:pre-wrap>none        </span></td><td>⋯</td><td><span style=white-space:pre-wrap>car or other                                     </span></td><td>23</td><td>none</td><td><span style=white-space:pre-wrap>rent    </span></td><td>2</td><td><span style=white-space:pre-wrap>unskilled - resident                                      </span></td><td>1</td><td>no </td><td>yes</td><td>1</td></tr>\n",
              "\t<tr><td><span style=white-space:pre-wrap>... &lt; 100 DM                              </span></td><td>36</td><td><span style=white-space:pre-wrap>existing credits paid back duly till now   </span></td><td><span style=white-space:pre-wrap>radio/television   </span></td><td>3959</td><td><span style=white-space:pre-wrap>... &lt; 100 DM              </span></td><td><span style=white-space:pre-wrap>unemployed        </span></td><td>4</td><td><span style=white-space:pre-wrap>male : single                      </span></td><td><span style=white-space:pre-wrap>none        </span></td><td>⋯</td><td>building society savings agreement/life insurance</td><td>30</td><td>none</td><td><span style=white-space:pre-wrap>own     </span></td><td>1</td><td>management/self-employed/highly qualified employee/officer</td><td>1</td><td>yes</td><td>yes</td><td>1</td></tr>\n",
              "\t<tr><td><span style=white-space:pre-wrap>no checking account                       </span></td><td>12</td><td><span style=white-space:pre-wrap>existing credits paid back duly till now   </span></td><td><span style=white-space:pre-wrap>car (new)          </span></td><td>2390</td><td>unknown/no savings account</td><td><span style=white-space:pre-wrap>... &gt;= 7 years    </span></td><td>4</td><td><span style=white-space:pre-wrap>male : single                      </span></td><td><span style=white-space:pre-wrap>none        </span></td><td>⋯</td><td><span style=white-space:pre-wrap>car or other                                     </span></td><td>50</td><td>none</td><td><span style=white-space:pre-wrap>own     </span></td><td>1</td><td><span style=white-space:pre-wrap>skilled employee/official                                 </span></td><td>1</td><td>yes</td><td>yes</td><td>1</td></tr>\n",
              "\t<tr><td><span style=white-space:pre-wrap>no checking account                       </span></td><td>12</td><td><span style=white-space:pre-wrap>existing credits paid back duly till now   </span></td><td><span style=white-space:pre-wrap>radio/television   </span></td><td>1736</td><td><span style=white-space:pre-wrap>... &lt; 100 DM              </span></td><td>4 &lt;= ... &lt; 7 years</td><td>3</td><td>female : divorced/separated/married</td><td><span style=white-space:pre-wrap>none        </span></td><td>⋯</td><td><span style=white-space:pre-wrap>real estate                                      </span></td><td>31</td><td>none</td><td><span style=white-space:pre-wrap>own     </span></td><td>1</td><td><span style=white-space:pre-wrap>unskilled - resident                                      </span></td><td>1</td><td>no </td><td>yes</td><td>1</td></tr>\n",
              "\t<tr><td><span style=white-space:pre-wrap>... &lt; 100 DM                              </span></td><td>30</td><td><span style=white-space:pre-wrap>existing credits paid back duly till now   </span></td><td><span style=white-space:pre-wrap>car (used)         </span></td><td>3857</td><td><span style=white-space:pre-wrap>... &lt; 100 DM              </span></td><td>1 &lt;= ... &lt; 4 years</td><td>4</td><td><span style=white-space:pre-wrap>male : divorced/separated          </span></td><td><span style=white-space:pre-wrap>none        </span></td><td>⋯</td><td>building society savings agreement/life insurance</td><td>40</td><td>none</td><td><span style=white-space:pre-wrap>own     </span></td><td>1</td><td>management/self-employed/highly qualified employee/officer</td><td>1</td><td>yes</td><td>yes</td><td>1</td></tr>\n",
              "\t<tr><td><span style=white-space:pre-wrap>no checking account                       </span></td><td>12</td><td><span style=white-space:pre-wrap>existing credits paid back duly till now   </span></td><td>domestic appliances</td><td> 804</td><td><span style=white-space:pre-wrap>... &lt; 100 DM              </span></td><td><span style=white-space:pre-wrap>... &gt;= 7 years    </span></td><td>4</td><td><span style=white-space:pre-wrap>male : single                      </span></td><td><span style=white-space:pre-wrap>none        </span></td><td>⋯</td><td><span style=white-space:pre-wrap>car or other                                     </span></td><td>38</td><td>none</td><td><span style=white-space:pre-wrap>own     </span></td><td>1</td><td><span style=white-space:pre-wrap>skilled employee/official                                 </span></td><td>1</td><td>no </td><td>yes</td><td>1</td></tr>\n",
              "\t<tr><td><span style=white-space:pre-wrap>... &lt; 100 DM                              </span></td><td>45</td><td><span style=white-space:pre-wrap>existing credits paid back duly till now   </span></td><td>domestic appliances</td><td>1845</td><td><span style=white-space:pre-wrap>... &lt; 100 DM              </span></td><td>1 &lt;= ... &lt; 4 years</td><td>4</td><td><span style=white-space:pre-wrap>male : single                      </span></td><td><span style=white-space:pre-wrap>none        </span></td><td>⋯</td><td><span style=white-space:pre-wrap>unknown/no property                              </span></td><td>23</td><td>none</td><td>for free</td><td>1</td><td><span style=white-space:pre-wrap>skilled employee/official                                 </span></td><td>1</td><td>yes</td><td>yes</td><td>0</td></tr>\n",
              "\t<tr><td><span style=white-space:pre-wrap>0 &lt;= ... &lt; 200 DM                         </span></td><td>45</td><td><span style=white-space:pre-wrap>critical account/other credits existing    </span></td><td><span style=white-space:pre-wrap>car (used)         </span></td><td>4576</td><td><span style=white-space:pre-wrap>100 &lt;= ... &lt; 500 DM       </span></td><td><span style=white-space:pre-wrap>unemployed        </span></td><td>3</td><td><span style=white-space:pre-wrap>male : single                      </span></td><td><span style=white-space:pre-wrap>none        </span></td><td>⋯</td><td><span style=white-space:pre-wrap>car or other                                     </span></td><td>27</td><td>none</td><td><span style=white-space:pre-wrap>own     </span></td><td>1</td><td><span style=white-space:pre-wrap>skilled employee/official                                 </span></td><td>1</td><td>no </td><td>yes</td><td>1</td></tr>\n",
              "</tbody>\n",
              "</table>\n"
            ]
          },
          "metadata": {}
        }
      ],
      "source": [
        "install.packages(\"rpart.plot\")\n",
        "install.packages(\"caret\")\n",
        "install.packages(\"rpart\")\n",
        "\n",
        "install.packages(\"kernlab\")\n",
        "install.packages(\"caret\")\n",
        "library(rpart)\n",
        "library(rpart.plot)\n",
        "library(caret)\n",
        "library(Rcpp)\n",
        "library(readr)\n",
        "library(ggplot2)\n",
        "\n",
        "credit <-read_csv(\"https://intro-datascience.s3.us-east-2.amazonaws.com/GermanCredit.csv\")\n",
        "credit"
      ]
    },
    {
      "cell_type": "markdown",
      "metadata": {
        "id": "lLLcR9AdomkD"
      },
      "source": [
        "B.\tWhich variable contains the outcome we are trying to predict, **credit risk**? For the purposes of this analysis, we will focus only on the numeric variables and save them in a new dataframe called **cred**:"
      ]
    },
    {
      "cell_type": "code",
      "execution_count": 7,
      "metadata": {
        "id": "hV53ifkiomkD"
      },
      "outputs": [],
      "source": [
        "cred <- data.frame(duration=credit$duration, \n",
        "                   amount=credit$amount, \n",
        "                   installment_rate=credit$installment_rate, \n",
        "                   present_residence=credit$present_residence, \n",
        "                   age=credit$age, \n",
        "                   credit_history=credit$number_credits, \n",
        "                   people_liable=credit$people_liable, \n",
        "                   credit_risk=as.factor(credit$credit_risk))"
      ]
    },
    {
      "cell_type": "markdown",
      "metadata": {
        "id": "MShuSrcvomkE"
      },
      "source": [
        "C.\tAlthough all variables in **cred** except **credit_risk** are coded as numeric, the values of one of them are also **ordered factors** rather than actual numbers. In consultation with the **data description link** from the intro, write a comment identifying the **factor variable** and briefly **describe** each variable in the dataframe. "
      ]
    },
    {
      "cell_type": "code",
      "execution_count": 8,
      "metadata": {
        "id": "VVOozrdvomkE",
        "colab": {
          "base_uri": "https://localhost:8080/",
          "height": 52
        },
        "outputId": "f0fcd342-3ba7-44c4-dcce-e7e8ab93c9cf"
      },
      "outputs": [
        {
          "output_type": "display_data",
          "data": {
            "text/plain": [
              "[1] TRUE"
            ],
            "text/latex": "TRUE",
            "text/markdown": "TRUE",
            "text/html": [
              "TRUE"
            ]
          },
          "metadata": {}
        },
        {
          "output_type": "display_data",
          "data": {
            "text/plain": [
              "         duration            amount  installment_rate present_residence \n",
              "        \"numeric\"         \"numeric\"         \"numeric\"         \"numeric\" \n",
              "              age    credit_history     people_liable       credit_risk \n",
              "        \"numeric\"         \"numeric\"         \"numeric\"          \"factor\" "
            ],
            "text/latex": "\\begin{description*}\n\\item[duration] 'numeric'\n\\item[amount] 'numeric'\n\\item[installment\\textbackslash{}\\_rate] 'numeric'\n\\item[present\\textbackslash{}\\_residence] 'numeric'\n\\item[age] 'numeric'\n\\item[credit\\textbackslash{}\\_history] 'numeric'\n\\item[people\\textbackslash{}\\_liable] 'numeric'\n\\item[credit\\textbackslash{}\\_risk] 'factor'\n\\end{description*}\n",
            "text/markdown": "duration\n:   'numeric'amount\n:   'numeric'installment_rate\n:   'numeric'present_residence\n:   'numeric'age\n:   'numeric'credit_history\n:   'numeric'people_liable\n:   'numeric'credit_risk\n:   'factor'\n\n",
            "text/html": [
              "<style>\n",
              ".dl-inline {width: auto; margin:0; padding: 0}\n",
              ".dl-inline>dt, .dl-inline>dd {float: none; width: auto; display: inline-block}\n",
              ".dl-inline>dt::after {content: \":\\0020\"; padding-right: .5ex}\n",
              ".dl-inline>dt:not(:first-of-type) {padding-left: .5ex}\n",
              "</style><dl class=dl-inline><dt>duration</dt><dd>'numeric'</dd><dt>amount</dt><dd>'numeric'</dd><dt>installment_rate</dt><dd>'numeric'</dd><dt>present_residence</dt><dd>'numeric'</dd><dt>age</dt><dd>'numeric'</dd><dt>credit_history</dt><dd>'numeric'</dd><dt>people_liable</dt><dd>'numeric'</dd><dt>credit_risk</dt><dd>'factor'</dd></dl>\n"
            ]
          },
          "metadata": {}
        }
      ],
      "source": [
        "\n",
        "is.factor(cred$credit_risk)\n",
        "sapply(cred, class)"
      ]
    },
    {
      "cell_type": "markdown",
      "metadata": {
        "id": "CEtUFUsKomkE"
      },
      "source": [
        "## Part 2: Create training and test data sets\n",
        "\n",
        "A.\tUsing techniques discussed in class, create **two datasets** – one for **training** and one for **testing**."
      ]
    },
    {
      "cell_type": "code",
      "execution_count": 10,
      "metadata": {
        "id": "wYoWuFS3omkE"
      },
      "outputs": [],
      "source": [
        "trainList <-createDataPartition(y=cred$credit_risk,p=.40,list=FALSE) \n",
        "trainSet <- cred[trainList,]\n",
        "testSet <- cred[-trainList,]"
      ]
    },
    {
      "cell_type": "markdown",
      "metadata": {
        "id": "Q3itX9VpomkF"
      },
      "source": [
        "B.\tUse the dim( ) function to demonstrate that the resulting training data set and test data set contain the appropriate number of cases."
      ]
    },
    {
      "cell_type": "code",
      "execution_count": 11,
      "metadata": {
        "id": "gDfn5aq9omkF",
        "colab": {
          "base_uri": "https://localhost:8080/",
          "height": 321
        },
        "outputId": "9af863f5-fadd-448f-a527-bafbf818b249"
      },
      "outputs": [
        {
          "output_type": "display_data",
          "data": {
            "text/plain": [
              "[1] 400   8"
            ],
            "text/latex": "\\begin{enumerate*}\n\\item 400\n\\item 8\n\\end{enumerate*}\n",
            "text/markdown": "1. 400\n2. 8\n\n\n",
            "text/html": [
              "<style>\n",
              ".list-inline {list-style: none; margin:0; padding: 0}\n",
              ".list-inline>li {display: inline-block}\n",
              ".list-inline>li:not(:last-child)::after {content: \"\\00b7\"; padding: 0 .5ex}\n",
              "</style>\n",
              "<ol class=list-inline><li>400</li><li>8</li></ol>\n"
            ]
          },
          "metadata": {}
        },
        {
          "output_type": "display_data",
          "data": {
            "text/plain": [
              "[1] 600   8"
            ],
            "text/latex": "\\begin{enumerate*}\n\\item 600\n\\item 8\n\\end{enumerate*}\n",
            "text/markdown": "1. 600\n2. 8\n\n\n",
            "text/html": [
              "<style>\n",
              ".list-inline {list-style: none; margin:0; padding: 0}\n",
              ".list-inline>li {display: inline-block}\n",
              ".list-inline>li:not(:last-child)::after {content: \"\\00b7\"; padding: 0 .5ex}\n",
              "</style>\n",
              "<ol class=list-inline><li>600</li><li>8</li></ol>\n"
            ]
          },
          "metadata": {}
        },
        {
          "output_type": "display_data",
          "data": {
            "text/plain": [
              "   duration amount installment_rate present_residence age credit_history\n",
              "3  12       2096   2                3                 49  1             \n",
              "4  42       7882   2                4                 45  1             \n",
              "5  24       4870   3                4                 53  2             \n",
              "9  12       3059   2                4                 61  1             \n",
              "10 30       5234   4                2                 28  2             \n",
              "11 12       1295   3                1                 25  1             \n",
              "   people_liable credit_risk\n",
              "3  2             1          \n",
              "4  2             1          \n",
              "5  2             0          \n",
              "9  1             1          \n",
              "10 1             0          \n",
              "11 1             0          "
            ],
            "text/latex": "A data.frame: 6 × 8\n\\begin{tabular}{r|llllllll}\n  & duration & amount & installment\\_rate & present\\_residence & age & credit\\_history & people\\_liable & credit\\_risk\\\\\n  & <dbl> & <dbl> & <dbl> & <dbl> & <dbl> & <dbl> & <dbl> & <fct>\\\\\n\\hline\n\t3 & 12 & 2096 & 2 & 3 & 49 & 1 & 2 & 1\\\\\n\t4 & 42 & 7882 & 2 & 4 & 45 & 1 & 2 & 1\\\\\n\t5 & 24 & 4870 & 3 & 4 & 53 & 2 & 2 & 0\\\\\n\t9 & 12 & 3059 & 2 & 4 & 61 & 1 & 1 & 1\\\\\n\t10 & 30 & 5234 & 4 & 2 & 28 & 2 & 1 & 0\\\\\n\t11 & 12 & 1295 & 3 & 1 & 25 & 1 & 1 & 0\\\\\n\\end{tabular}\n",
            "text/markdown": "\nA data.frame: 6 × 8\n\n| <!--/--> | duration &lt;dbl&gt; | amount &lt;dbl&gt; | installment_rate &lt;dbl&gt; | present_residence &lt;dbl&gt; | age &lt;dbl&gt; | credit_history &lt;dbl&gt; | people_liable &lt;dbl&gt; | credit_risk &lt;fct&gt; |\n|---|---|---|---|---|---|---|---|---|\n| 3 | 12 | 2096 | 2 | 3 | 49 | 1 | 2 | 1 |\n| 4 | 42 | 7882 | 2 | 4 | 45 | 1 | 2 | 1 |\n| 5 | 24 | 4870 | 3 | 4 | 53 | 2 | 2 | 0 |\n| 9 | 12 | 3059 | 2 | 4 | 61 | 1 | 1 | 1 |\n| 10 | 30 | 5234 | 4 | 2 | 28 | 2 | 1 | 0 |\n| 11 | 12 | 1295 | 3 | 1 | 25 | 1 | 1 | 0 |\n\n",
            "text/html": [
              "<table class=\"dataframe\">\n",
              "<caption>A data.frame: 6 × 8</caption>\n",
              "<thead>\n",
              "\t<tr><th></th><th scope=col>duration</th><th scope=col>amount</th><th scope=col>installment_rate</th><th scope=col>present_residence</th><th scope=col>age</th><th scope=col>credit_history</th><th scope=col>people_liable</th><th scope=col>credit_risk</th></tr>\n",
              "\t<tr><th></th><th scope=col>&lt;dbl&gt;</th><th scope=col>&lt;dbl&gt;</th><th scope=col>&lt;dbl&gt;</th><th scope=col>&lt;dbl&gt;</th><th scope=col>&lt;dbl&gt;</th><th scope=col>&lt;dbl&gt;</th><th scope=col>&lt;dbl&gt;</th><th scope=col>&lt;fct&gt;</th></tr>\n",
              "</thead>\n",
              "<tbody>\n",
              "\t<tr><th scope=row>3</th><td>12</td><td>2096</td><td>2</td><td>3</td><td>49</td><td>1</td><td>2</td><td>1</td></tr>\n",
              "\t<tr><th scope=row>4</th><td>42</td><td>7882</td><td>2</td><td>4</td><td>45</td><td>1</td><td>2</td><td>1</td></tr>\n",
              "\t<tr><th scope=row>5</th><td>24</td><td>4870</td><td>3</td><td>4</td><td>53</td><td>2</td><td>2</td><td>0</td></tr>\n",
              "\t<tr><th scope=row>9</th><td>12</td><td>3059</td><td>2</td><td>4</td><td>61</td><td>1</td><td>1</td><td>1</td></tr>\n",
              "\t<tr><th scope=row>10</th><td>30</td><td>5234</td><td>4</td><td>2</td><td>28</td><td>2</td><td>1</td><td>0</td></tr>\n",
              "\t<tr><th scope=row>11</th><td>12</td><td>1295</td><td>3</td><td>1</td><td>25</td><td>1</td><td>1</td><td>0</td></tr>\n",
              "</tbody>\n",
              "</table>\n"
            ]
          },
          "metadata": {}
        }
      ],
      "source": [
        "dim(trainSet)\n",
        "dim(testSet)\n",
        "head(trainSet)"
      ]
    },
    {
      "cell_type": "markdown",
      "metadata": {
        "id": "W5NrgKmnomkF"
      },
      "source": [
        "## Part 3: Build a Model using SVM\n",
        "\n",
        "A.\tUsing the caret package, build a support vector model using all of the variables to predict **credit_risk**"
      ]
    },
    {
      "cell_type": "code",
      "execution_count": 13,
      "metadata": {
        "id": "8peJJDt7omkF"
      },
      "outputs": [],
      "source": [
        "SV <- train(credit_risk ~ ., data=trainSet, method=\"svmRadial\", preProc=c(\"center\",\"scale\"))"
      ]
    },
    {
      "cell_type": "markdown",
      "metadata": {
        "id": "dhbPbo9rZsCo"
      },
      "source": [
        "B. output the model\n",
        "\n",
        "Hint: explore finalModel in the model that would created in F."
      ]
    },
    {
      "cell_type": "code",
      "execution_count": 14,
      "metadata": {
        "colab": {
          "base_uri": "https://localhost:8080/",
          "height": 347
        },
        "id": "-_YDYe377Osx",
        "outputId": "f4bb4717-5fe7-48d0-aee4-7b7b01d4208b"
      },
      "outputs": [
        {
          "output_type": "display_data",
          "data": {
            "text/plain": [
              "Support Vector Machines with Radial Basis Function Kernel \n",
              "\n",
              "400 samples\n",
              "  7 predictor\n",
              "  2 classes: '0', '1' \n",
              "\n",
              "Pre-processing: centered (7), scaled (7) \n",
              "Resampling: Bootstrapped (25 reps) \n",
              "Summary of sample sizes: 400, 400, 400, 400, 400, 400, ... \n",
              "Resampling results across tuning parameters:\n",
              "\n",
              "  C     Accuracy   Kappa     \n",
              "  0.25  0.7121101  0.05649635\n",
              "  0.50  0.7125150  0.11510750\n",
              "  1.00  0.7093325  0.14789220\n",
              "\n",
              "Tuning parameter 'sigma' was held constant at a value of 0.1197401\n",
              "Accuracy was used to select the optimal model using the largest value.\n",
              "The final values used for the model were sigma = 0.1197401 and C = 0.5."
            ]
          },
          "metadata": {}
        }
      ],
      "source": [
        "SV"
      ]
    },
    {
      "cell_type": "markdown",
      "metadata": {
        "id": "yAkYNk29omkG"
      },
      "source": [
        "## Part 4: Predict Values in the Test Data and Create a Confusion Matrix\n",
        "\n",
        "A.\tUse the predict( ) function to validate the model against test data. Store the predictions in a variable named **svmPred**."
      ]
    },
    {
      "cell_type": "code",
      "execution_count": 15,
      "metadata": {
        "id": "OmfFWwfsomkG"
      },
      "outputs": [],
      "source": [
        "svmPred <- predict(SV, newdata=testSet)"
      ]
    },
    {
      "cell_type": "code",
      "source": [
        "svmPred"
      ],
      "metadata": {
        "colab": {
          "base_uri": "https://localhost:8080/",
          "height": 121
        },
        "id": "xlxJpQ7NofpL",
        "outputId": "deb0c78a-a6e1-4ab5-b08f-295358df2bef"
      },
      "execution_count": 16,
      "outputs": [
        {
          "output_type": "display_data",
          "data": {
            "text/plain": [
              "  [1] 1 1 1 1 1 0 1 1 1 1 1 1 1 1 1 1 1 1 1 1 1 1 1 1 1 1 1 1 1 1 1 1 0 1 0 1 1\n",
              " [38] 1 1 1 1 1 1 1 1 1 1 1 1 1 1 1 1 1 1 1 1 1 1 1 1 1 1 1 1 1 1 1 1 1 0 1 1 1\n",
              " [75] 1 1 1 1 1 1 1 1 1 1 1 1 1 1 1 1 1 1 1 1 1 1 1 1 1 1 1 1 1 1 1 1 1 1 1 1 1\n",
              "[112] 1 1 1 1 1 1 1 1 1 1 1 1 1 1 1 1 1 1 1 1 1 1 1 1 1 1 1 1 1 1 1 1 1 1 1 1 1\n",
              "[149] 1 1 1 1 1 1 0 1 1 1 1 1 1 1 0 1 1 1 1 0 1 1 1 1 1 1 1 1 1 1 1 1 1 1 1 1 1\n",
              "[186] 1 1 1 1 1 1 1 1 1 1 1 1 1 1 1 1 1 1 1 1 1 1 1 1 1 1 1 1 1 1 1 1 1 1 1 1 1\n",
              "[223] 1 1 1 1 1 1 1 1 1 1 1 1 1 1 1 1 1 1 1 1 1 1 1 1 1 1 1 0 1 1 1 1 1 1 1 1 1\n",
              "[260] 1 1 1 1 1 1 1 1 1 1 1 1 1 1 1 1 1 1 0 1 1 1 1 1 1 1 1 1 1 1 1 1 1 1 1 1 1\n",
              "[297] 1 1 1 1 1 1 1 1 1 1 1 1 1 1 1 1 1 0 1 1 1 1 1 1 1 1 1 1 1 1 1 1 1 1 1 1 1\n",
              "[334] 1 1 1 1 1 1 1 1 1 1 1 1 1 1 1 1 1 1 1 1 1 1 1 1 1 1 1 1 1 1 1 1 1 1 1 1 1\n",
              "[371] 1 1 1 1 1 1 1 0 1 1 0 1 1 1 1 1 1 1 1 1 1 1 1 1 1 1 1 1 1 1 1 1 1 1 1 1 1\n",
              "[408] 1 1 0 1 1 1 1 1 1 1 1 1 1 1 1 1 1 1 0 1 1 1 1 1 1 1 1 1 1 0 1 1 1 1 1 1 1\n",
              "[445] 1 1 1 1 1 1 1 1 1 1 1 1 1 1 1 1 1 1 1 1 1 1 1 1 1 1 1 1 1 1 1 1 1 1 1 1 0\n",
              "[482] 1 1 1 1 1 1 1 1 1 1 1 1 1 1 1 1 1 1 1 1 1 1 1 1 1 1 1 1 1 1 1 1 1 1 1 1 1\n",
              "[519] 1 1 1 1 1 1 1 1 0 1 1 1 1 1 1 1 1 1 1 0 1 1 1 1 1 1 1 1 1 1 1 1 1 1 1 1 1\n",
              "[556] 1 1 1 1 1 1 1 1 1 1 1 1 1 1 0 1 1 1 1 1 1 1 1 1 1 1 1 1 1 1 1 1 1 1 1 1 1\n",
              "[593] 1 1 1 1 1 1 1 0\n",
              "Levels: 0 1"
            ],
            "text/latex": "\\begin{enumerate*}\n\\item 1\n\\item 1\n\\item 1\n\\item 1\n\\item 1\n\\item 0\n\\item 1\n\\item 1\n\\item 1\n\\item 1\n\\item 1\n\\item 1\n\\item 1\n\\item 1\n\\item 1\n\\item 1\n\\item 1\n\\item 1\n\\item 1\n\\item 1\n\\item 1\n\\item 1\n\\item 1\n\\item 1\n\\item 1\n\\item 1\n\\item 1\n\\item 1\n\\item 1\n\\item 1\n\\item 1\n\\item 1\n\\item 0\n\\item 1\n\\item 0\n\\item 1\n\\item 1\n\\item 1\n\\item 1\n\\item 1\n\\item 1\n\\item 1\n\\item 1\n\\item 1\n\\item 1\n\\item 1\n\\item 1\n\\item 1\n\\item 1\n\\item 1\n\\item 1\n\\item 1\n\\item 1\n\\item 1\n\\item 1\n\\item 1\n\\item 1\n\\item 1\n\\item 1\n\\item 1\n\\item 1\n\\item 1\n\\item 1\n\\item 1\n\\item 1\n\\item 1\n\\item 1\n\\item 1\n\\item 1\n\\item 1\n\\item 0\n\\item 1\n\\item 1\n\\item 1\n\\item 1\n\\item 1\n\\item 1\n\\item 1\n\\item 1\n\\item 1\n\\item 1\n\\item 1\n\\item 1\n\\item 1\n\\item 1\n\\item 1\n\\item 1\n\\item 1\n\\item 1\n\\item 1\n\\item 1\n\\item 1\n\\item 1\n\\item 1\n\\item 1\n\\item 1\n\\item 1\n\\item 1\n\\item 1\n\\item 1\n\\item 1\n\\item 1\n\\item 1\n\\item 1\n\\item 1\n\\item 1\n\\item 1\n\\item 1\n\\item 1\n\\item 1\n\\item 1\n\\item 1\n\\item 1\n\\item 1\n\\item 1\n\\item 1\n\\item 1\n\\item 1\n\\item 1\n\\item 1\n\\item 1\n\\item 1\n\\item 1\n\\item 1\n\\item 1\n\\item 1\n\\item 1\n\\item 1\n\\item 1\n\\item 1\n\\item 1\n\\item 1\n\\item 1\n\\item 1\n\\item 1\n\\item 1\n\\item 1\n\\item 1\n\\item 1\n\\item 1\n\\item 1\n\\item 1\n\\item 1\n\\item 1\n\\item 1\n\\item 1\n\\item 1\n\\item 1\n\\item 1\n\\item 1\n\\item 1\n\\item 1\n\\item 1\n\\item 1\n\\item 0\n\\item 1\n\\item 1\n\\item 1\n\\item 1\n\\item 1\n\\item 1\n\\item 1\n\\item 0\n\\item 1\n\\item 1\n\\item 1\n\\item 1\n\\item 0\n\\item 1\n\\item 1\n\\item 1\n\\item 1\n\\item 1\n\\item 1\n\\item 1\n\\item 1\n\\item 1\n\\item 1\n\\item 1\n\\item 1\n\\item 1\n\\item 1\n\\item 1\n\\item 1\n\\item 1\n\\item 1\n\\item 1\n\\item 1\n\\item 1\n\\item 1\n\\item 1\n\\item 1\n\\item 1\n\\item 1\n\\item 1\n\\item 1\n\\item 1\n\\item 1\n\\item 1\n\\item 1\n\\item ⋯\n\\item 1\n\\item 1\n\\item 1\n\\item 1\n\\item 1\n\\item 1\n\\item 1\n\\item 1\n\\item 1\n\\item 0\n\\item 1\n\\item 1\n\\item 1\n\\item 1\n\\item 1\n\\item 1\n\\item 1\n\\item 1\n\\item 1\n\\item 1\n\\item 1\n\\item 1\n\\item 1\n\\item 1\n\\item 1\n\\item 0\n\\item 1\n\\item 1\n\\item 1\n\\item 1\n\\item 1\n\\item 1\n\\item 1\n\\item 1\n\\item 1\n\\item 1\n\\item 0\n\\item 1\n\\item 1\n\\item 1\n\\item 1\n\\item 1\n\\item 1\n\\item 1\n\\item 1\n\\item 1\n\\item 1\n\\item 1\n\\item 1\n\\item 1\n\\item 1\n\\item 1\n\\item 1\n\\item 1\n\\item 1\n\\item 1\n\\item 1\n\\item 1\n\\item 1\n\\item 1\n\\item 1\n\\item 1\n\\item 1\n\\item 1\n\\item 1\n\\item 1\n\\item 1\n\\item 1\n\\item 1\n\\item 1\n\\item 1\n\\item 1\n\\item 1\n\\item 1\n\\item 1\n\\item 1\n\\item 1\n\\item 1\n\\item 1\n\\item 1\n\\item 0\n\\item 1\n\\item 1\n\\item 1\n\\item 1\n\\item 1\n\\item 1\n\\item 1\n\\item 1\n\\item 1\n\\item 1\n\\item 1\n\\item 1\n\\item 1\n\\item 1\n\\item 1\n\\item 1\n\\item 1\n\\item 1\n\\item 1\n\\item 1\n\\item 1\n\\item 1\n\\item 1\n\\item 1\n\\item 1\n\\item 1\n\\item 1\n\\item 1\n\\item 1\n\\item 1\n\\item 1\n\\item 1\n\\item 1\n\\item 1\n\\item 1\n\\item 1\n\\item 1\n\\item 1\n\\item 1\n\\item 1\n\\item 1\n\\item 1\n\\item 1\n\\item 1\n\\item 1\n\\item 0\n\\item 1\n\\item 1\n\\item 1\n\\item 1\n\\item 1\n\\item 1\n\\item 1\n\\item 1\n\\item 1\n\\item 1\n\\item 0\n\\item 1\n\\item 1\n\\item 1\n\\item 1\n\\item 1\n\\item 1\n\\item 1\n\\item 1\n\\item 1\n\\item 1\n\\item 1\n\\item 1\n\\item 1\n\\item 1\n\\item 1\n\\item 1\n\\item 1\n\\item 1\n\\item 1\n\\item 1\n\\item 1\n\\item 1\n\\item 1\n\\item 1\n\\item 1\n\\item 1\n\\item 1\n\\item 1\n\\item 1\n\\item 1\n\\item 1\n\\item 0\n\\item 1\n\\item 1\n\\item 1\n\\item 1\n\\item 1\n\\item 1\n\\item 1\n\\item 1\n\\item 1\n\\item 1\n\\item 1\n\\item 1\n\\item 1\n\\item 1\n\\item 1\n\\item 1\n\\item 1\n\\item 1\n\\item 1\n\\item 1\n\\item 1\n\\item 1\n\\item 1\n\\item 1\n\\item 1\n\\item 1\n\\item 1\n\\item 1\n\\item 1\n\\item 0\n\\end{enumerate*}\n\n\\emph{Levels}: \\begin{enumerate*}\n\\item '0'\n\\item '1'\n\\end{enumerate*}\n",
            "text/markdown": "1. 1\n2. 1\n3. 1\n4. 1\n5. 1\n6. 0\n7. 1\n8. 1\n9. 1\n10. 1\n11. 1\n12. 1\n13. 1\n14. 1\n15. 1\n16. 1\n17. 1\n18. 1\n19. 1\n20. 1\n21. 1\n22. 1\n23. 1\n24. 1\n25. 1\n26. 1\n27. 1\n28. 1\n29. 1\n30. 1\n31. 1\n32. 1\n33. 0\n34. 1\n35. 0\n36. 1\n37. 1\n38. 1\n39. 1\n40. 1\n41. 1\n42. 1\n43. 1\n44. 1\n45. 1\n46. 1\n47. 1\n48. 1\n49. 1\n50. 1\n51. 1\n52. 1\n53. 1\n54. 1\n55. 1\n56. 1\n57. 1\n58. 1\n59. 1\n60. 1\n61. 1\n62. 1\n63. 1\n64. 1\n65. 1\n66. 1\n67. 1\n68. 1\n69. 1\n70. 1\n71. 0\n72. 1\n73. 1\n74. 1\n75. 1\n76. 1\n77. 1\n78. 1\n79. 1\n80. 1\n81. 1\n82. 1\n83. 1\n84. 1\n85. 1\n86. 1\n87. 1\n88. 1\n89. 1\n90. 1\n91. 1\n92. 1\n93. 1\n94. 1\n95. 1\n96. 1\n97. 1\n98. 1\n99. 1\n100. 1\n101. 1\n102. 1\n103. 1\n104. 1\n105. 1\n106. 1\n107. 1\n108. 1\n109. 1\n110. 1\n111. 1\n112. 1\n113. 1\n114. 1\n115. 1\n116. 1\n117. 1\n118. 1\n119. 1\n120. 1\n121. 1\n122. 1\n123. 1\n124. 1\n125. 1\n126. 1\n127. 1\n128. 1\n129. 1\n130. 1\n131. 1\n132. 1\n133. 1\n134. 1\n135. 1\n136. 1\n137. 1\n138. 1\n139. 1\n140. 1\n141. 1\n142. 1\n143. 1\n144. 1\n145. 1\n146. 1\n147. 1\n148. 1\n149. 1\n150. 1\n151. 1\n152. 1\n153. 1\n154. 1\n155. 0\n156. 1\n157. 1\n158. 1\n159. 1\n160. 1\n161. 1\n162. 1\n163. 0\n164. 1\n165. 1\n166. 1\n167. 1\n168. 0\n169. 1\n170. 1\n171. 1\n172. 1\n173. 1\n174. 1\n175. 1\n176. 1\n177. 1\n178. 1\n179. 1\n180. 1\n181. 1\n182. 1\n183. 1\n184. 1\n185. 1\n186. 1\n187. 1\n188. 1\n189. 1\n190. 1\n191. 1\n192. 1\n193. 1\n194. 1\n195. 1\n196. 1\n197. 1\n198. 1\n199. 1\n200. 1\n201. ⋯\n202. 1\n203. 1\n204. 1\n205. 1\n206. 1\n207. 1\n208. 1\n209. 1\n210. 1\n211. 0\n212. 1\n213. 1\n214. 1\n215. 1\n216. 1\n217. 1\n218. 1\n219. 1\n220. 1\n221. 1\n222. 1\n223. 1\n224. 1\n225. 1\n226. 1\n227. 0\n228. 1\n229. 1\n230. 1\n231. 1\n232. 1\n233. 1\n234. 1\n235. 1\n236. 1\n237. 1\n238. 0\n239. 1\n240. 1\n241. 1\n242. 1\n243. 1\n244. 1\n245. 1\n246. 1\n247. 1\n248. 1\n249. 1\n250. 1\n251. 1\n252. 1\n253. 1\n254. 1\n255. 1\n256. 1\n257. 1\n258. 1\n259. 1\n260. 1\n261. 1\n262. 1\n263. 1\n264. 1\n265. 1\n266. 1\n267. 1\n268. 1\n269. 1\n270. 1\n271. 1\n272. 1\n273. 1\n274. 1\n275. 1\n276. 1\n277. 1\n278. 1\n279. 1\n280. 1\n281. 1\n282. 0\n283. 1\n284. 1\n285. 1\n286. 1\n287. 1\n288. 1\n289. 1\n290. 1\n291. 1\n292. 1\n293. 1\n294. 1\n295. 1\n296. 1\n297. 1\n298. 1\n299. 1\n300. 1\n301. 1\n302. 1\n303. 1\n304. 1\n305. 1\n306. 1\n307. 1\n308. 1\n309. 1\n310. 1\n311. 1\n312. 1\n313. 1\n314. 1\n315. 1\n316. 1\n317. 1\n318. 1\n319. 1\n320. 1\n321. 1\n322. 1\n323. 1\n324. 1\n325. 1\n326. 1\n327. 1\n328. 0\n329. 1\n330. 1\n331. 1\n332. 1\n333. 1\n334. 1\n335. 1\n336. 1\n337. 1\n338. 1\n339. 0\n340. 1\n341. 1\n342. 1\n343. 1\n344. 1\n345. 1\n346. 1\n347. 1\n348. 1\n349. 1\n350. 1\n351. 1\n352. 1\n353. 1\n354. 1\n355. 1\n356. 1\n357. 1\n358. 1\n359. 1\n360. 1\n361. 1\n362. 1\n363. 1\n364. 1\n365. 1\n366. 1\n367. 1\n368. 1\n369. 1\n370. 1\n371. 0\n372. 1\n373. 1\n374. 1\n375. 1\n376. 1\n377. 1\n378. 1\n379. 1\n380. 1\n381. 1\n382. 1\n383. 1\n384. 1\n385. 1\n386. 1\n387. 1\n388. 1\n389. 1\n390. 1\n391. 1\n392. 1\n393. 1\n394. 1\n395. 1\n396. 1\n397. 1\n398. 1\n399. 1\n400. 1\n401. 0\n\n\n\n**Levels**: 1. '0'\n2. '1'\n\n\n",
            "text/html": [
              "<style>\n",
              ".list-inline {list-style: none; margin:0; padding: 0}\n",
              ".list-inline>li {display: inline-block}\n",
              ".list-inline>li:not(:last-child)::after {content: \"\\00b7\"; padding: 0 .5ex}\n",
              "</style>\n",
              "<ol class=list-inline><li>1</li><li>1</li><li>1</li><li>1</li><li>1</li><li>0</li><li>1</li><li>1</li><li>1</li><li>1</li><li>1</li><li>1</li><li>1</li><li>1</li><li>1</li><li>1</li><li>1</li><li>1</li><li>1</li><li>1</li><li>1</li><li>1</li><li>1</li><li>1</li><li>1</li><li>1</li><li>1</li><li>1</li><li>1</li><li>1</li><li>1</li><li>1</li><li>0</li><li>1</li><li>0</li><li>1</li><li>1</li><li>1</li><li>1</li><li>1</li><li>1</li><li>1</li><li>1</li><li>1</li><li>1</li><li>1</li><li>1</li><li>1</li><li>1</li><li>1</li><li>1</li><li>1</li><li>1</li><li>1</li><li>1</li><li>1</li><li>1</li><li>1</li><li>1</li><li>1</li><li>1</li><li>1</li><li>1</li><li>1</li><li>1</li><li>1</li><li>1</li><li>1</li><li>1</li><li>1</li><li>0</li><li>1</li><li>1</li><li>1</li><li>1</li><li>1</li><li>1</li><li>1</li><li>1</li><li>1</li><li>1</li><li>1</li><li>1</li><li>1</li><li>1</li><li>1</li><li>1</li><li>1</li><li>1</li><li>1</li><li>1</li><li>1</li><li>1</li><li>1</li><li>1</li><li>1</li><li>1</li><li>1</li><li>1</li><li>1</li><li>1</li><li>1</li><li>1</li><li>1</li><li>1</li><li>1</li><li>1</li><li>1</li><li>1</li><li>1</li><li>1</li><li>1</li><li>1</li><li>1</li><li>1</li><li>1</li><li>1</li><li>1</li><li>1</li><li>1</li><li>1</li><li>1</li><li>1</li><li>1</li><li>1</li><li>1</li><li>1</li><li>1</li><li>1</li><li>1</li><li>1</li><li>1</li><li>1</li><li>1</li><li>1</li><li>1</li><li>1</li><li>1</li><li>1</li><li>1</li><li>1</li><li>1</li><li>1</li><li>1</li><li>1</li><li>1</li><li>1</li><li>1</li><li>1</li><li>1</li><li>1</li><li>1</li><li>1</li><li>1</li><li>0</li><li>1</li><li>1</li><li>1</li><li>1</li><li>1</li><li>1</li><li>1</li><li>0</li><li>1</li><li>1</li><li>1</li><li>1</li><li>0</li><li>1</li><li>1</li><li>1</li><li>1</li><li>1</li><li>1</li><li>1</li><li>1</li><li>1</li><li>1</li><li>1</li><li>1</li><li>1</li><li>1</li><li>1</li><li>1</li><li>1</li><li>1</li><li>1</li><li>1</li><li>1</li><li>1</li><li>1</li><li>1</li><li>1</li><li>1</li><li>1</li><li>1</li><li>1</li><li>1</li><li>1</li><li>1</li><li>⋯</li><li>1</li><li>1</li><li>1</li><li>1</li><li>1</li><li>1</li><li>1</li><li>1</li><li>1</li><li>0</li><li>1</li><li>1</li><li>1</li><li>1</li><li>1</li><li>1</li><li>1</li><li>1</li><li>1</li><li>1</li><li>1</li><li>1</li><li>1</li><li>1</li><li>1</li><li>0</li><li>1</li><li>1</li><li>1</li><li>1</li><li>1</li><li>1</li><li>1</li><li>1</li><li>1</li><li>1</li><li>0</li><li>1</li><li>1</li><li>1</li><li>1</li><li>1</li><li>1</li><li>1</li><li>1</li><li>1</li><li>1</li><li>1</li><li>1</li><li>1</li><li>1</li><li>1</li><li>1</li><li>1</li><li>1</li><li>1</li><li>1</li><li>1</li><li>1</li><li>1</li><li>1</li><li>1</li><li>1</li><li>1</li><li>1</li><li>1</li><li>1</li><li>1</li><li>1</li><li>1</li><li>1</li><li>1</li><li>1</li><li>1</li><li>1</li><li>1</li><li>1</li><li>1</li><li>1</li><li>1</li><li>0</li><li>1</li><li>1</li><li>1</li><li>1</li><li>1</li><li>1</li><li>1</li><li>1</li><li>1</li><li>1</li><li>1</li><li>1</li><li>1</li><li>1</li><li>1</li><li>1</li><li>1</li><li>1</li><li>1</li><li>1</li><li>1</li><li>1</li><li>1</li><li>1</li><li>1</li><li>1</li><li>1</li><li>1</li><li>1</li><li>1</li><li>1</li><li>1</li><li>1</li><li>1</li><li>1</li><li>1</li><li>1</li><li>1</li><li>1</li><li>1</li><li>1</li><li>1</li><li>1</li><li>1</li><li>1</li><li>0</li><li>1</li><li>1</li><li>1</li><li>1</li><li>1</li><li>1</li><li>1</li><li>1</li><li>1</li><li>1</li><li>0</li><li>1</li><li>1</li><li>1</li><li>1</li><li>1</li><li>1</li><li>1</li><li>1</li><li>1</li><li>1</li><li>1</li><li>1</li><li>1</li><li>1</li><li>1</li><li>1</li><li>1</li><li>1</li><li>1</li><li>1</li><li>1</li><li>1</li><li>1</li><li>1</li><li>1</li><li>1</li><li>1</li><li>1</li><li>1</li><li>1</li><li>1</li><li>0</li><li>1</li><li>1</li><li>1</li><li>1</li><li>1</li><li>1</li><li>1</li><li>1</li><li>1</li><li>1</li><li>1</li><li>1</li><li>1</li><li>1</li><li>1</li><li>1</li><li>1</li><li>1</li><li>1</li><li>1</li><li>1</li><li>1</li><li>1</li><li>1</li><li>1</li><li>1</li><li>1</li><li>1</li><li>1</li><li>0</li></ol>\n",
              "\n",
              "<details>\n",
              "\t<summary style=display:list-item;cursor:pointer>\n",
              "\t\t<strong>Levels</strong>:\n",
              "\t</summary>\n",
              "\t<style>\n",
              "\t.list-inline {list-style: none; margin:0; padding: 0}\n",
              "\t.list-inline>li {display: inline-block}\n",
              "\t.list-inline>li:not(:last-child)::after {content: \"\\00b7\"; padding: 0 .5ex}\n",
              "\t</style>\n",
              "\t<ol class=list-inline><li>'0'</li><li>'1'</li></ol>\n",
              "</details>"
            ]
          },
          "metadata": {}
        }
      ]
    },
    {
      "cell_type": "code",
      "source": [
        "testSet"
      ],
      "metadata": {
        "colab": {
          "base_uri": "https://localhost:8080/",
          "height": 1000
        },
        "id": "qCip4VzCogTl",
        "outputId": "1d9b9cfb-e77d-4b50-faa4-f431ef41308a"
      },
      "execution_count": 17,
      "outputs": [
        {
          "output_type": "display_data",
          "data": {
            "text/plain": [
              "     duration amount installment_rate present_residence age credit_history\n",
              "1     6       1169   4                4                 67  2             \n",
              "2    48       5951   2                2                 22  1             \n",
              "6    36       9055   2                4                 35  1             \n",
              "7    24       2835   3                4                 53  1             \n",
              "8    36       6948   2                2                 35  1             \n",
              "12   48       4308   3                4                 24  1             \n",
              "13   12       1567   1                1                 22  1             \n",
              "14   24       1199   4                4                 60  2             \n",
              "16   24       1282   4                2                 32  1             \n",
              "17   24       2424   4                4                 53  2             \n",
              "18   30       8072   2                3                 25  3             \n",
              "21    9       2134   4                4                 48  3             \n",
              "22    6       2647   2                3                 44  1             \n",
              "25   10       2069   2                1                 26  2             \n",
              "27    6        426   4                4                 39  1             \n",
              "28   12        409   3                3                 42  2             \n",
              "31   18       1913   3                3                 36  1             \n",
              "33   18       5866   2                2                 30  2             \n",
              "34   12       1264   4                4                 57  1             \n",
              "35   12       1474   4                1                 33  1             \n",
              "37   48       6110   1                3                 31  1             \n",
              "40    9        458   4                3                 24  1             \n",
              "41   30       2333   4                2                 30  1             \n",
              "43   18       6204   2                4                 44  1             \n",
              "44   30       6187   1                4                 24  2             \n",
              "47   36       2299   4                4                 39  1             \n",
              "50   12       2073   4                2                 28  1             \n",
              "52   27       5965   1                2                 30  2             \n",
              "53   12       1262   3                2                 25  1             \n",
              "54   18       3378   2                1                 31  1             \n",
              "⋮    ⋮        ⋮      ⋮                ⋮                 ⋮   ⋮             \n",
              "955  12       1893   4                4                 29  1             \n",
              "959  28       4006   3                2                 45  1             \n",
              "960  24       3069   4                4                 30  1             \n",
              "961   6       1740   2                2                 30  2             \n",
              "962  21       2353   1                4                 47  2             \n",
              "963  15       3556   3                2                 29  1             \n",
              "965   6        454   3                1                 22  1             \n",
              "966  30       1715   4                1                 26  1             \n",
              "967  27       2520   4                2                 23  2             \n",
              "968  15       3568   4                2                 54  1             \n",
              "969  42       7166   2                4                 29  1             \n",
              "970  11       3939   1                2                 40  2             \n",
              "971  15       1514   4                2                 22  1             \n",
              "972  24       7393   1                4                 43  1             \n",
              "975  30       2831   4                2                 33  1             \n",
              "976  24       1258   3                3                 57  1             \n",
              "977   6        753   2                3                 64  1             \n",
              "978  18       2427   4                2                 42  2             \n",
              "981  30       8386   2                2                 49  1             \n",
              "982  48       4844   3                2                 33  1             \n",
              "983  21       2923   1                1                 28  1             \n",
              "984  36       8229   2                2                 26  1             \n",
              "986  15       1433   4                3                 25  2             \n",
              "988  13       1409   2                4                 64  1             \n",
              "989  24       6579   4                2                 29  1             \n",
              "994  36       3959   4                3                 30  1             \n",
              "996  12       1736   3                4                 31  1             \n",
              "997  30       3857   4                4                 40  1             \n",
              "998  12        804   4                4                 38  1             \n",
              "1000 45       4576   3                4                 27  1             \n",
              "     people_liable credit_risk\n",
              "1    1             1          \n",
              "2    1             0          \n",
              "6    2             1          \n",
              "7    1             1          \n",
              "8    1             1          \n",
              "12   1             0          \n",
              "13   1             1          \n",
              "14   1             0          \n",
              "16   1             0          \n",
              "17   1             1          \n",
              "18   1             1          \n",
              "21   1             1          \n",
              "22   2             1          \n",
              "25   1             1          \n",
              "27   1             1          \n",
              "28   1             1          \n",
              "31   1             1          \n",
              "33   1             1          \n",
              "34   1             1          \n",
              "35   1             1          \n",
              "37   1             1          \n",
              "40   1             1          \n",
              "41   1             1          \n",
              "43   2             1          \n",
              "44   1             1          \n",
              "47   1             1          \n",
              "50   1             1          \n",
              "52   1             1          \n",
              "53   1             1          \n",
              "54   1             1          \n",
              "⋮    ⋮             ⋮          \n",
              "955  1             1          \n",
              "959  1             0          \n",
              "960  1             1          \n",
              "961  1             1          \n",
              "962  1             1          \n",
              "963  1             1          \n",
              "965  1             1          \n",
              "966  1             1          \n",
              "967  1             0          \n",
              "968  1             1          \n",
              "969  1             1          \n",
              "970  2             1          \n",
              "971  1             1          \n",
              "972  2             1          \n",
              "975  1             1          \n",
              "976  1             1          \n",
              "977  1             1          \n",
              "978  1             1          \n",
              "981  1             0          \n",
              "982  1             0          \n",
              "983  1             1          \n",
              "984  2             0          \n",
              "986  1             1          \n",
              "988  1             1          \n",
              "989  1             1          \n",
              "994  1             1          \n",
              "996  1             1          \n",
              "997  1             1          \n",
              "998  1             1          \n",
              "1000 1             1          "
            ],
            "text/latex": "A data.frame: 600 × 8\n\\begin{tabular}{r|llllllll}\n  & duration & amount & installment\\_rate & present\\_residence & age & credit\\_history & people\\_liable & credit\\_risk\\\\\n  & <dbl> & <dbl> & <dbl> & <dbl> & <dbl> & <dbl> & <dbl> & <fct>\\\\\n\\hline\n\t1 &  6 & 1169 & 4 & 4 & 67 & 2 & 1 & 1\\\\\n\t2 & 48 & 5951 & 2 & 2 & 22 & 1 & 1 & 0\\\\\n\t6 & 36 & 9055 & 2 & 4 & 35 & 1 & 2 & 1\\\\\n\t7 & 24 & 2835 & 3 & 4 & 53 & 1 & 1 & 1\\\\\n\t8 & 36 & 6948 & 2 & 2 & 35 & 1 & 1 & 1\\\\\n\t12 & 48 & 4308 & 3 & 4 & 24 & 1 & 1 & 0\\\\\n\t13 & 12 & 1567 & 1 & 1 & 22 & 1 & 1 & 1\\\\\n\t14 & 24 & 1199 & 4 & 4 & 60 & 2 & 1 & 0\\\\\n\t16 & 24 & 1282 & 4 & 2 & 32 & 1 & 1 & 0\\\\\n\t17 & 24 & 2424 & 4 & 4 & 53 & 2 & 1 & 1\\\\\n\t18 & 30 & 8072 & 2 & 3 & 25 & 3 & 1 & 1\\\\\n\t21 &  9 & 2134 & 4 & 4 & 48 & 3 & 1 & 1\\\\\n\t22 &  6 & 2647 & 2 & 3 & 44 & 1 & 2 & 1\\\\\n\t25 & 10 & 2069 & 2 & 1 & 26 & 2 & 1 & 1\\\\\n\t27 &  6 &  426 & 4 & 4 & 39 & 1 & 1 & 1\\\\\n\t28 & 12 &  409 & 3 & 3 & 42 & 2 & 1 & 1\\\\\n\t31 & 18 & 1913 & 3 & 3 & 36 & 1 & 1 & 1\\\\\n\t33 & 18 & 5866 & 2 & 2 & 30 & 2 & 1 & 1\\\\\n\t34 & 12 & 1264 & 4 & 4 & 57 & 1 & 1 & 1\\\\\n\t35 & 12 & 1474 & 4 & 1 & 33 & 1 & 1 & 1\\\\\n\t37 & 48 & 6110 & 1 & 3 & 31 & 1 & 1 & 1\\\\\n\t40 &  9 &  458 & 4 & 3 & 24 & 1 & 1 & 1\\\\\n\t41 & 30 & 2333 & 4 & 2 & 30 & 1 & 1 & 1\\\\\n\t43 & 18 & 6204 & 2 & 4 & 44 & 1 & 2 & 1\\\\\n\t44 & 30 & 6187 & 1 & 4 & 24 & 2 & 1 & 1\\\\\n\t47 & 36 & 2299 & 4 & 4 & 39 & 1 & 1 & 1\\\\\n\t50 & 12 & 2073 & 4 & 2 & 28 & 1 & 1 & 1\\\\\n\t52 & 27 & 5965 & 1 & 2 & 30 & 2 & 1 & 1\\\\\n\t53 & 12 & 1262 & 3 & 2 & 25 & 1 & 1 & 1\\\\\n\t54 & 18 & 3378 & 2 & 1 & 31 & 1 & 1 & 1\\\\\n\t⋮ & ⋮ & ⋮ & ⋮ & ⋮ & ⋮ & ⋮ & ⋮ & ⋮\\\\\n\t955 & 12 & 1893 & 4 & 4 & 29 & 1 & 1 & 1\\\\\n\t959 & 28 & 4006 & 3 & 2 & 45 & 1 & 1 & 0\\\\\n\t960 & 24 & 3069 & 4 & 4 & 30 & 1 & 1 & 1\\\\\n\t961 &  6 & 1740 & 2 & 2 & 30 & 2 & 1 & 1\\\\\n\t962 & 21 & 2353 & 1 & 4 & 47 & 2 & 1 & 1\\\\\n\t963 & 15 & 3556 & 3 & 2 & 29 & 1 & 1 & 1\\\\\n\t965 &  6 &  454 & 3 & 1 & 22 & 1 & 1 & 1\\\\\n\t966 & 30 & 1715 & 4 & 1 & 26 & 1 & 1 & 1\\\\\n\t967 & 27 & 2520 & 4 & 2 & 23 & 2 & 1 & 0\\\\\n\t968 & 15 & 3568 & 4 & 2 & 54 & 1 & 1 & 1\\\\\n\t969 & 42 & 7166 & 2 & 4 & 29 & 1 & 1 & 1\\\\\n\t970 & 11 & 3939 & 1 & 2 & 40 & 2 & 2 & 1\\\\\n\t971 & 15 & 1514 & 4 & 2 & 22 & 1 & 1 & 1\\\\\n\t972 & 24 & 7393 & 1 & 4 & 43 & 1 & 2 & 1\\\\\n\t975 & 30 & 2831 & 4 & 2 & 33 & 1 & 1 & 1\\\\\n\t976 & 24 & 1258 & 3 & 3 & 57 & 1 & 1 & 1\\\\\n\t977 &  6 &  753 & 2 & 3 & 64 & 1 & 1 & 1\\\\\n\t978 & 18 & 2427 & 4 & 2 & 42 & 2 & 1 & 1\\\\\n\t981 & 30 & 8386 & 2 & 2 & 49 & 1 & 1 & 0\\\\\n\t982 & 48 & 4844 & 3 & 2 & 33 & 1 & 1 & 0\\\\\n\t983 & 21 & 2923 & 1 & 1 & 28 & 1 & 1 & 1\\\\\n\t984 & 36 & 8229 & 2 & 2 & 26 & 1 & 2 & 0\\\\\n\t986 & 15 & 1433 & 4 & 3 & 25 & 2 & 1 & 1\\\\\n\t988 & 13 & 1409 & 2 & 4 & 64 & 1 & 1 & 1\\\\\n\t989 & 24 & 6579 & 4 & 2 & 29 & 1 & 1 & 1\\\\\n\t994 & 36 & 3959 & 4 & 3 & 30 & 1 & 1 & 1\\\\\n\t996 & 12 & 1736 & 3 & 4 & 31 & 1 & 1 & 1\\\\\n\t997 & 30 & 3857 & 4 & 4 & 40 & 1 & 1 & 1\\\\\n\t998 & 12 &  804 & 4 & 4 & 38 & 1 & 1 & 1\\\\\n\t1000 & 45 & 4576 & 3 & 4 & 27 & 1 & 1 & 1\\\\\n\\end{tabular}\n",
            "text/markdown": "\nA data.frame: 600 × 8\n\n| <!--/--> | duration &lt;dbl&gt; | amount &lt;dbl&gt; | installment_rate &lt;dbl&gt; | present_residence &lt;dbl&gt; | age &lt;dbl&gt; | credit_history &lt;dbl&gt; | people_liable &lt;dbl&gt; | credit_risk &lt;fct&gt; |\n|---|---|---|---|---|---|---|---|---|\n| 1 |  6 | 1169 | 4 | 4 | 67 | 2 | 1 | 1 |\n| 2 | 48 | 5951 | 2 | 2 | 22 | 1 | 1 | 0 |\n| 6 | 36 | 9055 | 2 | 4 | 35 | 1 | 2 | 1 |\n| 7 | 24 | 2835 | 3 | 4 | 53 | 1 | 1 | 1 |\n| 8 | 36 | 6948 | 2 | 2 | 35 | 1 | 1 | 1 |\n| 12 | 48 | 4308 | 3 | 4 | 24 | 1 | 1 | 0 |\n| 13 | 12 | 1567 | 1 | 1 | 22 | 1 | 1 | 1 |\n| 14 | 24 | 1199 | 4 | 4 | 60 | 2 | 1 | 0 |\n| 16 | 24 | 1282 | 4 | 2 | 32 | 1 | 1 | 0 |\n| 17 | 24 | 2424 | 4 | 4 | 53 | 2 | 1 | 1 |\n| 18 | 30 | 8072 | 2 | 3 | 25 | 3 | 1 | 1 |\n| 21 |  9 | 2134 | 4 | 4 | 48 | 3 | 1 | 1 |\n| 22 |  6 | 2647 | 2 | 3 | 44 | 1 | 2 | 1 |\n| 25 | 10 | 2069 | 2 | 1 | 26 | 2 | 1 | 1 |\n| 27 |  6 |  426 | 4 | 4 | 39 | 1 | 1 | 1 |\n| 28 | 12 |  409 | 3 | 3 | 42 | 2 | 1 | 1 |\n| 31 | 18 | 1913 | 3 | 3 | 36 | 1 | 1 | 1 |\n| 33 | 18 | 5866 | 2 | 2 | 30 | 2 | 1 | 1 |\n| 34 | 12 | 1264 | 4 | 4 | 57 | 1 | 1 | 1 |\n| 35 | 12 | 1474 | 4 | 1 | 33 | 1 | 1 | 1 |\n| 37 | 48 | 6110 | 1 | 3 | 31 | 1 | 1 | 1 |\n| 40 |  9 |  458 | 4 | 3 | 24 | 1 | 1 | 1 |\n| 41 | 30 | 2333 | 4 | 2 | 30 | 1 | 1 | 1 |\n| 43 | 18 | 6204 | 2 | 4 | 44 | 1 | 2 | 1 |\n| 44 | 30 | 6187 | 1 | 4 | 24 | 2 | 1 | 1 |\n| 47 | 36 | 2299 | 4 | 4 | 39 | 1 | 1 | 1 |\n| 50 | 12 | 2073 | 4 | 2 | 28 | 1 | 1 | 1 |\n| 52 | 27 | 5965 | 1 | 2 | 30 | 2 | 1 | 1 |\n| 53 | 12 | 1262 | 3 | 2 | 25 | 1 | 1 | 1 |\n| 54 | 18 | 3378 | 2 | 1 | 31 | 1 | 1 | 1 |\n| ⋮ | ⋮ | ⋮ | ⋮ | ⋮ | ⋮ | ⋮ | ⋮ | ⋮ |\n| 955 | 12 | 1893 | 4 | 4 | 29 | 1 | 1 | 1 |\n| 959 | 28 | 4006 | 3 | 2 | 45 | 1 | 1 | 0 |\n| 960 | 24 | 3069 | 4 | 4 | 30 | 1 | 1 | 1 |\n| 961 |  6 | 1740 | 2 | 2 | 30 | 2 | 1 | 1 |\n| 962 | 21 | 2353 | 1 | 4 | 47 | 2 | 1 | 1 |\n| 963 | 15 | 3556 | 3 | 2 | 29 | 1 | 1 | 1 |\n| 965 |  6 |  454 | 3 | 1 | 22 | 1 | 1 | 1 |\n| 966 | 30 | 1715 | 4 | 1 | 26 | 1 | 1 | 1 |\n| 967 | 27 | 2520 | 4 | 2 | 23 | 2 | 1 | 0 |\n| 968 | 15 | 3568 | 4 | 2 | 54 | 1 | 1 | 1 |\n| 969 | 42 | 7166 | 2 | 4 | 29 | 1 | 1 | 1 |\n| 970 | 11 | 3939 | 1 | 2 | 40 | 2 | 2 | 1 |\n| 971 | 15 | 1514 | 4 | 2 | 22 | 1 | 1 | 1 |\n| 972 | 24 | 7393 | 1 | 4 | 43 | 1 | 2 | 1 |\n| 975 | 30 | 2831 | 4 | 2 | 33 | 1 | 1 | 1 |\n| 976 | 24 | 1258 | 3 | 3 | 57 | 1 | 1 | 1 |\n| 977 |  6 |  753 | 2 | 3 | 64 | 1 | 1 | 1 |\n| 978 | 18 | 2427 | 4 | 2 | 42 | 2 | 1 | 1 |\n| 981 | 30 | 8386 | 2 | 2 | 49 | 1 | 1 | 0 |\n| 982 | 48 | 4844 | 3 | 2 | 33 | 1 | 1 | 0 |\n| 983 | 21 | 2923 | 1 | 1 | 28 | 1 | 1 | 1 |\n| 984 | 36 | 8229 | 2 | 2 | 26 | 1 | 2 | 0 |\n| 986 | 15 | 1433 | 4 | 3 | 25 | 2 | 1 | 1 |\n| 988 | 13 | 1409 | 2 | 4 | 64 | 1 | 1 | 1 |\n| 989 | 24 | 6579 | 4 | 2 | 29 | 1 | 1 | 1 |\n| 994 | 36 | 3959 | 4 | 3 | 30 | 1 | 1 | 1 |\n| 996 | 12 | 1736 | 3 | 4 | 31 | 1 | 1 | 1 |\n| 997 | 30 | 3857 | 4 | 4 | 40 | 1 | 1 | 1 |\n| 998 | 12 |  804 | 4 | 4 | 38 | 1 | 1 | 1 |\n| 1000 | 45 | 4576 | 3 | 4 | 27 | 1 | 1 | 1 |\n\n",
            "text/html": [
              "<table class=\"dataframe\">\n",
              "<caption>A data.frame: 600 × 8</caption>\n",
              "<thead>\n",
              "\t<tr><th></th><th scope=col>duration</th><th scope=col>amount</th><th scope=col>installment_rate</th><th scope=col>present_residence</th><th scope=col>age</th><th scope=col>credit_history</th><th scope=col>people_liable</th><th scope=col>credit_risk</th></tr>\n",
              "\t<tr><th></th><th scope=col>&lt;dbl&gt;</th><th scope=col>&lt;dbl&gt;</th><th scope=col>&lt;dbl&gt;</th><th scope=col>&lt;dbl&gt;</th><th scope=col>&lt;dbl&gt;</th><th scope=col>&lt;dbl&gt;</th><th scope=col>&lt;dbl&gt;</th><th scope=col>&lt;fct&gt;</th></tr>\n",
              "</thead>\n",
              "<tbody>\n",
              "\t<tr><th scope=row>1</th><td> 6</td><td>1169</td><td>4</td><td>4</td><td>67</td><td>2</td><td>1</td><td>1</td></tr>\n",
              "\t<tr><th scope=row>2</th><td>48</td><td>5951</td><td>2</td><td>2</td><td>22</td><td>1</td><td>1</td><td>0</td></tr>\n",
              "\t<tr><th scope=row>6</th><td>36</td><td>9055</td><td>2</td><td>4</td><td>35</td><td>1</td><td>2</td><td>1</td></tr>\n",
              "\t<tr><th scope=row>7</th><td>24</td><td>2835</td><td>3</td><td>4</td><td>53</td><td>1</td><td>1</td><td>1</td></tr>\n",
              "\t<tr><th scope=row>8</th><td>36</td><td>6948</td><td>2</td><td>2</td><td>35</td><td>1</td><td>1</td><td>1</td></tr>\n",
              "\t<tr><th scope=row>12</th><td>48</td><td>4308</td><td>3</td><td>4</td><td>24</td><td>1</td><td>1</td><td>0</td></tr>\n",
              "\t<tr><th scope=row>13</th><td>12</td><td>1567</td><td>1</td><td>1</td><td>22</td><td>1</td><td>1</td><td>1</td></tr>\n",
              "\t<tr><th scope=row>14</th><td>24</td><td>1199</td><td>4</td><td>4</td><td>60</td><td>2</td><td>1</td><td>0</td></tr>\n",
              "\t<tr><th scope=row>16</th><td>24</td><td>1282</td><td>4</td><td>2</td><td>32</td><td>1</td><td>1</td><td>0</td></tr>\n",
              "\t<tr><th scope=row>17</th><td>24</td><td>2424</td><td>4</td><td>4</td><td>53</td><td>2</td><td>1</td><td>1</td></tr>\n",
              "\t<tr><th scope=row>18</th><td>30</td><td>8072</td><td>2</td><td>3</td><td>25</td><td>3</td><td>1</td><td>1</td></tr>\n",
              "\t<tr><th scope=row>21</th><td> 9</td><td>2134</td><td>4</td><td>4</td><td>48</td><td>3</td><td>1</td><td>1</td></tr>\n",
              "\t<tr><th scope=row>22</th><td> 6</td><td>2647</td><td>2</td><td>3</td><td>44</td><td>1</td><td>2</td><td>1</td></tr>\n",
              "\t<tr><th scope=row>25</th><td>10</td><td>2069</td><td>2</td><td>1</td><td>26</td><td>2</td><td>1</td><td>1</td></tr>\n",
              "\t<tr><th scope=row>27</th><td> 6</td><td> 426</td><td>4</td><td>4</td><td>39</td><td>1</td><td>1</td><td>1</td></tr>\n",
              "\t<tr><th scope=row>28</th><td>12</td><td> 409</td><td>3</td><td>3</td><td>42</td><td>2</td><td>1</td><td>1</td></tr>\n",
              "\t<tr><th scope=row>31</th><td>18</td><td>1913</td><td>3</td><td>3</td><td>36</td><td>1</td><td>1</td><td>1</td></tr>\n",
              "\t<tr><th scope=row>33</th><td>18</td><td>5866</td><td>2</td><td>2</td><td>30</td><td>2</td><td>1</td><td>1</td></tr>\n",
              "\t<tr><th scope=row>34</th><td>12</td><td>1264</td><td>4</td><td>4</td><td>57</td><td>1</td><td>1</td><td>1</td></tr>\n",
              "\t<tr><th scope=row>35</th><td>12</td><td>1474</td><td>4</td><td>1</td><td>33</td><td>1</td><td>1</td><td>1</td></tr>\n",
              "\t<tr><th scope=row>37</th><td>48</td><td>6110</td><td>1</td><td>3</td><td>31</td><td>1</td><td>1</td><td>1</td></tr>\n",
              "\t<tr><th scope=row>40</th><td> 9</td><td> 458</td><td>4</td><td>3</td><td>24</td><td>1</td><td>1</td><td>1</td></tr>\n",
              "\t<tr><th scope=row>41</th><td>30</td><td>2333</td><td>4</td><td>2</td><td>30</td><td>1</td><td>1</td><td>1</td></tr>\n",
              "\t<tr><th scope=row>43</th><td>18</td><td>6204</td><td>2</td><td>4</td><td>44</td><td>1</td><td>2</td><td>1</td></tr>\n",
              "\t<tr><th scope=row>44</th><td>30</td><td>6187</td><td>1</td><td>4</td><td>24</td><td>2</td><td>1</td><td>1</td></tr>\n",
              "\t<tr><th scope=row>47</th><td>36</td><td>2299</td><td>4</td><td>4</td><td>39</td><td>1</td><td>1</td><td>1</td></tr>\n",
              "\t<tr><th scope=row>50</th><td>12</td><td>2073</td><td>4</td><td>2</td><td>28</td><td>1</td><td>1</td><td>1</td></tr>\n",
              "\t<tr><th scope=row>52</th><td>27</td><td>5965</td><td>1</td><td>2</td><td>30</td><td>2</td><td>1</td><td>1</td></tr>\n",
              "\t<tr><th scope=row>53</th><td>12</td><td>1262</td><td>3</td><td>2</td><td>25</td><td>1</td><td>1</td><td>1</td></tr>\n",
              "\t<tr><th scope=row>54</th><td>18</td><td>3378</td><td>2</td><td>1</td><td>31</td><td>1</td><td>1</td><td>1</td></tr>\n",
              "\t<tr><th scope=row>⋮</th><td>⋮</td><td>⋮</td><td>⋮</td><td>⋮</td><td>⋮</td><td>⋮</td><td>⋮</td><td>⋮</td></tr>\n",
              "\t<tr><th scope=row>955</th><td>12</td><td>1893</td><td>4</td><td>4</td><td>29</td><td>1</td><td>1</td><td>1</td></tr>\n",
              "\t<tr><th scope=row>959</th><td>28</td><td>4006</td><td>3</td><td>2</td><td>45</td><td>1</td><td>1</td><td>0</td></tr>\n",
              "\t<tr><th scope=row>960</th><td>24</td><td>3069</td><td>4</td><td>4</td><td>30</td><td>1</td><td>1</td><td>1</td></tr>\n",
              "\t<tr><th scope=row>961</th><td> 6</td><td>1740</td><td>2</td><td>2</td><td>30</td><td>2</td><td>1</td><td>1</td></tr>\n",
              "\t<tr><th scope=row>962</th><td>21</td><td>2353</td><td>1</td><td>4</td><td>47</td><td>2</td><td>1</td><td>1</td></tr>\n",
              "\t<tr><th scope=row>963</th><td>15</td><td>3556</td><td>3</td><td>2</td><td>29</td><td>1</td><td>1</td><td>1</td></tr>\n",
              "\t<tr><th scope=row>965</th><td> 6</td><td> 454</td><td>3</td><td>1</td><td>22</td><td>1</td><td>1</td><td>1</td></tr>\n",
              "\t<tr><th scope=row>966</th><td>30</td><td>1715</td><td>4</td><td>1</td><td>26</td><td>1</td><td>1</td><td>1</td></tr>\n",
              "\t<tr><th scope=row>967</th><td>27</td><td>2520</td><td>4</td><td>2</td><td>23</td><td>2</td><td>1</td><td>0</td></tr>\n",
              "\t<tr><th scope=row>968</th><td>15</td><td>3568</td><td>4</td><td>2</td><td>54</td><td>1</td><td>1</td><td>1</td></tr>\n",
              "\t<tr><th scope=row>969</th><td>42</td><td>7166</td><td>2</td><td>4</td><td>29</td><td>1</td><td>1</td><td>1</td></tr>\n",
              "\t<tr><th scope=row>970</th><td>11</td><td>3939</td><td>1</td><td>2</td><td>40</td><td>2</td><td>2</td><td>1</td></tr>\n",
              "\t<tr><th scope=row>971</th><td>15</td><td>1514</td><td>4</td><td>2</td><td>22</td><td>1</td><td>1</td><td>1</td></tr>\n",
              "\t<tr><th scope=row>972</th><td>24</td><td>7393</td><td>1</td><td>4</td><td>43</td><td>1</td><td>2</td><td>1</td></tr>\n",
              "\t<tr><th scope=row>975</th><td>30</td><td>2831</td><td>4</td><td>2</td><td>33</td><td>1</td><td>1</td><td>1</td></tr>\n",
              "\t<tr><th scope=row>976</th><td>24</td><td>1258</td><td>3</td><td>3</td><td>57</td><td>1</td><td>1</td><td>1</td></tr>\n",
              "\t<tr><th scope=row>977</th><td> 6</td><td> 753</td><td>2</td><td>3</td><td>64</td><td>1</td><td>1</td><td>1</td></tr>\n",
              "\t<tr><th scope=row>978</th><td>18</td><td>2427</td><td>4</td><td>2</td><td>42</td><td>2</td><td>1</td><td>1</td></tr>\n",
              "\t<tr><th scope=row>981</th><td>30</td><td>8386</td><td>2</td><td>2</td><td>49</td><td>1</td><td>1</td><td>0</td></tr>\n",
              "\t<tr><th scope=row>982</th><td>48</td><td>4844</td><td>3</td><td>2</td><td>33</td><td>1</td><td>1</td><td>0</td></tr>\n",
              "\t<tr><th scope=row>983</th><td>21</td><td>2923</td><td>1</td><td>1</td><td>28</td><td>1</td><td>1</td><td>1</td></tr>\n",
              "\t<tr><th scope=row>984</th><td>36</td><td>8229</td><td>2</td><td>2</td><td>26</td><td>1</td><td>2</td><td>0</td></tr>\n",
              "\t<tr><th scope=row>986</th><td>15</td><td>1433</td><td>4</td><td>3</td><td>25</td><td>2</td><td>1</td><td>1</td></tr>\n",
              "\t<tr><th scope=row>988</th><td>13</td><td>1409</td><td>2</td><td>4</td><td>64</td><td>1</td><td>1</td><td>1</td></tr>\n",
              "\t<tr><th scope=row>989</th><td>24</td><td>6579</td><td>4</td><td>2</td><td>29</td><td>1</td><td>1</td><td>1</td></tr>\n",
              "\t<tr><th scope=row>994</th><td>36</td><td>3959</td><td>4</td><td>3</td><td>30</td><td>1</td><td>1</td><td>1</td></tr>\n",
              "\t<tr><th scope=row>996</th><td>12</td><td>1736</td><td>3</td><td>4</td><td>31</td><td>1</td><td>1</td><td>1</td></tr>\n",
              "\t<tr><th scope=row>997</th><td>30</td><td>3857</td><td>4</td><td>4</td><td>40</td><td>1</td><td>1</td><td>1</td></tr>\n",
              "\t<tr><th scope=row>998</th><td>12</td><td> 804</td><td>4</td><td>4</td><td>38</td><td>1</td><td>1</td><td>1</td></tr>\n",
              "\t<tr><th scope=row>1000</th><td>45</td><td>4576</td><td>3</td><td>4</td><td>27</td><td>1</td><td>1</td><td>1</td></tr>\n",
              "</tbody>\n",
              "</table>\n"
            ]
          },
          "metadata": {}
        }
      ]
    },
    {
      "cell_type": "code",
      "source": [
        "predictValues"
      ],
      "metadata": {
        "colab": {
          "base_uri": "https://localhost:8080/",
          "height": 173
        },
        "id": "cwj5aH7XoQ4Y",
        "outputId": "eaaf8b0c-cc88-44d7-ab15-282fd5d79ffe"
      },
      "execution_count": null,
      "outputs": [
        {
          "output_type": "display_data",
          "data": {
            "text/plain": [
              "  [1] 1 1 1 1 1 1 1 1 1 1 1 1 1 1 1 1 1 1 1 1 1 1 1 1 1 1 1 1 1 1 1 1 1 1 1 1 1\n",
              " [38] 1 1 1 1 1 1 1 1 1 1 1 1 1 1 1 1 1 1 1 1 1 1 1 1 1 1 1 1 1 1 1 1 1 1 1 1 1\n",
              " [75] 1 1 1 1 1 1 1 1 1 1 1 1 1 1 1 1 1 1 1 1 1 1 1 1 1 1 1 1 1 1 1 1 1 1 1 1 1\n",
              "[112] 1 1 1 1 1 1 1 1 1 1 1 1 1 1 1 1 1 1 1 1 1 1 1 1 1 1 1 1 1 1 1 1 1 1 1 1 1\n",
              "[149] 1 1 1 1 1 1 1 1 1 1 1 1 1 1 1 1 1 1 1 1 1 1 1 1 1 1 1 1 1 1 1 1 1 1 1 1 1\n",
              "[186] 1 1 1 1 1 1 1 1 1 1 1 1 1 1 1 1 1 1 1 1 1 1 1 1 1 1 1 1 1 1 1 1 1 1 1 1 1\n",
              "[223] 1 1 1 1 1 1 1 1 1 1 1 1 1 1 1 1 1 1 1 1 1 1 1 1 1 1 1 1 1 1 1 1 1 1 1 1 1\n",
              "[260] 1 1 1 1 1 1 1 1 1 1 1 1 1 1 1 1 1 1 1 1 1 1 1 1 1 1 1 1 1 1 1 1 1 1 1 1 1\n",
              "[297] 1 1 1 1 1 1 1 1 1 1 1 1 1 1 1 1 1 1 1 1 1 1 1 1 1 1 1 1 1 1 1 1 1 1 1 1 1\n",
              "[334] 1 1 1 1 1 1 1 1 1 1 1 1 1 1 1 1 1 1 1 1 1 1 1 1 1 1 1 1 1 1 1 1 1 1 1 1 1\n",
              "[371] 1 1 1 1 1 1 1 1 1 1 1 1 1 1 1 1 1 1 1 1 1 1 1 1 1 1 1 1 1 1 1 1 1 1 1 1 1\n",
              "[408] 1 1 1 1 1 1 1 1 1 1 1 1 1 1 1 1 1 1 1 1 1 1 1 1 1 1 1 1 1 1 1 1 1 1 1 1 1\n",
              "[445] 1 1 1 1 1 1 1 1 1 1 1 1 1 1 1 1 1 1 1 1 1 1 1 1 1 1 1 1 1 1 1 1 1 1 1 1 1\n",
              "[482] 1 1 1 1 1 1 1 1 1 1 1 1 1 1 1 1 1 1 1 1 1 1 1 1 1 1 1 1 1 1 1 1 1 1 1 1 1\n",
              "[519] 1 1 1 1 1 1 1 1 1 1 1 1 1 1 1 1 1 1 1 1 1 1 1 1 1 1 1 1 1 1 1 1 1 1 1 1 1\n",
              "[556] 1 1 1 1 1 1 1 1 1 1 1 1 1 1 1 1 1 1 1 1 1 1 1 1 1 1 1 1 1 1 1 1 1 1 1 1 1\n",
              "[593] 1 1 1 1 1 1 1 1\n",
              "Levels: 0 1"
            ],
            "text/latex": "\\begin{enumerate*}\n\\item 1\n\\item 1\n\\item 1\n\\item 1\n\\item 1\n\\item 1\n\\item 1\n\\item 1\n\\item 1\n\\item 1\n\\item 1\n\\item 1\n\\item 1\n\\item 1\n\\item 1\n\\item 1\n\\item 1\n\\item 1\n\\item 1\n\\item 1\n\\item 1\n\\item 1\n\\item 1\n\\item 1\n\\item 1\n\\item 1\n\\item 1\n\\item 1\n\\item 1\n\\item 1\n\\item 1\n\\item 1\n\\item 1\n\\item 1\n\\item 1\n\\item 1\n\\item 1\n\\item 1\n\\item 1\n\\item 1\n\\item 1\n\\item 1\n\\item 1\n\\item 1\n\\item 1\n\\item 1\n\\item 1\n\\item 1\n\\item 1\n\\item 1\n\\item 1\n\\item 1\n\\item 1\n\\item 1\n\\item 1\n\\item 1\n\\item 1\n\\item 1\n\\item 1\n\\item 1\n\\item 1\n\\item 1\n\\item 1\n\\item 1\n\\item 1\n\\item 1\n\\item 1\n\\item 1\n\\item 1\n\\item 1\n\\item 1\n\\item 1\n\\item 1\n\\item 1\n\\item 1\n\\item 1\n\\item 1\n\\item 1\n\\item 1\n\\item 1\n\\item 1\n\\item 1\n\\item 1\n\\item 1\n\\item 1\n\\item 1\n\\item 1\n\\item 1\n\\item 1\n\\item 1\n\\item 1\n\\item 1\n\\item 1\n\\item 1\n\\item 1\n\\item 1\n\\item 1\n\\item 1\n\\item 1\n\\item 1\n\\item 1\n\\item 1\n\\item 1\n\\item 1\n\\item 1\n\\item 1\n\\item 1\n\\item 1\n\\item 1\n\\item 1\n\\item 1\n\\item 1\n\\item 1\n\\item 1\n\\item 1\n\\item 1\n\\item 1\n\\item 1\n\\item 1\n\\item 1\n\\item 1\n\\item 1\n\\item 1\n\\item 1\n\\item 1\n\\item 1\n\\item 1\n\\item 1\n\\item 1\n\\item 1\n\\item 1\n\\item 1\n\\item 1\n\\item 1\n\\item 1\n\\item 1\n\\item 1\n\\item 1\n\\item 1\n\\item 1\n\\item 1\n\\item 1\n\\item 1\n\\item 1\n\\item 1\n\\item 1\n\\item 1\n\\item 1\n\\item 1\n\\item 1\n\\item 1\n\\item 1\n\\item 1\n\\item 1\n\\item 1\n\\item 1\n\\item 1\n\\item 1\n\\item 1\n\\item 1\n\\item 1\n\\item 1\n\\item 1\n\\item 1\n\\item 1\n\\item 1\n\\item 1\n\\item 1\n\\item 1\n\\item 1\n\\item 1\n\\item 1\n\\item 1\n\\item 1\n\\item 1\n\\item 1\n\\item 1\n\\item 1\n\\item 1\n\\item 1\n\\item 1\n\\item 1\n\\item 1\n\\item 1\n\\item 1\n\\item 1\n\\item 1\n\\item 1\n\\item 1\n\\item 1\n\\item 1\n\\item 1\n\\item 1\n\\item 1\n\\item 1\n\\item 1\n\\item 1\n\\item 1\n\\item 1\n\\item 1\n\\item ⋯\n\\item 1\n\\item 1\n\\item 1\n\\item 1\n\\item 1\n\\item 1\n\\item 1\n\\item 1\n\\item 1\n\\item 1\n\\item 1\n\\item 1\n\\item 1\n\\item 1\n\\item 1\n\\item 1\n\\item 1\n\\item 1\n\\item 1\n\\item 1\n\\item 1\n\\item 1\n\\item 1\n\\item 1\n\\item 1\n\\item 1\n\\item 1\n\\item 1\n\\item 1\n\\item 1\n\\item 1\n\\item 1\n\\item 1\n\\item 1\n\\item 1\n\\item 1\n\\item 1\n\\item 1\n\\item 1\n\\item 1\n\\item 1\n\\item 1\n\\item 1\n\\item 1\n\\item 1\n\\item 1\n\\item 1\n\\item 1\n\\item 1\n\\item 1\n\\item 1\n\\item 1\n\\item 1\n\\item 1\n\\item 1\n\\item 1\n\\item 1\n\\item 1\n\\item 1\n\\item 1\n\\item 1\n\\item 1\n\\item 1\n\\item 1\n\\item 1\n\\item 1\n\\item 1\n\\item 1\n\\item 1\n\\item 1\n\\item 1\n\\item 1\n\\item 1\n\\item 1\n\\item 1\n\\item 1\n\\item 1\n\\item 1\n\\item 1\n\\item 1\n\\item 1\n\\item 1\n\\item 1\n\\item 1\n\\item 1\n\\item 1\n\\item 1\n\\item 1\n\\item 1\n\\item 1\n\\item 1\n\\item 1\n\\item 1\n\\item 1\n\\item 1\n\\item 1\n\\item 1\n\\item 1\n\\item 1\n\\item 1\n\\item 1\n\\item 1\n\\item 1\n\\item 1\n\\item 1\n\\item 1\n\\item 1\n\\item 1\n\\item 1\n\\item 1\n\\item 1\n\\item 1\n\\item 1\n\\item 1\n\\item 1\n\\item 1\n\\item 1\n\\item 1\n\\item 1\n\\item 1\n\\item 1\n\\item 1\n\\item 1\n\\item 1\n\\item 1\n\\item 1\n\\item 1\n\\item 1\n\\item 1\n\\item 1\n\\item 1\n\\item 1\n\\item 1\n\\item 1\n\\item 1\n\\item 1\n\\item 1\n\\item 1\n\\item 1\n\\item 1\n\\item 1\n\\item 1\n\\item 1\n\\item 1\n\\item 1\n\\item 1\n\\item 1\n\\item 1\n\\item 1\n\\item 1\n\\item 1\n\\item 1\n\\item 1\n\\item 1\n\\item 1\n\\item 1\n\\item 1\n\\item 1\n\\item 1\n\\item 1\n\\item 1\n\\item 1\n\\item 1\n\\item 1\n\\item 1\n\\item 1\n\\item 1\n\\item 1\n\\item 1\n\\item 1\n\\item 1\n\\item 1\n\\item 1\n\\item 1\n\\item 1\n\\item 1\n\\item 1\n\\item 1\n\\item 1\n\\item 1\n\\item 1\n\\item 1\n\\item 1\n\\item 1\n\\item 1\n\\item 1\n\\item 1\n\\item 1\n\\item 1\n\\item 1\n\\item 1\n\\item 1\n\\item 1\n\\item 1\n\\item 1\n\\item 1\n\\item 1\n\\item 1\n\\item 1\n\\item 1\n\\end{enumerate*}\n\n\\emph{Levels}: \\begin{enumerate*}\n\\item '0'\n\\item '1'\n\\end{enumerate*}\n",
            "text/markdown": "1. 1\n2. 1\n3. 1\n4. 1\n5. 1\n6. 1\n7. 1\n8. 1\n9. 1\n10. 1\n11. 1\n12. 1\n13. 1\n14. 1\n15. 1\n16. 1\n17. 1\n18. 1\n19. 1\n20. 1\n21. 1\n22. 1\n23. 1\n24. 1\n25. 1\n26. 1\n27. 1\n28. 1\n29. 1\n30. 1\n31. 1\n32. 1\n33. 1\n34. 1\n35. 1\n36. 1\n37. 1\n38. 1\n39. 1\n40. 1\n41. 1\n42. 1\n43. 1\n44. 1\n45. 1\n46. 1\n47. 1\n48. 1\n49. 1\n50. 1\n51. 1\n52. 1\n53. 1\n54. 1\n55. 1\n56. 1\n57. 1\n58. 1\n59. 1\n60. 1\n61. 1\n62. 1\n63. 1\n64. 1\n65. 1\n66. 1\n67. 1\n68. 1\n69. 1\n70. 1\n71. 1\n72. 1\n73. 1\n74. 1\n75. 1\n76. 1\n77. 1\n78. 1\n79. 1\n80. 1\n81. 1\n82. 1\n83. 1\n84. 1\n85. 1\n86. 1\n87. 1\n88. 1\n89. 1\n90. 1\n91. 1\n92. 1\n93. 1\n94. 1\n95. 1\n96. 1\n97. 1\n98. 1\n99. 1\n100. 1\n101. 1\n102. 1\n103. 1\n104. 1\n105. 1\n106. 1\n107. 1\n108. 1\n109. 1\n110. 1\n111. 1\n112. 1\n113. 1\n114. 1\n115. 1\n116. 1\n117. 1\n118. 1\n119. 1\n120. 1\n121. 1\n122. 1\n123. 1\n124. 1\n125. 1\n126. 1\n127. 1\n128. 1\n129. 1\n130. 1\n131. 1\n132. 1\n133. 1\n134. 1\n135. 1\n136. 1\n137. 1\n138. 1\n139. 1\n140. 1\n141. 1\n142. 1\n143. 1\n144. 1\n145. 1\n146. 1\n147. 1\n148. 1\n149. 1\n150. 1\n151. 1\n152. 1\n153. 1\n154. 1\n155. 1\n156. 1\n157. 1\n158. 1\n159. 1\n160. 1\n161. 1\n162. 1\n163. 1\n164. 1\n165. 1\n166. 1\n167. 1\n168. 1\n169. 1\n170. 1\n171. 1\n172. 1\n173. 1\n174. 1\n175. 1\n176. 1\n177. 1\n178. 1\n179. 1\n180. 1\n181. 1\n182. 1\n183. 1\n184. 1\n185. 1\n186. 1\n187. 1\n188. 1\n189. 1\n190. 1\n191. 1\n192. 1\n193. 1\n194. 1\n195. 1\n196. 1\n197. 1\n198. 1\n199. 1\n200. 1\n201. ⋯\n202. 1\n203. 1\n204. 1\n205. 1\n206. 1\n207. 1\n208. 1\n209. 1\n210. 1\n211. 1\n212. 1\n213. 1\n214. 1\n215. 1\n216. 1\n217. 1\n218. 1\n219. 1\n220. 1\n221. 1\n222. 1\n223. 1\n224. 1\n225. 1\n226. 1\n227. 1\n228. 1\n229. 1\n230. 1\n231. 1\n232. 1\n233. 1\n234. 1\n235. 1\n236. 1\n237. 1\n238. 1\n239. 1\n240. 1\n241. 1\n242. 1\n243. 1\n244. 1\n245. 1\n246. 1\n247. 1\n248. 1\n249. 1\n250. 1\n251. 1\n252. 1\n253. 1\n254. 1\n255. 1\n256. 1\n257. 1\n258. 1\n259. 1\n260. 1\n261. 1\n262. 1\n263. 1\n264. 1\n265. 1\n266. 1\n267. 1\n268. 1\n269. 1\n270. 1\n271. 1\n272. 1\n273. 1\n274. 1\n275. 1\n276. 1\n277. 1\n278. 1\n279. 1\n280. 1\n281. 1\n282. 1\n283. 1\n284. 1\n285. 1\n286. 1\n287. 1\n288. 1\n289. 1\n290. 1\n291. 1\n292. 1\n293. 1\n294. 1\n295. 1\n296. 1\n297. 1\n298. 1\n299. 1\n300. 1\n301. 1\n302. 1\n303. 1\n304. 1\n305. 1\n306. 1\n307. 1\n308. 1\n309. 1\n310. 1\n311. 1\n312. 1\n313. 1\n314. 1\n315. 1\n316. 1\n317. 1\n318. 1\n319. 1\n320. 1\n321. 1\n322. 1\n323. 1\n324. 1\n325. 1\n326. 1\n327. 1\n328. 1\n329. 1\n330. 1\n331. 1\n332. 1\n333. 1\n334. 1\n335. 1\n336. 1\n337. 1\n338. 1\n339. 1\n340. 1\n341. 1\n342. 1\n343. 1\n344. 1\n345. 1\n346. 1\n347. 1\n348. 1\n349. 1\n350. 1\n351. 1\n352. 1\n353. 1\n354. 1\n355. 1\n356. 1\n357. 1\n358. 1\n359. 1\n360. 1\n361. 1\n362. 1\n363. 1\n364. 1\n365. 1\n366. 1\n367. 1\n368. 1\n369. 1\n370. 1\n371. 1\n372. 1\n373. 1\n374. 1\n375. 1\n376. 1\n377. 1\n378. 1\n379. 1\n380. 1\n381. 1\n382. 1\n383. 1\n384. 1\n385. 1\n386. 1\n387. 1\n388. 1\n389. 1\n390. 1\n391. 1\n392. 1\n393. 1\n394. 1\n395. 1\n396. 1\n397. 1\n398. 1\n399. 1\n400. 1\n401. 1\n\n\n\n**Levels**: 1. '0'\n2. '1'\n\n\n",
            "text/html": [
              "<style>\n",
              ".list-inline {list-style: none; margin:0; padding: 0}\n",
              ".list-inline>li {display: inline-block}\n",
              ".list-inline>li:not(:last-child)::after {content: \"\\00b7\"; padding: 0 .5ex}\n",
              "</style>\n",
              "<ol class=list-inline><li>1</li><li>1</li><li>1</li><li>1</li><li>1</li><li>1</li><li>1</li><li>1</li><li>1</li><li>1</li><li>1</li><li>1</li><li>1</li><li>1</li><li>1</li><li>1</li><li>1</li><li>1</li><li>1</li><li>1</li><li>1</li><li>1</li><li>1</li><li>1</li><li>1</li><li>1</li><li>1</li><li>1</li><li>1</li><li>1</li><li>1</li><li>1</li><li>1</li><li>1</li><li>1</li><li>1</li><li>1</li><li>1</li><li>1</li><li>1</li><li>1</li><li>1</li><li>1</li><li>1</li><li>1</li><li>1</li><li>1</li><li>1</li><li>1</li><li>1</li><li>1</li><li>1</li><li>1</li><li>1</li><li>1</li><li>1</li><li>1</li><li>1</li><li>1</li><li>1</li><li>1</li><li>1</li><li>1</li><li>1</li><li>1</li><li>1</li><li>1</li><li>1</li><li>1</li><li>1</li><li>1</li><li>1</li><li>1</li><li>1</li><li>1</li><li>1</li><li>1</li><li>1</li><li>1</li><li>1</li><li>1</li><li>1</li><li>1</li><li>1</li><li>1</li><li>1</li><li>1</li><li>1</li><li>1</li><li>1</li><li>1</li><li>1</li><li>1</li><li>1</li><li>1</li><li>1</li><li>1</li><li>1</li><li>1</li><li>1</li><li>1</li><li>1</li><li>1</li><li>1</li><li>1</li><li>1</li><li>1</li><li>1</li><li>1</li><li>1</li><li>1</li><li>1</li><li>1</li><li>1</li><li>1</li><li>1</li><li>1</li><li>1</li><li>1</li><li>1</li><li>1</li><li>1</li><li>1</li><li>1</li><li>1</li><li>1</li><li>1</li><li>1</li><li>1</li><li>1</li><li>1</li><li>1</li><li>1</li><li>1</li><li>1</li><li>1</li><li>1</li><li>1</li><li>1</li><li>1</li><li>1</li><li>1</li><li>1</li><li>1</li><li>1</li><li>1</li><li>1</li><li>1</li><li>1</li><li>1</li><li>1</li><li>1</li><li>1</li><li>1</li><li>1</li><li>1</li><li>1</li><li>1</li><li>1</li><li>1</li><li>1</li><li>1</li><li>1</li><li>1</li><li>1</li><li>1</li><li>1</li><li>1</li><li>1</li><li>1</li><li>1</li><li>1</li><li>1</li><li>1</li><li>1</li><li>1</li><li>1</li><li>1</li><li>1</li><li>1</li><li>1</li><li>1</li><li>1</li><li>1</li><li>1</li><li>1</li><li>1</li><li>1</li><li>1</li><li>1</li><li>1</li><li>1</li><li>1</li><li>1</li><li>1</li><li>1</li><li>1</li><li>1</li><li>1</li><li>1</li><li>⋯</li><li>1</li><li>1</li><li>1</li><li>1</li><li>1</li><li>1</li><li>1</li><li>1</li><li>1</li><li>1</li><li>1</li><li>1</li><li>1</li><li>1</li><li>1</li><li>1</li><li>1</li><li>1</li><li>1</li><li>1</li><li>1</li><li>1</li><li>1</li><li>1</li><li>1</li><li>1</li><li>1</li><li>1</li><li>1</li><li>1</li><li>1</li><li>1</li><li>1</li><li>1</li><li>1</li><li>1</li><li>1</li><li>1</li><li>1</li><li>1</li><li>1</li><li>1</li><li>1</li><li>1</li><li>1</li><li>1</li><li>1</li><li>1</li><li>1</li><li>1</li><li>1</li><li>1</li><li>1</li><li>1</li><li>1</li><li>1</li><li>1</li><li>1</li><li>1</li><li>1</li><li>1</li><li>1</li><li>1</li><li>1</li><li>1</li><li>1</li><li>1</li><li>1</li><li>1</li><li>1</li><li>1</li><li>1</li><li>1</li><li>1</li><li>1</li><li>1</li><li>1</li><li>1</li><li>1</li><li>1</li><li>1</li><li>1</li><li>1</li><li>1</li><li>1</li><li>1</li><li>1</li><li>1</li><li>1</li><li>1</li><li>1</li><li>1</li><li>1</li><li>1</li><li>1</li><li>1</li><li>1</li><li>1</li><li>1</li><li>1</li><li>1</li><li>1</li><li>1</li><li>1</li><li>1</li><li>1</li><li>1</li><li>1</li><li>1</li><li>1</li><li>1</li><li>1</li><li>1</li><li>1</li><li>1</li><li>1</li><li>1</li><li>1</li><li>1</li><li>1</li><li>1</li><li>1</li><li>1</li><li>1</li><li>1</li><li>1</li><li>1</li><li>1</li><li>1</li><li>1</li><li>1</li><li>1</li><li>1</li><li>1</li><li>1</li><li>1</li><li>1</li><li>1</li><li>1</li><li>1</li><li>1</li><li>1</li><li>1</li><li>1</li><li>1</li><li>1</li><li>1</li><li>1</li><li>1</li><li>1</li><li>1</li><li>1</li><li>1</li><li>1</li><li>1</li><li>1</li><li>1</li><li>1</li><li>1</li><li>1</li><li>1</li><li>1</li><li>1</li><li>1</li><li>1</li><li>1</li><li>1</li><li>1</li><li>1</li><li>1</li><li>1</li><li>1</li><li>1</li><li>1</li><li>1</li><li>1</li><li>1</li><li>1</li><li>1</li><li>1</li><li>1</li><li>1</li><li>1</li><li>1</li><li>1</li><li>1</li><li>1</li><li>1</li><li>1</li><li>1</li><li>1</li><li>1</li><li>1</li><li>1</li><li>1</li><li>1</li><li>1</li><li>1</li><li>1</li><li>1</li></ol>\n",
              "\n",
              "<details>\n",
              "\t<summary style=display:list-item;cursor:pointer>\n",
              "\t\t<strong>Levels</strong>:\n",
              "\t</summary>\n",
              "\t<style>\n",
              "\t.list-inline {list-style: none; margin:0; padding: 0}\n",
              "\t.list-inline>li {display: inline-block}\n",
              "\t.list-inline>li:not(:last-child)::after {content: \"\\00b7\"; padding: 0 .5ex}\n",
              "\t</style>\n",
              "\t<ol class=list-inline><li>'0'</li><li>'1'</li></ol>\n",
              "</details>"
            ]
          },
          "metadata": {}
        }
      ]
    },
    {
      "cell_type": "markdown",
      "metadata": {
        "id": "rCPW1cnLomkG"
      },
      "source": [
        "B.\tThe **svmPred** object contains a list of classifications for reliable (=0) or risky (=1) borrowers. Review the contents of **svmPred** using head( )."
      ]
    },
    {
      "cell_type": "code",
      "execution_count": 18,
      "metadata": {
        "id": "ducorrR-omkH",
        "colab": {
          "base_uri": "https://localhost:8080/",
          "height": 52
        },
        "outputId": "be8289c3-75b3-4336-f271-d35c2d4c03cc"
      },
      "outputs": [
        {
          "output_type": "display_data",
          "data": {
            "text/plain": [
              "[1] 1 1 1 1 1 0\n",
              "Levels: 0 1"
            ],
            "text/latex": "\\begin{enumerate*}\n\\item 1\n\\item 1\n\\item 1\n\\item 1\n\\item 1\n\\item 0\n\\end{enumerate*}\n\n\\emph{Levels}: \\begin{enumerate*}\n\\item '0'\n\\item '1'\n\\end{enumerate*}\n",
            "text/markdown": "1. 1\n2. 1\n3. 1\n4. 1\n5. 1\n6. 0\n\n\n\n**Levels**: 1. '0'\n2. '1'\n\n\n",
            "text/html": [
              "<style>\n",
              ".list-inline {list-style: none; margin:0; padding: 0}\n",
              ".list-inline>li {display: inline-block}\n",
              ".list-inline>li:not(:last-child)::after {content: \"\\00b7\"; padding: 0 .5ex}\n",
              "</style>\n",
              "<ol class=list-inline><li>1</li><li>1</li><li>1</li><li>1</li><li>1</li><li>0</li></ol>\n",
              "\n",
              "<details>\n",
              "\t<summary style=display:list-item;cursor:pointer>\n",
              "\t\t<strong>Levels</strong>:\n",
              "\t</summary>\n",
              "\t<style>\n",
              "\t.list-inline {list-style: none; margin:0; padding: 0}\n",
              "\t.list-inline>li {display: inline-block}\n",
              "\t.list-inline>li:not(:last-child)::after {content: \"\\00b7\"; padding: 0 .5ex}\n",
              "\t</style>\n",
              "\t<ol class=list-inline><li>'0'</li><li>'1'</li></ol>\n",
              "</details>"
            ]
          },
          "metadata": {}
        }
      ],
      "source": [
        "head(svmPred)\n",
        "\n",
        "#So the SVMPred object contains either 0 or 1 based on the testset that was created. "
      ]
    },
    {
      "cell_type": "markdown",
      "metadata": {
        "id": "KLDL_6c5omkH"
      },
      "source": [
        "C.\tExplore the **confusion matrix**, using the caret package"
      ]
    },
    {
      "cell_type": "code",
      "execution_count": 23,
      "metadata": {
        "id": "PuaeHvfaomkH",
        "colab": {
          "base_uri": "https://localhost:8080/",
          "height": 486
        },
        "outputId": "f5ce1b90-a49d-409f-96d3-96ce8221f1c4"
      },
      "outputs": [
        {
          "output_type": "display_data",
          "data": {
            "text/plain": [
              "Confusion Matrix and Statistics\n",
              "\n",
              "          Reference\n",
              "Prediction   0   1\n",
              "         0  11   9\n",
              "         1 169 411\n",
              "                                         \n",
              "               Accuracy : 0.7033         \n",
              "                 95% CI : (0.665, 0.7396)\n",
              "    No Information Rate : 0.7            \n",
              "    P-Value [Acc > NIR] : 0.4492         \n",
              "                                         \n",
              "                  Kappa : 0.0532         \n",
              "                                         \n",
              " Mcnemar's Test P-Value : <2e-16         \n",
              "                                         \n",
              "            Sensitivity : 0.06111        \n",
              "            Specificity : 0.97857        \n",
              "         Pos Pred Value : 0.55000        \n",
              "         Neg Pred Value : 0.70862        \n",
              "             Prevalence : 0.30000        \n",
              "         Detection Rate : 0.01833        \n",
              "   Detection Prevalence : 0.03333        \n",
              "      Balanced Accuracy : 0.51984        \n",
              "                                         \n",
              "       'Positive' Class : 0              \n",
              "                                         "
            ]
          },
          "metadata": {}
        }
      ],
      "source": [
        "library(caret)\n",
        "confusion <- confusionMatrix(svmPred, testSet$credit_risk)\n",
        "confusion "
      ]
    },
    {
      "cell_type": "markdown",
      "metadata": {
        "id": "N_ZpMUSvomkH"
      },
      "source": [
        "D.\tWhat is the **accuracy** based on what you see in the confusion matrix. "
      ]
    },
    {
      "cell_type": "code",
      "execution_count": null,
      "metadata": {
        "id": "nGsWTr5tomkH"
      },
      "outputs": [],
      "source": [
        "accuracy is 0.5 or 50 percent. "
      ]
    },
    {
      "cell_type": "markdown",
      "metadata": {
        "id": "iEV-dDD4omkI"
      },
      "source": [
        "E.\tCompare your calculations with the **confusionMatrix()** function from the **caret** package."
      ]
    },
    {
      "cell_type": "markdown",
      "source": [
        ""
      ],
      "metadata": {
        "id": "rXVw8fCfqOVP"
      }
    },
    {
      "cell_type": "code",
      "execution_count": 2,
      "metadata": {
        "id": "ToC_FsclomkI",
        "colab": {
          "base_uri": "https://localhost:8080/"
        },
        "outputId": "ab0340e6-ff5a-41c3-9972-04e10602ec12"
      },
      "outputs": [
        {
          "output_type": "stream",
          "name": "stderr",
          "text": [
            "Installing package into ‘/usr/local/lib/R/site-library’\n",
            "(as ‘lib’ is unspecified)\n",
            "\n",
            "also installing the dependencies ‘listenv’, ‘parallelly’, ‘future’, ‘globals’, ‘future.apply’, ‘progressr’, ‘numDeriv’, ‘SQUAREM’, ‘lava’, ‘prodlim’, ‘proxy’, ‘iterators’, ‘gower’, ‘ipred’, ‘timeDate’, ‘e1071’, ‘foreach’, ‘ModelMetrics’, ‘plyr’, ‘pROC’, ‘recipes’, ‘reshape2’\n",
            "\n",
            "\n",
            "Loading required package: ggplot2\n",
            "\n",
            "Loading required package: lattice\n",
            "\n",
            "Warning message in system(\"timedatectl\", intern = TRUE):\n",
            "“running command 'timedatectl' had status 1”\n"
          ]
        }
      ],
      "source": [
        "install.packages(\"caret\")\n",
        "library(caret)"
      ]
    },
    {
      "cell_type": "markdown",
      "metadata": {
        "id": "KstVkD1UomkI"
      },
      "source": [
        "F.\tExplain, in a block comment:<br> 1) why it is valuable to have a “test” dataset that is separate from a “training” dataset, and <br>2) what potential ethical challenges this type of automated classification may pose. "
      ]
    },
    {
      "cell_type": "code",
      "execution_count": null,
      "metadata": {
        "id": "xKSgSQauomkI"
      },
      "outputs": [],
      "source": [
        "#The reason for having a test is because we don't want to use the entire set to test the data. We always want to have around 80 percent as the\n",
        "#training set and leave 20 percent of the rest, so that we can retest and make sure that the training set's result is also applied in the test set.\n",
        "#So the test set helps to validate the model as the test set itself is unbiased and not corrected from the train set. "
      ]
    },
    {
      "cell_type": "markdown",
      "metadata": {
        "id": "RCepwr4_416U"
      },
      "source": [
        "## Part 5: Now build a tree model (with rpart)\n",
        "\n",
        "A. Build a model with rpart\n",
        "<br>\n",
        "Note: you might need to install the e1071 package"
      ]
    },
    {
      "cell_type": "code",
      "execution_count": 25,
      "metadata": {
        "id": "Q6QDQOKm45kb",
        "colab": {
          "base_uri": "https://localhost:8080/"
        },
        "outputId": "8161d701-4328-4a97-8e7f-f2edf417e748"
      },
      "outputs": [
        {
          "output_type": "stream",
          "name": "stderr",
          "text": [
            "Installing package into ‘/usr/local/lib/R/site-library’\n",
            "(as ‘lib’ is unspecified)\n",
            "\n"
          ]
        }
      ],
      "source": [
        "install.packages(\"e1071\")\n",
        "library(e1071)"
      ]
    },
    {
      "cell_type": "code",
      "source": [
        "cartTree1 <- train(credit_risk~ ., data=trainSet, method=\"rpart\")\n",
        "cartTree1"
      ],
      "metadata": {
        "colab": {
          "base_uri": "https://localhost:8080/",
          "height": 329
        },
        "id": "7Kx12RBjc_jj",
        "outputId": "558564f5-9c50-4ebf-98b2-227783c52eb6"
      },
      "execution_count": 40,
      "outputs": [
        {
          "output_type": "display_data",
          "data": {
            "text/plain": [
              "CART \n",
              "\n",
              "400 samples\n",
              "  7 predictor\n",
              "  2 classes: '0', '1' \n",
              "\n",
              "No pre-processing\n",
              "Resampling: Bootstrapped (25 reps) \n",
              "Summary of sample sizes: 400, 400, 400, 400, 400, 400, ... \n",
              "Resampling results across tuning parameters:\n",
              "\n",
              "  cp          Accuracy   Kappa    \n",
              "  0.01250000  0.6621131  0.1428174\n",
              "  0.03333333  0.6903913  0.1396918\n",
              "  0.05833333  0.6971794  0.1196958\n",
              "\n",
              "Accuracy was used to select the optimal model using the largest value.\n",
              "The final value used for the model was cp = 0.05833333."
            ]
          },
          "metadata": {}
        }
      ]
    },
    {
      "cell_type": "code",
      "source": [
        ""
      ],
      "metadata": {
        "id": "XobqkhAblYmw"
      },
      "execution_count": null,
      "outputs": []
    },
    {
      "cell_type": "markdown",
      "metadata": {
        "id": "_aY1xg8oZsCq"
      },
      "source": [
        "B. Visualize the results using  rpart.plot()"
      ]
    },
    {
      "cell_type": "code",
      "execution_count": 39,
      "metadata": {
        "id": "YpmUaQhHZsCr",
        "colab": {
          "base_uri": "https://localhost:8080/",
          "height": 148
        },
        "outputId": "7222f594-018a-406f-e644-944329b7c198"
      },
      "outputs": [
        {
          "output_type": "error",
          "ename": "ERROR",
          "evalue": "ignored",
          "traceback": [
            "Error in rpart.plot(cartTree1): Not an rpart object\nTraceback:\n",
            "1. rpart.plot(cartTree1)",
            "2. stop(\"Not an rpart object\")"
          ]
        }
      ],
      "source": [
        " rpart.plot(cartTree1)\n",
        "\n",
        " cartTree1"
      ]
    },
    {
      "cell_type": "markdown",
      "metadata": {
        "id": "u5uhtFR6ZsCr"
      },
      "source": [
        "C. Use the **predict()** function to predict the testData, and then generate a confusion matrix to explore the results"
      ]
    },
    {
      "cell_type": "code",
      "execution_count": 34,
      "metadata": {
        "id": "2xSoqNpJ5WYa"
      },
      "outputs": [],
      "source": [
        "predOut <- predict(cartTree1, newdata=testSet)\n",
        "confusion <- confusionMatrix(predOut, testSet$credit_risk)\n"
      ]
    },
    {
      "cell_type": "markdown",
      "metadata": {
        "id": "VeibJOTlzsFJ"
      },
      "source": [
        "D. Review the attributes being used for this credit decision. Are there any that might not be appropriate, with respect to fairness? If so, which attribute, and how would you address this fairness situation. Answer in a comment block below"
      ]
    },
    {
      "cell_type": "code",
      "source": [
        "#I think this situation can be more fair if person's income level is included. I think a person's income level is related to the credit risk level. "
      ],
      "metadata": {
        "id": "8yxSmEgdmQ0h"
      },
      "execution_count": null,
      "outputs": []
    },
    {
      "cell_type": "code",
      "execution_count": 32,
      "metadata": {
        "id": "_duCSzFp0DAQ"
      },
      "outputs": [],
      "source": [
        "#Yes. There is no gender in the factor. So "
      ]
    }
  ],
  "metadata": {
    "colab": {
      "name": "HW9.ipynb",
      "provenance": [],
      "collapsed_sections": [],
      "include_colab_link": true
    },
    "kernelspec": {
      "display_name": "R",
      "language": "R",
      "name": "ir"
    },
    "language_info": {
      "codemirror_mode": "r",
      "file_extension": ".r",
      "mimetype": "text/x-r-source",
      "name": "R",
      "pygments_lexer": "r",
      "version": "4.0.3"
    }
  },
  "nbformat": 4,
  "nbformat_minor": 0
}