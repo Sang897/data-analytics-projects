{
  "nbformat": 4,
  "nbformat_minor": 0,
  "metadata": {
    "colab": {
      "name": "Lab9.ipynb",
      "provenance": [],
      "collapsed_sections": [],
      "authorship_tag": "ABX9TyNDIUxB8JUdN92qff/0oylX",
      "include_colab_link": true
    },
    "kernelspec": {
      "name": "ir",
      "display_name": "R"
    },
    "language_info": {
      "name": "R"
    }
  },
  "cells": [
    {
      "cell_type": "markdown",
      "metadata": {
        "id": "view-in-github",
        "colab_type": "text"
      },
      "source": [
        "<a href=\"https://colab.research.google.com/github/Sang897/hello-world/blob/master/Lab9_Jack(Sang%20Uk)%20Park.ipynb\" target=\"_parent\"><img src=\"https://colab.research.google.com/assets/colab-badge.svg\" alt=\"Open In Colab\"/></a>"
      ]
    },
    {
      "cell_type": "markdown",
      "source": [
        "#1 \n",
        "Examine\tthe\tdata\tstructure\tthat\tstr()\treveals.\tAlso\tuse\tthe\thelp()\tcommand\tto\t\n",
        "learn\tmore\tabout\tthe\tGermanCredit\tdata\tset. Summarize\twhat\tyou\tsee\tin\ta\t\n",
        "comment."
      ],
      "metadata": {
        "id": "ioMlu3NSXyZd"
      }
    },
    {
      "cell_type": "code",
      "execution_count": 1,
      "metadata": {
        "id": "uTJoFhKsX3In",
        "colab": {
          "base_uri": "https://localhost:8080/",
          "height": 0
        },
        "outputId": "a495da92-45b3-4493-9402-46adc4777afc"
      },
      "outputs": [
        {
          "output_type": "stream",
          "name": "stderr",
          "text": [
            "Installing package into ‘/usr/local/lib/R/site-library’\n",
            "(as ‘lib’ is unspecified)\n",
            "\n",
            "Installing package into ‘/usr/local/lib/R/site-library’\n",
            "(as ‘lib’ is unspecified)\n",
            "\n",
            "also installing the dependencies ‘listenv’, ‘parallelly’, ‘future’, ‘globals’, ‘future.apply’, ‘progressr’, ‘numDeriv’, ‘SQUAREM’, ‘lava’, ‘prodlim’, ‘proxy’, ‘iterators’, ‘gower’, ‘ipred’, ‘timeDate’, ‘e1071’, ‘foreach’, ‘ModelMetrics’, ‘plyr’, ‘pROC’, ‘recipes’, ‘reshape2’\n",
            "\n",
            "\n"
          ]
        }
      ],
      "source": [
        "install.packages(\"kernlab\")\n",
        "install.packages(\"caret\")"
      ]
    },
    {
      "cell_type": "markdown",
      "source": [
        "#2. \n",
        "Use\tthe createDataPartition() command\tto\tgenerate\ta\tlist\tof\tcases\tto\t\n",
        "include\tin\tthe\ttraining\tdata.\tThis\tcommand\tis\tconveniently\tprovided\tby\tcaret\tand\t\n",
        "allows\tone\tto\tdirectly\tcontrol\tthe\tnumber\tof\ttraining\tcases.\tIt\talso\tensures\tthat\t\n",
        "the\ttraining\tcases\tare\tbalanced\twith\trespect\tto\tthe\toutcome\tvariable.\tTry\tthis:\n",
        "trainList <-\n",
        "createDataPartition(y=subCredit$Class,p=.40,list=FALSE)"
      ],
      "metadata": {
        "id": "UbFc1qXzX4nB"
      }
    },
    {
      "cell_type": "code",
      "source": [
        "install.packages(\"rpart.plot\")\n",
        "install.packages(\"rpart\")\n",
        "install.packages(\"rpart\")\n",
        "install.packages(\"rpart.plot\")"
      ],
      "metadata": {
        "colab": {
          "base_uri": "https://localhost:8080/",
          "height": 0
        },
        "id": "TESh_UAgWQc4",
        "outputId": "0c9d0431-42b8-49b3-c2ac-cbf3edac03de"
      },
      "execution_count": 6,
      "outputs": [
        {
          "output_type": "stream",
          "name": "stderr",
          "text": [
            "Installing package into ‘/usr/local/lib/R/site-library’\n",
            "(as ‘lib’ is unspecified)\n",
            "\n",
            "Installing package into ‘/usr/local/lib/R/site-library’\n",
            "(as ‘lib’ is unspecified)\n",
            "\n",
            "Installing package into ‘/usr/local/lib/R/site-library’\n",
            "(as ‘lib’ is unspecified)\n",
            "\n",
            "Installing package into ‘/usr/local/lib/R/site-library’\n",
            "(as ‘lib’ is unspecified)\n",
            "\n"
          ]
        }
      ]
    },
    {
      "cell_type": "markdown",
      "source": [
        "\n",
        "3\n",
        "Examine\tthe\tcontents\tof\ttrainList to\tmake\tsure\tthat\tit\tis\ta\tlist\tof\tcase\tnumbers.\n",
        "With\tp=0.40,\tit\tshould\thave\t400\tcase\tnumbers\tin\tit```\n",
        "```\n",
        "\n"
      ],
      "metadata": {
        "id": "5SUZqbFsX4Lj"
      }
    },
    {
      "cell_type": "code",
      "source": [
        "library(rpart)\n",
        "library(rpart.plot)\n",
        "library(caret)\n",
        "library(Rcpp)\n",
        "library(rpart)\n",
        "library(rpart.plot)"
      ],
      "metadata": {
        "id": "xlerTshCXPQQ"
      },
      "execution_count": 8,
      "outputs": []
    },
    {
      "cell_type": "markdown",
      "source": [
        "What\tis\ttrainList?\tWhat\tdo\tthe\telements\tin\ttrainList\trepresent?\tWhich\tattribute\t\n",
        "is\tbalanced\tin\tthe\ttrainList\tdataset?"
      ],
      "metadata": {
        "id": "62ZzOZS6Xwxr"
      }
    },
    {
      "cell_type": "code",
      "source": [
        "\n",
        "data(\"GermanCredit\")\n",
        "set.seed(111) \n",
        "\n",
        "subCredit <- GermanCredit[,1:10]\n",
        "str(subCredit)"
      ],
      "metadata": {
        "colab": {
          "base_uri": "https://localhost:8080/",
          "height": 0
        },
        "id": "9NcN3w-sXiQ-",
        "outputId": "c5494b2e-318b-4d49-b4a8-5ca70af34284"
      },
      "execution_count": 14,
      "outputs": [
        {
          "output_type": "stream",
          "name": "stdout",
          "text": [
            "'data.frame':\t1000 obs. of  10 variables:\n",
            " $ Duration                 : int  6 48 12 42 24 36 24 36 12 30 ...\n",
            " $ Amount                   : int  1169 5951 2096 7882 4870 9055 2835 6948 3059 5234 ...\n",
            " $ InstallmentRatePercentage: int  4 2 2 2 3 2 3 2 2 4 ...\n",
            " $ ResidenceDuration        : int  4 2 3 4 4 4 4 2 4 2 ...\n",
            " $ Age                      : int  67 22 49 45 53 35 53 35 61 28 ...\n",
            " $ NumberExistingCredits    : int  2 1 1 1 2 1 1 1 1 2 ...\n",
            " $ NumberPeopleMaintenance  : int  1 1 2 2 2 2 1 1 1 1 ...\n",
            " $ Telephone                : num  0 1 1 1 1 0 1 0 1 1 ...\n",
            " $ ForeignWorker            : num  1 1 1 1 1 1 1 1 1 1 ...\n",
            " $ Class                    : Factor w/ 2 levels \"Bad\",\"Good\": 2 1 2 2 1 2 2 2 2 1 ...\n"
          ]
        }
      ]
    },
    {
      "cell_type": "markdown",
      "source": [
        "\n",
        "\n",
        "#5 \n",
        "What is trainList? What do the elements in trainList represent? Which attribute\n",
        "is balanced in the trainList dataset?`\n",
        "\n"
      ],
      "metadata": {
        "id": "Ed_PrGM2YMz4"
      }
    },
    {
      "cell_type": "code",
      "source": [
        "trainList <-\n",
        "createDataPartition(y=subCredit$Class,p=.40,list=FALSE) \n",
        "\n",
        "#Trainlist randomly and failry selects thee list from subCredit. So P = 0.4 would be selecting 400 times.\n",
        "# If it was P= 0.5 then it would be randomly selecting 500 times. \n"
      ],
      "metadata": {
        "id": "8hQDUyVZXoD3"
      },
      "execution_count": 16,
      "outputs": []
    },
    {
      "cell_type": "markdown",
      "source": [
        "#6\n",
        "Use\ttrainList\tand\tthe\tsquare\tbrackets\tnotation\tto\tcreate\ta\ttraining\tdata\tset\tcalled\t\n",
        "“trainSet”\tfrom\tthe\tsubCredit\tdata\tframe.\tLook\tat\tthe\tstructure\tof\ttrainSet\tto\t\n",
        "make\tsure\tit\thas\tall\tof\tthe\tsame\tvariables\tas\tsubCredit. The\ttrainSet\tstructure\t\n",
        "should\tbe\ta\tdata\tframe\twith\t400\trows\tand\t10\tcolumns."
      ],
      "metadata": {
        "id": "zZ4hUgToYbLw"
      }
    },
    {
      "cell_type": "code",
      "source": [
        "trainSet <- subCredit[trainList,]\n",
        "testSet <- subCredit[-trainList,]"
      ],
      "metadata": {
        "id": "kamQHQ_eYiVJ"
      },
      "execution_count": 19,
      "outputs": []
    },
    {
      "cell_type": "markdown",
      "source": [
        "\n",
        "#6\n",
        "Create\tand\tinterpret\tboxplots\tof\tthe\tpredictor\tvariables\tin\trelation\tto\tthe\t\n",
        "outcome\tvariable\t(Class).\t"
      ],
      "metadata": {
        "id": "1be48JCCaZDg"
      }
    },
    {
      "cell_type": "code",
      "source": [
        "install.packages(\"ggplot2\")\n",
        "library(ggplot2)"
      ],
      "metadata": {
        "colab": {
          "base_uri": "https://localhost:8080/",
          "height": 0
        },
        "id": "WSf0SuaEakJ5",
        "outputId": "262757b1-25ce-461f-b8c2-84e25711f5d2"
      },
      "execution_count": 22,
      "outputs": [
        {
          "output_type": "stream",
          "name": "stderr",
          "text": [
            "Installing package into ‘/usr/local/lib/R/site-library’\n",
            "(as ‘lib’ is unspecified)\n",
            "\n"
          ]
        }
      ]
    },
    {
      "cell_type": "code",
      "source": [
        "boxplot1<- ggplot(trainSet, aes(y=Amount, x=Class)) +geom_boxplot()\n",
        "boxplot2<- ggplot(trainSet, aes(y=InstallmentRatePercentage, x=Class)) +geom_boxplot()\n",
        "boxplot3<- ggplot(trainSet, aes(y=ResidenceDuration, x=Class)) +geom_boxplot()\n",
        "boxplot4<- ggplot(trainSet, aes(y=NumberExistingCredits, x=Class)) +geom_boxplot()\n",
        "boxplot5<- ggplot(trainSet, aes(y=NumberPeopleMaintenance, x=Class)) +geom_boxplot()\n",
        "boxplot6<- ggplot(trainSet, aes(y=Telephone\t, x=Class)) +geom_boxplot()\n",
        "boxplot7<- ggplot(trainSet, aes(y=ForeignWorker\t, x=Class)) +geom_boxplot()"
      ],
      "metadata": {
        "id": "uQtPt29-bM-Z"
      },
      "execution_count": 68,
      "outputs": []
    },
    {
      "cell_type": "code",
      "source": [
        "\n",
        "install.packages(\"gridExtra\")\n",
        "library(\"gridExtra\")\n",
        "grid.arrange(boxplot1, boxplot2, boxplot3,boxplot4,ncol=2)\n"
      ],
      "metadata": {
        "colab": {
          "base_uri": "https://localhost:8080/",
          "height": 489
        },
        "id": "a6uc3z5TbpvH",
        "outputId": "06db092e-de86-4b7b-e143-1236b879c059"
      },
      "execution_count": 69,
      "outputs": [
        {
          "output_type": "stream",
          "name": "stderr",
          "text": [
            "Installing package into ‘/usr/local/lib/R/site-library’\n",
            "(as ‘lib’ is unspecified)\n",
            "\n"
          ]
        },
        {
          "output_type": "display_data",
          "data": {
            "image/png": "[encoded data removed]",
            "text/plain": [
              "plot without title"
            ]
          },
          "metadata": {
            "image/png": {
              "width": 420,
              "height": 420
            }
          }
        }
      ]
    },
    {
      "cell_type": "code",
      "source": [
        "grid.arrange(boxplot5, boxplot6, boxplot7, ncol=2)\n",
        "#Interpretation: It appears that class (either bad or good) is influenced \n",
        "#by Amount and Age that changes in the boxplot sizes while other varialbes remained the same. \n"
      ],
      "metadata": {
        "colab": {
          "base_uri": "https://localhost:8080/",
          "height": 437
        },
        "id": "jMH3dJ6ZiXso",
        "outputId": "046215f8-f1e1-40a5-c849-4f7486d75d75"
      },
      "execution_count": 71,
      "outputs": [
        {
          "output_type": "display_data",
          "data": {
            "image/png": "[encoded data removed]",
            "text/plain": [
              "plot without title"
            ]
          },
          "metadata": {
            "image/png": {
              "width": 420,
              "height": 420
            }
          }
        }
      ]
    },
    {
      "cell_type": "code",
      "source": [
        ""
      ],
      "metadata": {
        "id": "AWM5NHTUjwbP"
      },
      "execution_count": null,
      "outputs": []
    },
    {
      "cell_type": "markdown",
      "source": [
        "#8 \n",
        "Train\ta\tsupport\tvector\tmachine\twith\tthe\tksvm()\tfunction\tfrom\tthe\tkernlab\t\n",
        "package. Make\tsure\tthat\tyou\thave\tinstalled\tand\tlibraried\tkernlab!\tHave\tthe\tcost\t\n",
        "be\t5,\tand\thave\tksvm\tdo\t3\tcross\tvalidations\t(hint:\ttry\tprob.model\t=\tTRUE)"
      ],
      "metadata": {
        "id": "v5y01LVjcZgG"
      }
    },
    {
      "cell_type": "code",
      "source": [
        "fit2 <- train(Class ~ ., data=trainSet, method=\"svmRadial\", preProc=c(\"center\",\"scale\"))\n"
      ],
      "metadata": {
        "id": "e1z6yNNsb3tK"
      },
      "execution_count": 44,
      "outputs": []
    },
    {
      "cell_type": "code",
      "source": [
        "install.packages(\"kernlab\")\n",
        "library(\"kernlab\")"
      ],
      "metadata": {
        "colab": {
          "base_uri": "https://localhost:8080/",
          "height": 0
        },
        "id": "LgRPBvT0fO9x",
        "outputId": "6093cb3f-78e8-462b-8bf2-278bfa1775f4"
      },
      "execution_count": 35,
      "outputs": [
        {
          "output_type": "stream",
          "name": "stderr",
          "text": [
            "Installing package into ‘/usr/local/lib/R/site-library’\n",
            "(as ‘lib’ is unspecified)\n",
            "\n",
            "\n",
            "Attaching package: ‘kernlab’\n",
            "\n",
            "\n",
            "The following object is masked from ‘package:ggplot2’:\n",
            "\n",
            "    alpha\n",
            "\n",
            "\n"
          ]
        }
      ]
    },
    {
      "cell_type": "code",
      "source": [
        "usingKVSM <- ksvm(trainSet, C=5, kernel=\"vanilladot\", type = \"C-svc\",length = 4, lambda=0.5,prob.model=TRUE)\n",
        "\n"
      ],
      "metadata": {
        "colab": {
          "base_uri": "https://localhost:8080/",
          "height": 217
        },
        "id": "_XnrAs_HfV86",
        "outputId": "fefc69eb-acfd-4774-928e-c18d55957e79"
      },
      "execution_count": 49,
      "outputs": [
        {
          "output_type": "error",
          "ename": "ERROR",
          "evalue": "ignored",
          "traceback": [
            "Error in vanilladot(length = 4, lambda = 0.5): unused arguments (length = 4, lambda = 0.5)\nTraceback:\n",
            "1. ksvm(trainSet, C = 5, kernel = \"vanilladot\", type = \"C-svc\", \n .     length = 4, lambda = 0.5, prob.model = TRUE)",
            "2. ksvm(trainSet, C = 5, kernel = \"vanilladot\", type = \"C-svc\", \n .     length = 4, lambda = 0.5, prob.model = TRUE)",
            "3. .local(x, ...)",
            "4. do.call(kernel, kpar)"
          ]
        }
      ]
    },
    {
      "cell_type": "markdown",
      "source": [
        "#9\n",
        "Examine\tthe\tksvm\toutput\tobject.\tIn\tparticular,\tlook\tat\tthe\tcross-validation\terror\t\n",
        "for\tan\tinitial\tindication\tof model\tquality.\tAdd\ta\tcomment\tthat\tgives\tyour\topinion\t\n",
        "on\twhether\tthis\tis\ta\tgood\tmodel.**bold text**"
      ],
      "metadata": {
        "id": "YsJSp6_WggOd"
      }
    },
    {
      "cell_type": "code",
      "source": [
        "\n"
      ],
      "metadata": {
        "colab": {
          "base_uri": "https://localhost:8080/",
          "height": 486
        },
        "id": "QDNqbIILgDwI",
        "outputId": "48be1bab-ceba-40e5-cae4-5e2ff5b8ca5d"
      },
      "execution_count": 51,
      "outputs": [
        {
          "output_type": "display_data",
          "data": {
            "text/plain": [
              "Confusion Matrix and Statistics\n",
              "\n",
              "          Reference\n",
              "Prediction Bad Good\n",
              "      Bad    5    4\n",
              "      Good 175  416\n",
              "                                         \n",
              "               Accuracy : 0.7017         \n",
              "                 95% CI : (0.6633, 0.738)\n",
              "    No Information Rate : 0.7            \n",
              "    P-Value [Acc > NIR] : 0.4846         \n",
              "                                         \n",
              "                  Kappa : 0.0251         \n",
              "                                         \n",
              " Mcnemar's Test P-Value : <2e-16         \n",
              "                                         \n",
              "            Sensitivity : 0.027778       \n",
              "            Specificity : 0.990476       \n",
              "         Pos Pred Value : 0.555556       \n",
              "         Neg Pred Value : 0.703892       \n",
              "             Prevalence : 0.300000       \n",
              "         Detection Rate : 0.008333       \n",
              "   Detection Prevalence : 0.015000       \n",
              "      Balanced Accuracy : 0.509127       \n",
              "                                         \n",
              "       'Positive' Class : Bad            \n",
              "                                         "
            ]
          },
          "metadata": {}
        }
      ]
    },
    {
      "cell_type": "code",
      "source": [
        ""
      ],
      "metadata": {
        "colab": {
          "base_uri": "https://localhost:8080/",
          "height": 0
        },
        "id": "xQAD5W0_g13N",
        "outputId": "53f00b52-b4e4-4b3c-a782-13543b8e84e3"
      },
      "execution_count": 55,
      "outputs": [
        {
          "output_type": "stream",
          "name": "stdout",
          "text": [
            " Factor w/ 2 levels \"Bad\",\"Good\": 2 2 2 2 2 2 1 2 2 2 ...\n"
          ]
        }
      ]
    },
    {
      "cell_type": "markdown",
      "source": [
        "Examine\tthe\tpredicted\tout object\twith\tstr(\t).\tThen,\tcalculate\ta\tconfusion\tmatrix\t\n",
        "using\tthe\ttable\tfunction."
      ],
      "metadata": {
        "id": "tWPggMaRhuuM"
      }
    },
    {
      "cell_type": "markdown",
      "source": [
        "10. Predict\tthe\ttraining\tcases\tusing\tthe\tpredict\tcommand\n"
      ],
      "metadata": {
        "id": "LBDbNNEVg4Zb"
      }
    },
    {
      "cell_type": "code",
      "source": [
        "predOut <- predict(fit2, newdata=testSet)\n",
        "\n",
        "str(predOut)\n",
        "\n",
        "confusion <- confusionMatrix(predOut, testSet$Class)\n",
        "confusion "
      ],
      "metadata": {
        "colab": {
          "base_uri": "https://localhost:8080/",
          "height": 634
        },
        "id": "mXbz6E4jhOD6",
        "outputId": "91c10462-ab5a-43c5-a297-3f93d106ebc5"
      },
      "execution_count": 57,
      "outputs": [
        {
          "output_type": "stream",
          "name": "stdout",
          "text": [
            " Factor w/ 2 levels \"Bad\",\"Good\": 2 2 2 2 2 2 1 2 2 2 ...\n"
          ]
        },
        {
          "output_type": "display_data",
          "data": {
            "text/plain": [
              "Confusion Matrix and Statistics\n",
              "\n",
              "          Reference\n",
              "Prediction Bad Good\n",
              "      Bad    5    4\n",
              "      Good 175  416\n",
              "                                         \n",
              "               Accuracy : 0.7017         \n",
              "                 95% CI : (0.6633, 0.738)\n",
              "    No Information Rate : 0.7            \n",
              "    P-Value [Acc > NIR] : 0.4846         \n",
              "                                         \n",
              "                  Kappa : 0.0251         \n",
              "                                         \n",
              " Mcnemar's Test P-Value : <2e-16         \n",
              "                                         \n",
              "            Sensitivity : 0.027778       \n",
              "            Specificity : 0.990476       \n",
              "         Pos Pred Value : 0.555556       \n",
              "         Neg Pred Value : 0.703892       \n",
              "             Prevalence : 0.300000       \n",
              "         Detection Rate : 0.008333       \n",
              "   Detection Prevalence : 0.015000       \n",
              "      Balanced Accuracy : 0.509127       \n",
              "                                         \n",
              "       'Positive' Class : Bad            \n",
              "                                         "
            ]
          },
          "metadata": {}
        },
        {
          "output_type": "error",
          "ename": "ERROR",
          "evalue": "ignored",
          "traceback": [
            "Error in table(confusion): all arguments must have the same length\nTraceback:\n",
            "1. table(confusion)",
            "2. stop(\"all arguments must have the same length\")"
          ]
        }
      ]
    },
    {
      "cell_type": "markdown",
      "source": [
        ""
      ],
      "metadata": {
        "id": "MepWkG7Pg5VM"
      }
    }
  ]
}