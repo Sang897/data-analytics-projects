{
  "nbformat": 4,
  "nbformat_minor": 0,
  "metadata": {
    "colab": {
      "name": "Predicting Breast Cancer.ipynb",
      "provenance": [],
      "collapsed_sections": [],
      "authorship_tag": "ABX9TyPuUZq2xakRFA/pJeXA/sQI",
      "include_colab_link": true
    },
    "kernelspec": {
      "name": "python3",
      "display_name": "Python 3"
    },
    "language_info": {
      "name": "python"
    }
  },
  "cells": [
    {
      "cell_type": "markdown",
      "metadata": {
        "id": "view-in-github",
        "colab_type": "text"
      },
      "source": [
        "<a href=\"https://colab.research.google.com/github/Sang897/data-analytics-projects/blob/master/Predicting_Breast_Cancer.ipynb\" target=\"_parent\"><img src=\"https://colab.research.google.com/assets/colab-badge.svg\" alt=\"Open In Colab\"/></a>"
      ]
    },
    {
      "cell_type": "code",
      "execution_count": 27,
      "metadata": {
        "id": "n9LkintiIWOm"
      },
      "outputs": [],
      "source": [
        "import numpy as np\n",
        "import pandas as pd\n",
        "import tensorflow as tf"
      ]
    },
    {
      "cell_type": "code",
      "source": [
        "#The following data is based on https://www.kaggle.com/code/buddhiniw/breast-cancer-prediction/data\n",
        "\n",
        "#From here.\n",
        "dataset = pd.read_csv('breastcancerprediction.csv')"
      ],
      "metadata": {
        "id": "06agaC3_IerZ"
      },
      "execution_count": 28,
      "outputs": []
    },
    {
      "cell_type": "code",
      "source": [
        "type(dataset)"
      ],
      "metadata": {
        "colab": {
          "base_uri": "https://localhost:8080/",
          "height": 0
        },
        "id": "oU-8BbOdQ3k7",
        "outputId": "4ac75d33-1fb5-437d-bfca-bfedbb054849"
      },
      "execution_count": 30,
      "outputs": [
        {
          "output_type": "execute_result",
          "data": {
            "text/plain": [
              "pandas.core.frame.DataFrame"
            ]
          },
          "metadata": {},
          "execution_count": 30
        }
      ]
    },
    {
      "cell_type": "code",
      "source": [
        "for col in dataset.columns:\n",
        "  print(col)"
      ],
      "metadata": {
        "colab": {
          "base_uri": "https://localhost:8080/",
          "height": 0
        },
        "id": "EDdZgqWEPt8Q",
        "outputId": "b172ba3b-8aad-4be5-f839-30f0ac04fa69"
      },
      "execution_count": 31,
      "outputs": [
        {
          "output_type": "stream",
          "name": "stdout",
          "text": [
            "id\n",
            "diagnosis\n",
            "radius_mean\n",
            "texture_mean\n",
            "perimeter_mean\n",
            "area_mean\n",
            "smoothness_mean\n",
            "compactness_mean\n",
            "concavity_mean\n",
            "concave points_mean\n",
            "symmetry_mean\n",
            "fractal_dimension_mean\n",
            "radius_se\n",
            "texture_se\n",
            "perimeter_se\n",
            "area_se\n",
            "smoothness_se\n",
            "compactness_se\n",
            "concavity_se\n",
            "concave points_se\n",
            "symmetry_se\n",
            "fractal_dimension_se\n",
            "radius_worst\n",
            "texture_worst\n",
            "perimeter_worst\n",
            "area_worst\n",
            "smoothness_worst\n",
            "compactness_worst\n",
            "concavity_worst\n",
            "concave points_worst\n",
            "symmetry_worst\n",
            "fractal_dimension_worst\n"
          ]
        }
      ]
    },
    {
      "cell_type": "code",
      "source": [
        "dataset= dataset.drop(dataset.columns[[-11,-10,-9,-8,-7,-6,-5,-4,-3,-2,-1]], axis=1) #Drop the columns that says \"worst\" which are indexes -11 to -1 (-11:-1)"
      ],
      "metadata": {
        "id": "xj1dp20zQ8k5"
      },
      "execution_count": 32,
      "outputs": []
    },
    {
      "cell_type": "code",
      "source": [
        "for col in dataset.columns:\n",
        "  print(col)"
      ],
      "metadata": {
        "colab": {
          "base_uri": "https://localhost:8080/",
          "height": 0
        },
        "id": "BfNLCNrVRUWe",
        "outputId": "a1b89e67-ce3d-42c2-b4c8-3469c40db994"
      },
      "execution_count": 33,
      "outputs": [
        {
          "output_type": "stream",
          "name": "stdout",
          "text": [
            "id\n",
            "diagnosis\n",
            "radius_mean\n",
            "texture_mean\n",
            "perimeter_mean\n",
            "area_mean\n",
            "smoothness_mean\n",
            "compactness_mean\n",
            "concavity_mean\n",
            "concave points_mean\n",
            "symmetry_mean\n",
            "fractal_dimension_mean\n",
            "radius_se\n",
            "texture_se\n",
            "perimeter_se\n",
            "area_se\n",
            "smoothness_se\n",
            "compactness_se\n",
            "concavity_se\n",
            "concave points_se\n",
            "symmetry_se\n"
          ]
        }
      ]
    },
    {
      "cell_type": "code",
      "source": [
        "  #For the columns that says \"worst\", take it out. "
      ],
      "metadata": {
        "id": "6JkUAddEPZQO"
      },
      "execution_count": null,
      "outputs": []
    },
    {
      "cell_type": "code",
      "source": [
        "Inputvariable = dataset.iloc[:,2:-1].values"
      ],
      "metadata": {
        "id": "Mlrd4HtNIt2p"
      },
      "execution_count": 34,
      "outputs": []
    },
    {
      "cell_type": "code",
      "source": [
        "Outputvariable= dataset.iloc[:, 1].values\n",
        "\n",
        "#using dataset.iloc squarebracket, semilcolon, 1. values "
      ],
      "metadata": {
        "id": "KRNQBy7IMYe2"
      },
      "execution_count": 36,
      "outputs": []
    },
    {
      "cell_type": "code",
      "source": [
        "print(Inputvariable)\n",
        "print(Outputvariable)"
      ],
      "metadata": {
        "colab": {
          "base_uri": "https://localhost:8080/",
          "height": 0
        },
        "id": "LCrUAJK7MeMO",
        "outputId": "3ba09d76-dfac-43d7-d4ce-5f9c98bb710f"
      },
      "execution_count": 37,
      "outputs": [
        {
          "output_type": "stream",
          "name": "stdout",
          "text": [
            "[[1.799e+01 1.038e+01 1.228e+02 ... 4.904e-02 5.373e-02 1.587e-02]\n",
            " [2.057e+01 1.777e+01 1.329e+02 ... 1.308e-02 1.860e-02 1.340e-02]\n",
            " [1.969e+01 2.125e+01 1.300e+02 ... 4.006e-02 3.832e-02 2.058e-02]\n",
            " ...\n",
            " [1.660e+01 2.808e+01 1.083e+02 ... 3.731e-02 4.730e-02 1.557e-02]\n",
            " [2.060e+01 2.933e+01 1.401e+02 ... 6.158e-02 7.117e-02 1.664e-02]\n",
            " [7.760e+00 2.454e+01 4.792e+01 ... 4.660e-03 0.000e+00 0.000e+00]]\n",
            "['M' 'M' 'M' 'M' 'M' 'M' 'M' 'M' 'M' 'M' 'M' 'M' 'M' 'M' 'M' 'M' 'M' 'M'\n",
            " 'M' 'B' 'B' 'B' 'M' 'M' 'M' 'M' 'M' 'M' 'M' 'M' 'M' 'M' 'M' 'M' 'M' 'M'\n",
            " 'M' 'B' 'M' 'M' 'M' 'M' 'M' 'M' 'M' 'M' 'B' 'M' 'B' 'B' 'B' 'B' 'B' 'M'\n",
            " 'M' 'B' 'M' 'M' 'B' 'B' 'B' 'B' 'M' 'B' 'M' 'M' 'B' 'B' 'B' 'B' 'M' 'B'\n",
            " 'M' 'M' 'B' 'M' 'B' 'M' 'M' 'B' 'B' 'B' 'M' 'M' 'B' 'M' 'M' 'M' 'B' 'B'\n",
            " 'B' 'M' 'B' 'B' 'M' 'M' 'B' 'B' 'B' 'M' 'M' 'B' 'B' 'B' 'B' 'M' 'B' 'B'\n",
            " 'M' 'B' 'B' 'B' 'B' 'B' 'B' 'B' 'B' 'M' 'M' 'M' 'B' 'M' 'M' 'B' 'B' 'B'\n",
            " 'M' 'M' 'B' 'M' 'B' 'M' 'M' 'B' 'M' 'M' 'B' 'B' 'M' 'B' 'B' 'M' 'B' 'B'\n",
            " 'B' 'B' 'M' 'B' 'B' 'B' 'B' 'B' 'B' 'B' 'B' 'B' 'M' 'B' 'B' 'B' 'B' 'M'\n",
            " 'M' 'B' 'M' 'B' 'B' 'M' 'M' 'B' 'B' 'M' 'M' 'B' 'B' 'B' 'B' 'M' 'B' 'B'\n",
            " 'M' 'M' 'M' 'B' 'M' 'B' 'M' 'B' 'B' 'B' 'M' 'B' 'B' 'M' 'M' 'B' 'M' 'M'\n",
            " 'M' 'M' 'B' 'M' 'M' 'M' 'B' 'M' 'B' 'M' 'B' 'B' 'M' 'B' 'M' 'M' 'M' 'M'\n",
            " 'B' 'B' 'M' 'M' 'B' 'B' 'B' 'M' 'B' 'B' 'B' 'B' 'B' 'M' 'M' 'B' 'B' 'M'\n",
            " 'B' 'B' 'M' 'M' 'B' 'M' 'B' 'B' 'B' 'B' 'M' 'B' 'B' 'B' 'B' 'B' 'M' 'B'\n",
            " 'M' 'M' 'M' 'M' 'M' 'M' 'M' 'M' 'M' 'M' 'M' 'M' 'M' 'M' 'B' 'B' 'B' 'B'\n",
            " 'B' 'B' 'M' 'B' 'M' 'B' 'B' 'M' 'B' 'B' 'M' 'B' 'M' 'M' 'B' 'B' 'B' 'B'\n",
            " 'B' 'B' 'B' 'B' 'B' 'B' 'B' 'B' 'B' 'M' 'B' 'B' 'M' 'B' 'M' 'B' 'B' 'B'\n",
            " 'B' 'B' 'B' 'B' 'B' 'B' 'B' 'B' 'B' 'B' 'B' 'M' 'B' 'B' 'B' 'M' 'B' 'M'\n",
            " 'B' 'B' 'B' 'B' 'M' 'M' 'M' 'B' 'B' 'B' 'B' 'M' 'B' 'M' 'B' 'M' 'B' 'B'\n",
            " 'B' 'M' 'B' 'B' 'B' 'B' 'B' 'B' 'B' 'M' 'M' 'M' 'B' 'B' 'B' 'B' 'B' 'B'\n",
            " 'B' 'B' 'B' 'B' 'B' 'M' 'M' 'B' 'M' 'M' 'M' 'B' 'M' 'M' 'B' 'B' 'B' 'B'\n",
            " 'B' 'M' 'B' 'B' 'B' 'B' 'B' 'M' 'B' 'B' 'B' 'M' 'B' 'B' 'M' 'M' 'B' 'B'\n",
            " 'B' 'B' 'B' 'B' 'M' 'B' 'B' 'B' 'B' 'B' 'B' 'B' 'M' 'B' 'B' 'B' 'B' 'B'\n",
            " 'M' 'B' 'B' 'M' 'B' 'B' 'B' 'B' 'B' 'B' 'B' 'B' 'B' 'B' 'B' 'B' 'M' 'B'\n",
            " 'M' 'M' 'B' 'M' 'B' 'B' 'B' 'B' 'B' 'M' 'B' 'B' 'M' 'B' 'M' 'B' 'B' 'M'\n",
            " 'B' 'M' 'B' 'B' 'B' 'B' 'B' 'B' 'B' 'B' 'M' 'M' 'B' 'B' 'B' 'B' 'B' 'B'\n",
            " 'M' 'B' 'B' 'B' 'B' 'B' 'B' 'B' 'B' 'B' 'B' 'M' 'B' 'B' 'B' 'B' 'B' 'B'\n",
            " 'B' 'M' 'B' 'M' 'B' 'B' 'M' 'B' 'B' 'B' 'B' 'B' 'M' 'M' 'B' 'M' 'B' 'M'\n",
            " 'B' 'B' 'B' 'B' 'B' 'M' 'B' 'B' 'M' 'B' 'M' 'B' 'M' 'M' 'B' 'B' 'B' 'M'\n",
            " 'B' 'B' 'B' 'B' 'B' 'B' 'B' 'B' 'B' 'B' 'B' 'M' 'B' 'M' 'M' 'B' 'B' 'B'\n",
            " 'B' 'B' 'B' 'B' 'B' 'B' 'B' 'B' 'B' 'B' 'B' 'B' 'B' 'B' 'B' 'B' 'B' 'B'\n",
            " 'B' 'B' 'B' 'B' 'M' 'M' 'M' 'M' 'M' 'M' 'B']\n"
          ]
        }
      ]
    },
    {
      "cell_type": "code",
      "source": [
        "#Encoding dignosis result \n",
        "from sklearn.preprocessing import LabelEncoder #Imports to perform one hot encoding \n",
        "Encoder = LabelEncoder()\n",
        "Outputvariable = Encoder.fit_transform(Outputvariable) #colon \n",
        "\n",
        "#Performing encoding. \n",
        "\n",
        "#Encoding categorical data has two types: \n",
        "#Label Encoding: Gender column => binary result with relationships. \n",
        "#One hot encoding => multiple results with no particular relationships. \n"
      ],
      "metadata": {
        "id": "XUH3GaNGMhsN"
      },
      "execution_count": 38,
      "outputs": []
    },
    {
      "cell_type": "code",
      "source": [
        "Outputvariable"
      ],
      "metadata": {
        "colab": {
          "base_uri": "https://localhost:8080/",
          "height": 0
        },
        "id": "CD2LvA4h1w55",
        "outputId": "8aba1258-56f4-420e-f613-e893a3269c09"
      },
      "execution_count": 39,
      "outputs": [
        {
          "output_type": "execute_result",
          "data": {
            "text/plain": [
              "array([1, 1, 1, 1, 1, 1, 1, 1, 1, 1, 1, 1, 1, 1, 1, 1, 1, 1, 1, 0, 0, 0,\n",
              "       1, 1, 1, 1, 1, 1, 1, 1, 1, 1, 1, 1, 1, 1, 1, 0, 1, 1, 1, 1, 1, 1,\n",
              "       1, 1, 0, 1, 0, 0, 0, 0, 0, 1, 1, 0, 1, 1, 0, 0, 0, 0, 1, 0, 1, 1,\n",
              "       0, 0, 0, 0, 1, 0, 1, 1, 0, 1, 0, 1, 1, 0, 0, 0, 1, 1, 0, 1, 1, 1,\n",
              "       0, 0, 0, 1, 0, 0, 1, 1, 0, 0, 0, 1, 1, 0, 0, 0, 0, 1, 0, 0, 1, 0,\n",
              "       0, 0, 0, 0, 0, 0, 0, 1, 1, 1, 0, 1, 1, 0, 0, 0, 1, 1, 0, 1, 0, 1,\n",
              "       1, 0, 1, 1, 0, 0, 1, 0, 0, 1, 0, 0, 0, 0, 1, 0, 0, 0, 0, 0, 0, 0,\n",
              "       0, 0, 1, 0, 0, 0, 0, 1, 1, 0, 1, 0, 0, 1, 1, 0, 0, 1, 1, 0, 0, 0,\n",
              "       0, 1, 0, 0, 1, 1, 1, 0, 1, 0, 1, 0, 0, 0, 1, 0, 0, 1, 1, 0, 1, 1,\n",
              "       1, 1, 0, 1, 1, 1, 0, 1, 0, 1, 0, 0, 1, 0, 1, 1, 1, 1, 0, 0, 1, 1,\n",
              "       0, 0, 0, 1, 0, 0, 0, 0, 0, 1, 1, 0, 0, 1, 0, 0, 1, 1, 0, 1, 0, 0,\n",
              "       0, 0, 1, 0, 0, 0, 0, 0, 1, 0, 1, 1, 1, 1, 1, 1, 1, 1, 1, 1, 1, 1,\n",
              "       1, 1, 0, 0, 0, 0, 0, 0, 1, 0, 1, 0, 0, 1, 0, 0, 1, 0, 1, 1, 0, 0,\n",
              "       0, 0, 0, 0, 0, 0, 0, 0, 0, 0, 0, 1, 0, 0, 1, 0, 1, 0, 0, 0, 0, 0,\n",
              "       0, 0, 0, 0, 0, 0, 0, 0, 0, 1, 0, 0, 0, 1, 0, 1, 0, 0, 0, 0, 1, 1,\n",
              "       1, 0, 0, 0, 0, 1, 0, 1, 0, 1, 0, 0, 0, 1, 0, 0, 0, 0, 0, 0, 0, 1,\n",
              "       1, 1, 0, 0, 0, 0, 0, 0, 0, 0, 0, 0, 0, 1, 1, 0, 1, 1, 1, 0, 1, 1,\n",
              "       0, 0, 0, 0, 0, 1, 0, 0, 0, 0, 0, 1, 0, 0, 0, 1, 0, 0, 1, 1, 0, 0,\n",
              "       0, 0, 0, 0, 1, 0, 0, 0, 0, 0, 0, 0, 1, 0, 0, 0, 0, 0, 1, 0, 0, 1,\n",
              "       0, 0, 0, 0, 0, 0, 0, 0, 0, 0, 0, 0, 1, 0, 1, 1, 0, 1, 0, 0, 0, 0,\n",
              "       0, 1, 0, 0, 1, 0, 1, 0, 0, 1, 0, 1, 0, 0, 0, 0, 0, 0, 0, 0, 1, 1,\n",
              "       0, 0, 0, 0, 0, 0, 1, 0, 0, 0, 0, 0, 0, 0, 0, 0, 0, 1, 0, 0, 0, 0,\n",
              "       0, 0, 0, 1, 0, 1, 0, 0, 1, 0, 0, 0, 0, 0, 1, 1, 0, 1, 0, 1, 0, 0,\n",
              "       0, 0, 0, 1, 0, 0, 1, 0, 1, 0, 1, 1, 0, 0, 0, 1, 0, 0, 0, 0, 0, 0,\n",
              "       0, 0, 0, 0, 0, 1, 0, 1, 1, 0, 0, 0, 0, 0, 0, 0, 0, 0, 0, 0, 0, 0,\n",
              "       0, 0, 0, 0, 0, 0, 0, 0, 0, 0, 0, 0, 1, 1, 1, 1, 1, 1, 0])"
            ]
          },
          "metadata": {},
          "execution_count": 39
        }
      ]
    },
    {
      "cell_type": "code",
      "source": [
        "Outputvariable #M and B converted into 0s and 1s for computations"
      ],
      "metadata": {
        "colab": {
          "base_uri": "https://localhost:8080/"
        },
        "id": "qMG50lMbL4AO",
        "outputId": "37ac9f09-fff5-4b72-cb26-a0dd5f1489f6"
      },
      "execution_count": null,
      "outputs": [
        {
          "output_type": "execute_result",
          "data": {
            "text/plain": [
              "array([1, 1, 1, 1, 1, 1, 1, 1, 1, 1, 1, 1, 1, 1, 1, 1, 1, 1, 1, 0, 0, 0,\n",
              "       1, 1, 1, 1, 1, 1, 1, 1, 1, 1, 1, 1, 1, 1, 1, 0, 1, 1, 1, 1, 1, 1,\n",
              "       1, 1, 0, 1, 0, 0, 0, 0, 0, 1, 1, 0, 1, 1, 0, 0, 0, 0, 1, 0, 1, 1,\n",
              "       0, 0, 0, 0, 1, 0, 1, 1, 0, 1, 0, 1, 1, 0, 0, 0, 1, 1, 0, 1, 1, 1,\n",
              "       0, 0, 0, 1, 0, 0, 1, 1, 0, 0, 0, 1, 1, 0, 0, 0, 0, 1, 0, 0, 1, 0,\n",
              "       0, 0, 0, 0, 0, 0, 0, 1, 1, 1, 0, 1, 1, 0, 0, 0, 1, 1, 0, 1, 0, 1,\n",
              "       1, 0, 1, 1, 0, 0, 1, 0, 0, 1, 0, 0, 0, 0, 1, 0, 0, 0, 0, 0, 0, 0,\n",
              "       0, 0, 1, 0, 0, 0, 0, 1, 1, 0, 1, 0, 0, 1, 1, 0, 0, 1, 1, 0, 0, 0,\n",
              "       0, 1, 0, 0, 1, 1, 1, 0, 1, 0, 1, 0, 0, 0, 1, 0, 0, 1, 1, 0, 1, 1,\n",
              "       1, 1, 0, 1, 1, 1, 0, 1, 0, 1, 0, 0, 1, 0, 1, 1, 1, 1, 0, 0, 1, 1,\n",
              "       0, 0, 0, 1, 0, 0, 0, 0, 0, 1, 1, 0, 0, 1, 0, 0, 1, 1, 0, 1, 0, 0,\n",
              "       0, 0, 1, 0, 0, 0, 0, 0, 1, 0, 1, 1, 1, 1, 1, 1, 1, 1, 1, 1, 1, 1,\n",
              "       1, 1, 0, 0, 0, 0, 0, 0, 1, 0, 1, 0, 0, 1, 0, 0, 1, 0, 1, 1, 0, 0,\n",
              "       0, 0, 0, 0, 0, 0, 0, 0, 0, 0, 0, 1, 0, 0, 1, 0, 1, 0, 0, 0, 0, 0,\n",
              "       0, 0, 0, 0, 0, 0, 0, 0, 0, 1, 0, 0, 0, 1, 0, 1, 0, 0, 0, 0, 1, 1,\n",
              "       1, 0, 0, 0, 0, 1, 0, 1, 0, 1, 0, 0, 0, 1, 0, 0, 0, 0, 0, 0, 0, 1,\n",
              "       1, 1, 0, 0, 0, 0, 0, 0, 0, 0, 0, 0, 0, 1, 1, 0, 1, 1, 1, 0, 1, 1,\n",
              "       0, 0, 0, 0, 0, 1, 0, 0, 0, 0, 0, 1, 0, 0, 0, 1, 0, 0, 1, 1, 0, 0,\n",
              "       0, 0, 0, 0, 1, 0, 0, 0, 0, 0, 0, 0, 1, 0, 0, 0, 0, 0, 1, 0, 0, 1,\n",
              "       0, 0, 0, 0, 0, 0, 0, 0, 0, 0, 0, 0, 1, 0, 1, 1, 0, 1, 0, 0, 0, 0,\n",
              "       0, 1, 0, 0, 1, 0, 1, 0, 0, 1, 0, 1, 0, 0, 0, 0, 0, 0, 0, 0, 1, 1,\n",
              "       0, 0, 0, 0, 0, 0, 1, 0, 0, 0, 0, 0, 0, 0, 0, 0, 0, 1, 0, 0, 0, 0,\n",
              "       0, 0, 0, 1, 0, 1, 0, 0, 1, 0, 0, 0, 0, 0, 1, 1, 0, 1, 0, 1, 0, 0,\n",
              "       0, 0, 0, 1, 0, 0, 1, 0, 1, 0, 1, 1, 0, 0, 0, 1, 0, 0, 0, 0, 0, 0,\n",
              "       0, 0, 0, 0, 0, 1, 0, 1, 1, 0, 0, 0, 0, 0, 0, 0, 0, 0, 0, 0, 0, 0,\n",
              "       0, 0, 0, 0, 0, 0, 0, 0, 0, 0, 0, 0, 1, 1, 1, 1, 1, 1, 0])"
            ]
          },
          "metadata": {},
          "execution_count": 13
        }
      ]
    },
    {
      "cell_type": "code",
      "source": [
        "#Make training and testing set. \n",
        "from sklearn.model_selection import train_test_split\n",
        "inputvaraible_train, inputvaraible_test, outputvaraible_train, outputvariable_test = train_test_split(Inputvariable, Outputvariable, test_size = 0.3, random_state = 0)"
      ],
      "metadata": {
        "id": "ALzqu7D_NRLq"
      },
      "execution_count": 40,
      "outputs": []
    },
    {
      "cell_type": "code",
      "source": [
        "#apply the feature scaling. For testing set, apply transform() and for train_set apply fit_transform \n",
        "from sklearn.preprocessing import StandardScaler\n",
        "Standardscaler = StandardScaler()\n",
        "inputvariable_train = Standardscaler.fit_transform(inputvaraible_train)\n",
        "inputvariable_test = Standardscaler.transform(inputvaraible_test) #avoid information lickaage. \n",
        "\n",
        "#This step is the end of data preprpocessing. "
      ],
      "metadata": {
        "id": "f27jSXigmvXq"
      },
      "execution_count": 41,
      "outputs": []
    },
    {
      "cell_type": "code",
      "source": [
        "inputvariable_test"
      ],
      "metadata": {
        "colab": {
          "base_uri": "https://localhost:8080/"
        },
        "id": "_M93J1rC_AUb",
        "outputId": "4c0501cf-63d9-4b6b-9cfd-006c6c6a7854"
      },
      "execution_count": null,
      "outputs": [
        {
          "output_type": "execute_result",
          "data": {
            "text/plain": [
              "array([[-0.21855296,  0.31710749, -0.14938447, ..., -0.14567981,\n",
              "         0.11542304,  0.28378104],\n",
              "       [-0.27141746,  1.44727832, -0.33290634, ..., -1.01213192,\n",
              "        -0.56501333, -0.89282925],\n",
              "       [-0.04604776, -0.84412512, -0.11098232, ..., -0.94337721,\n",
              "        -0.77128156, -0.15687139],\n",
              "       ...,\n",
              "       [-0.13230036, -0.12253613, -0.14574637, ..., -0.1540065 ,\n",
              "        -0.36319493,  0.31452423],\n",
              "       [-0.24637638,  0.56799108, -0.28682376, ..., -0.27652787,\n",
              "        -0.46515527, -0.90171062],\n",
              "       [-1.35013142,  0.65639767, -1.34712739, ..., -0.40202307,\n",
              "         0.30602931,  0.19496737]])"
            ]
          },
          "metadata": {},
          "execution_count": 20
        }
      ]
    },
    {
      "cell_type": "code",
      "source": [
        "#Launch ANN Model\n",
        "ArtificalNeuralNetworkModel = tf.keras.models.Sequential()"
      ],
      "metadata": {
        "id": "GG1SY8e-14WJ"
      },
      "execution_count": 42,
      "outputs": []
    },
    {
      "cell_type": "code",
      "source": [
        "#Add the input layer and hidden layer.\n",
        "ArtificalNeuralNetworkModel.add(tf.keras.layers.Dense(10, activation='relu'))\n",
        "#this is using the rectifier function \n",
        "#add methods can add any new layer. And keep the parameters as 10. \n",
        "#Adds the second layer. \n",
        "\n",
        "ArtificalNeuralNetworkModel.add(tf.keras.layers.Dense(10, activation='relu'))\n",
        "\n",
        "ArtificalNeuralNetworkModel.add(tf.keras.layers.Dense(1, activation='sigmoid'))\n",
        "#What's the reason that we need just 1? #That's for binary output \n"
      ],
      "metadata": {
        "id": "zeGWyE3z2ChF"
      },
      "execution_count": null,
      "outputs": []
    },
    {
      "cell_type": "code",
      "source": [
        "ArtificalNeuralNetworkModel.compile(      \n",
        "optimizer = 'adam', loss = 'binary_crossentropy', metrics = ['accuracy'])\n",
        "\n",
        "#if non binary, then then categorical_crossentropy \n"
      ],
      "metadata": {
        "id": "63_LvSmI3PwL"
      },
      "execution_count": null,
      "outputs": []
    },
    {
      "cell_type": "code",
      "source": [
        "ArtificalNeuralNetworkModel.fit(inputvaraible_train, outputvaraible_train, batch_size = 32, epochs = 100)\n",
        "\n",
        "#batch size= using several predictions and we are using 100 predictions. And the accuracy gets better and better."
      ],
      "metadata": {
        "colab": {
          "base_uri": "https://localhost:8080/"
        },
        "id": "SpzY3ZJ53zUs",
        "outputId": "dc12533d-6e19-43d5-f378-b2158e3d1064"
      },
      "execution_count": null,
      "outputs": [
        {
          "output_type": "stream",
          "name": "stdout",
          "text": [
            "Epoch 1/100\n",
            "13/13 [==============================] - 1s 3ms/step - loss: 17.0166 - accuracy: 0.3744\n",
            "Epoch 2/100\n",
            "13/13 [==============================] - 0s 3ms/step - loss: 8.1047 - accuracy: 0.3744\n",
            "Epoch 3/100\n",
            "13/13 [==============================] - 0s 2ms/step - loss: 1.5084 - accuracy: 0.5678\n",
            "Epoch 4/100\n",
            "13/13 [==============================] - 0s 3ms/step - loss: 0.8607 - accuracy: 0.6482\n",
            "Epoch 5/100\n",
            "13/13 [==============================] - 0s 2ms/step - loss: 0.5807 - accuracy: 0.6709\n",
            "Epoch 6/100\n",
            "13/13 [==============================] - 0s 2ms/step - loss: 0.4589 - accuracy: 0.8216\n",
            "Epoch 7/100\n",
            "13/13 [==============================] - 0s 3ms/step - loss: 0.4328 - accuracy: 0.8417\n",
            "Epoch 8/100\n",
            "13/13 [==============================] - 0s 2ms/step - loss: 0.4381 - accuracy: 0.8241\n",
            "Epoch 9/100\n",
            "13/13 [==============================] - 0s 2ms/step - loss: 0.4345 - accuracy: 0.8241\n",
            "Epoch 10/100\n",
            "13/13 [==============================] - 0s 2ms/step - loss: 0.4283 - accuracy: 0.8392\n",
            "Epoch 11/100\n",
            "13/13 [==============================] - 0s 2ms/step - loss: 0.4149 - accuracy: 0.8392\n",
            "Epoch 12/100\n",
            "13/13 [==============================] - 0s 2ms/step - loss: 0.4094 - accuracy: 0.8593\n",
            "Epoch 13/100\n",
            "13/13 [==============================] - 0s 3ms/step - loss: 0.4070 - accuracy: 0.8467\n",
            "Epoch 14/100\n",
            "13/13 [==============================] - 0s 3ms/step - loss: 0.3995 - accuracy: 0.8492\n",
            "Epoch 15/100\n",
            "13/13 [==============================] - 0s 2ms/step - loss: 0.3997 - accuracy: 0.8543\n",
            "Epoch 16/100\n",
            "13/13 [==============================] - 0s 2ms/step - loss: 0.3955 - accuracy: 0.8492\n",
            "Epoch 17/100\n",
            "13/13 [==============================] - 0s 2ms/step - loss: 0.3934 - accuracy: 0.8593\n",
            "Epoch 18/100\n",
            "13/13 [==============================] - 0s 2ms/step - loss: 0.3915 - accuracy: 0.8593\n",
            "Epoch 19/100\n",
            "13/13 [==============================] - 0s 2ms/step - loss: 0.3860 - accuracy: 0.8618\n",
            "Epoch 20/100\n",
            "13/13 [==============================] - 0s 2ms/step - loss: 0.3820 - accuracy: 0.8568\n",
            "Epoch 21/100\n",
            "13/13 [==============================] - 0s 3ms/step - loss: 0.3847 - accuracy: 0.8744\n",
            "Epoch 22/100\n",
            "13/13 [==============================] - 0s 3ms/step - loss: 0.3781 - accuracy: 0.8492\n",
            "Epoch 23/100\n",
            "13/13 [==============================] - 0s 2ms/step - loss: 0.3729 - accuracy: 0.8543\n",
            "Epoch 24/100\n",
            "13/13 [==============================] - 0s 2ms/step - loss: 0.3806 - accuracy: 0.8518\n",
            "Epoch 25/100\n",
            "13/13 [==============================] - 0s 3ms/step - loss: 0.3799 - accuracy: 0.8643\n",
            "Epoch 26/100\n",
            "13/13 [==============================] - 0s 2ms/step - loss: 0.3695 - accuracy: 0.8693\n",
            "Epoch 27/100\n",
            "13/13 [==============================] - 0s 2ms/step - loss: 0.3659 - accuracy: 0.8744\n",
            "Epoch 28/100\n",
            "13/13 [==============================] - 0s 2ms/step - loss: 0.3668 - accuracy: 0.8643\n",
            "Epoch 29/100\n",
            "13/13 [==============================] - 0s 3ms/step - loss: 0.3576 - accuracy: 0.8693\n",
            "Epoch 30/100\n",
            "13/13 [==============================] - 0s 2ms/step - loss: 0.3825 - accuracy: 0.8568\n",
            "Epoch 31/100\n",
            "13/13 [==============================] - 0s 2ms/step - loss: 0.3610 - accuracy: 0.8518\n",
            "Epoch 32/100\n",
            "13/13 [==============================] - 0s 2ms/step - loss: 0.3671 - accuracy: 0.8668\n",
            "Epoch 33/100\n",
            "13/13 [==============================] - 0s 2ms/step - loss: 0.3514 - accuracy: 0.8668\n",
            "Epoch 34/100\n",
            "13/13 [==============================] - 0s 2ms/step - loss: 0.3573 - accuracy: 0.8568\n",
            "Epoch 35/100\n",
            "13/13 [==============================] - 0s 2ms/step - loss: 0.3538 - accuracy: 0.8693\n",
            "Epoch 36/100\n",
            "13/13 [==============================] - 0s 2ms/step - loss: 0.3556 - accuracy: 0.8744\n",
            "Epoch 37/100\n",
            "13/13 [==============================] - 0s 3ms/step - loss: 0.3666 - accuracy: 0.8593\n",
            "Epoch 38/100\n",
            "13/13 [==============================] - 0s 2ms/step - loss: 0.3658 - accuracy: 0.8568\n",
            "Epoch 39/100\n",
            "13/13 [==============================] - 0s 2ms/step - loss: 0.3926 - accuracy: 0.8216\n",
            "Epoch 40/100\n",
            "13/13 [==============================] - 0s 3ms/step - loss: 0.3439 - accuracy: 0.8819\n",
            "Epoch 41/100\n",
            "13/13 [==============================] - 0s 2ms/step - loss: 0.3442 - accuracy: 0.8643\n",
            "Epoch 42/100\n",
            "13/13 [==============================] - 0s 2ms/step - loss: 0.3659 - accuracy: 0.8593\n",
            "Epoch 43/100\n",
            "13/13 [==============================] - 0s 2ms/step - loss: 0.3423 - accuracy: 0.8693\n",
            "Epoch 44/100\n",
            "13/13 [==============================] - 0s 2ms/step - loss: 0.3510 - accuracy: 0.8744\n",
            "Epoch 45/100\n",
            "13/13 [==============================] - 0s 3ms/step - loss: 0.3387 - accuracy: 0.8643\n",
            "Epoch 46/100\n",
            "13/13 [==============================] - 0s 2ms/step - loss: 0.3334 - accuracy: 0.8769\n",
            "Epoch 47/100\n",
            "13/13 [==============================] - 0s 2ms/step - loss: 0.3440 - accuracy: 0.8794\n",
            "Epoch 48/100\n",
            "13/13 [==============================] - 0s 3ms/step - loss: 0.3379 - accuracy: 0.8693\n",
            "Epoch 49/100\n",
            "13/13 [==============================] - 0s 2ms/step - loss: 0.3323 - accuracy: 0.8719\n",
            "Epoch 50/100\n",
            "13/13 [==============================] - 0s 2ms/step - loss: 0.3335 - accuracy: 0.8744\n",
            "Epoch 51/100\n",
            "13/13 [==============================] - 0s 2ms/step - loss: 0.3337 - accuracy: 0.8719\n",
            "Epoch 52/100\n",
            "13/13 [==============================] - 0s 2ms/step - loss: 0.3531 - accuracy: 0.8719\n",
            "Epoch 53/100\n",
            "13/13 [==============================] - 0s 2ms/step - loss: 0.3408 - accuracy: 0.8643\n",
            "Epoch 54/100\n",
            "13/13 [==============================] - 0s 2ms/step - loss: 0.3333 - accuracy: 0.8769\n",
            "Epoch 55/100\n",
            "13/13 [==============================] - 0s 3ms/step - loss: 0.3393 - accuracy: 0.8668\n",
            "Epoch 56/100\n",
            "13/13 [==============================] - 0s 2ms/step - loss: 0.3298 - accuracy: 0.8668\n",
            "Epoch 57/100\n",
            "13/13 [==============================] - 0s 2ms/step - loss: 0.3269 - accuracy: 0.8744\n",
            "Epoch 58/100\n",
            "13/13 [==============================] - 0s 2ms/step - loss: 0.3240 - accuracy: 0.8769\n",
            "Epoch 59/100\n",
            "13/13 [==============================] - 0s 3ms/step - loss: 0.3316 - accuracy: 0.8769\n",
            "Epoch 60/100\n",
            "13/13 [==============================] - 0s 3ms/step - loss: 0.3354 - accuracy: 0.8769\n",
            "Epoch 61/100\n",
            "13/13 [==============================] - 0s 2ms/step - loss: 0.3248 - accuracy: 0.8819\n",
            "Epoch 62/100\n",
            "13/13 [==============================] - 0s 3ms/step - loss: 0.3229 - accuracy: 0.8794\n",
            "Epoch 63/100\n",
            "13/13 [==============================] - 0s 3ms/step - loss: 0.3302 - accuracy: 0.8744\n",
            "Epoch 64/100\n",
            "13/13 [==============================] - 0s 2ms/step - loss: 0.3292 - accuracy: 0.8819\n",
            "Epoch 65/100\n",
            "13/13 [==============================] - 0s 2ms/step - loss: 0.3365 - accuracy: 0.8568\n",
            "Epoch 66/100\n",
            "13/13 [==============================] - 0s 3ms/step - loss: 0.3492 - accuracy: 0.8693\n",
            "Epoch 67/100\n",
            "13/13 [==============================] - 0s 2ms/step - loss: 0.3326 - accuracy: 0.8693\n",
            "Epoch 68/100\n",
            "13/13 [==============================] - 0s 2ms/step - loss: 0.3436 - accuracy: 0.8693\n",
            "Epoch 69/100\n",
            "13/13 [==============================] - 0s 2ms/step - loss: 0.3417 - accuracy: 0.8769\n",
            "Epoch 70/100\n",
            "13/13 [==============================] - 0s 3ms/step - loss: 0.3443 - accuracy: 0.8618\n",
            "Epoch 71/100\n",
            "13/13 [==============================] - 0s 2ms/step - loss: 0.3457 - accuracy: 0.8593\n",
            "Epoch 72/100\n",
            "13/13 [==============================] - 0s 2ms/step - loss: 0.3369 - accuracy: 0.8693\n",
            "Epoch 73/100\n",
            "13/13 [==============================] - 0s 2ms/step - loss: 0.3226 - accuracy: 0.8794\n",
            "Epoch 74/100\n",
            "13/13 [==============================] - 0s 2ms/step - loss: 0.3206 - accuracy: 0.8794\n",
            "Epoch 75/100\n",
            "13/13 [==============================] - 0s 2ms/step - loss: 0.3285 - accuracy: 0.8769\n",
            "Epoch 76/100\n",
            "13/13 [==============================] - 0s 2ms/step - loss: 0.3281 - accuracy: 0.8769\n",
            "Epoch 77/100\n",
            "13/13 [==============================] - 0s 2ms/step - loss: 0.3187 - accuracy: 0.8719\n",
            "Epoch 78/100\n",
            "13/13 [==============================] - 0s 2ms/step - loss: 0.3309 - accuracy: 0.8593\n",
            "Epoch 79/100\n",
            "13/13 [==============================] - 0s 2ms/step - loss: 0.3211 - accuracy: 0.8819\n",
            "Epoch 80/100\n",
            "13/13 [==============================] - 0s 2ms/step - loss: 0.3235 - accuracy: 0.8794\n",
            "Epoch 81/100\n",
            "13/13 [==============================] - 0s 2ms/step - loss: 0.3163 - accuracy: 0.8844\n",
            "Epoch 82/100\n",
            "13/13 [==============================] - 0s 2ms/step - loss: 0.3192 - accuracy: 0.8794\n",
            "Epoch 83/100\n",
            "13/13 [==============================] - 0s 2ms/step - loss: 0.3206 - accuracy: 0.8819\n",
            "Epoch 84/100\n",
            "13/13 [==============================] - 0s 2ms/step - loss: 0.3271 - accuracy: 0.8693\n",
            "Epoch 85/100\n",
            "13/13 [==============================] - 0s 2ms/step - loss: 0.3222 - accuracy: 0.8744\n",
            "Epoch 86/100\n",
            "13/13 [==============================] - 0s 3ms/step - loss: 0.3150 - accuracy: 0.8819\n",
            "Epoch 87/100\n",
            "13/13 [==============================] - 0s 2ms/step - loss: 0.3144 - accuracy: 0.8794\n",
            "Epoch 88/100\n",
            "13/13 [==============================] - 0s 3ms/step - loss: 0.3172 - accuracy: 0.8920\n",
            "Epoch 89/100\n",
            "13/13 [==============================] - 0s 2ms/step - loss: 0.3321 - accuracy: 0.8668\n",
            "Epoch 90/100\n",
            "13/13 [==============================] - 0s 2ms/step - loss: 0.3266 - accuracy: 0.8719\n",
            "Epoch 91/100\n",
            "13/13 [==============================] - 0s 2ms/step - loss: 0.3349 - accuracy: 0.8794\n",
            "Epoch 92/100\n",
            "13/13 [==============================] - 0s 2ms/step - loss: 0.3225 - accuracy: 0.8744\n",
            "Epoch 93/100\n",
            "13/13 [==============================] - 0s 3ms/step - loss: 0.3348 - accuracy: 0.8693\n",
            "Epoch 94/100\n",
            "13/13 [==============================] - 0s 3ms/step - loss: 0.3178 - accuracy: 0.8744\n",
            "Epoch 95/100\n",
            "13/13 [==============================] - 0s 3ms/step - loss: 0.3159 - accuracy: 0.8794\n",
            "Epoch 96/100\n",
            "13/13 [==============================] - 0s 2ms/step - loss: 0.3138 - accuracy: 0.8794\n",
            "Epoch 97/100\n",
            "13/13 [==============================] - 0s 2ms/step - loss: 0.3115 - accuracy: 0.8769\n",
            "Epoch 98/100\n",
            "13/13 [==============================] - 0s 2ms/step - loss: 0.3448 - accuracy: 0.8568\n",
            "Epoch 99/100\n",
            "13/13 [==============================] - 0s 3ms/step - loss: 0.3254 - accuracy: 0.8593\n",
            "Epoch 100/100\n",
            "13/13 [==============================] - 0s 2ms/step - loss: 0.3401 - accuracy: 0.8668\n"
          ]
        },
        {
          "output_type": "execute_result",
          "data": {
            "text/plain": [
              "<keras.callbacks.History at 0x7f774c445290>"
            ]
          },
          "metadata": {},
          "execution_count": 26
        }
      ]
    },
    {
      "cell_type": "code",
      "source": [
        "#Example of prediction based on certain inputs. print(ann.predict(sc.transform([[1, 0, 0, 600, 1, 40, 3, 60000, 2, 1, 1, 50000]])) > 0.5)\n",
        "inputvariable_test"
      ],
      "metadata": {
        "id": "OQONlMyk-S6-",
        "colab": {
          "base_uri": "https://localhost:8080/"
        },
        "outputId": "606f4174-6924-4f43-d57b-d6ba6040b8b4"
      },
      "execution_count": null,
      "outputs": [
        {
          "output_type": "execute_result",
          "data": {
            "text/plain": [
              "array([[-0.21855296,  0.31710749, -0.14938447, ..., -0.14567981,\n",
              "         0.11542304,  0.28378104],\n",
              "       [-0.27141746,  1.44727832, -0.33290634, ..., -1.01213192,\n",
              "        -0.56501333, -0.89282925],\n",
              "       [-0.04604776, -0.84412512, -0.11098232, ..., -0.94337721,\n",
              "        -0.77128156, -0.15687139],\n",
              "       ...,\n",
              "       [-0.13230036, -0.12253613, -0.14574637, ..., -0.1540065 ,\n",
              "        -0.36319493,  0.31452423],\n",
              "       [-0.24637638,  0.56799108, -0.28682376, ..., -0.27652787,\n",
              "        -0.46515527, -0.90171062],\n",
              "       [-1.35013142,  0.65639767, -1.34712739, ..., -0.40202307,\n",
              "         0.30602931,  0.19496737]])"
            ]
          },
          "metadata": {},
          "execution_count": 103
        }
      ]
    },
    {
      "cell_type": "code",
      "source": [
        "predictios_from_testingset =  ArtificalNeuralNetworkModel.predict(inputvariable_test)"
      ],
      "metadata": {
        "id": "FONXURtU-6Fc"
      },
      "execution_count": null,
      "outputs": []
    },
    {
      "cell_type": "code",
      "source": [
        "predictios_from_testingset "
      ],
      "metadata": {
        "colab": {
          "base_uri": "https://localhost:8080/"
        },
        "id": "JgsuhMJ7irvZ",
        "outputId": "9814e6fe-3493-4c2e-9127-6afbdb191a5d"
      },
      "execution_count": null,
      "outputs": [
        {
          "output_type": "execute_result",
          "data": {
            "text/plain": [
              "array([[0.90549684],\n",
              "       [0.07791042],\n",
              "       [0.14097694],\n",
              "       [0.12900281],\n",
              "       [0.20424154],\n",
              "       [0.14288205],\n",
              "       [0.26959962],\n",
              "       [0.10032737],\n",
              "       [0.04441005],\n",
              "       [0.15572828],\n",
              "       [0.846702  ],\n",
              "       [0.1367014 ],\n",
              "       [0.10876873],\n",
              "       [0.23022202],\n",
              "       [0.6724818 ],\n",
              "       [0.9643012 ],\n",
              "       [0.98043025],\n",
              "       [0.57009   ],\n",
              "       [0.78507674],\n",
              "       [0.9849236 ],\n",
              "       [0.88974446],\n",
              "       [0.9399227 ],\n",
              "       [0.34058046],\n",
              "       [0.09577003],\n",
              "       [0.89079416],\n",
              "       [0.15074733],\n",
              "       [0.0634532 ],\n",
              "       [0.9867241 ],\n",
              "       [0.11973315],\n",
              "       [0.5101384 ],\n",
              "       [0.08334634],\n",
              "       [0.30509067],\n",
              "       [0.27598172],\n",
              "       [0.49159145],\n",
              "       [0.06950304],\n",
              "       [0.5770671 ],\n",
              "       [0.11891744],\n",
              "       [0.27531937],\n",
              "       [0.1423622 ],\n",
              "       [0.44103962],\n",
              "       [0.15686801],\n",
              "       [0.19099769],\n",
              "       [0.14010155],\n",
              "       [0.07663202],\n",
              "       [0.4397586 ],\n",
              "       [0.8699684 ],\n",
              "       [0.04737768],\n",
              "       [0.08497363],\n",
              "       [0.11355773],\n",
              "       [0.9457331 ],\n",
              "       [0.9901395 ],\n",
              "       [0.9084209 ],\n",
              "       [0.3653987 ],\n",
              "       [0.08622679],\n",
              "       [0.28586566],\n",
              "       [0.08748102],\n",
              "       [0.07663631],\n",
              "       [0.12187412],\n",
              "       [0.10359976],\n",
              "       [0.9363127 ],\n",
              "       [0.6354243 ],\n",
              "       [0.26344916],\n",
              "       [0.18614197],\n",
              "       [0.17635667],\n",
              "       [0.9489223 ],\n",
              "       [0.19920036],\n",
              "       [0.99990666],\n",
              "       [0.6773399 ],\n",
              "       [0.6549146 ],\n",
              "       [0.0894919 ],\n",
              "       [0.38481152],\n",
              "       [0.9761424 ],\n",
              "       [0.2029945 ],\n",
              "       [0.25025707],\n",
              "       [0.89594483],\n",
              "       [0.05770779],\n",
              "       [0.12079719],\n",
              "       [0.59085494],\n",
              "       [0.06169796],\n",
              "       [0.08565894],\n",
              "       [0.34392625],\n",
              "       [0.9999676 ],\n",
              "       [0.9771682 ],\n",
              "       [0.13244331],\n",
              "       [0.5565898 ],\n",
              "       [0.20411468],\n",
              "       [0.0996483 ],\n",
              "       [0.06692776],\n",
              "       [0.34015045],\n",
              "       [0.99966896],\n",
              "       [0.14764172],\n",
              "       [0.26210898],\n",
              "       [0.3167816 ],\n",
              "       [0.99154866],\n",
              "       [0.15678471],\n",
              "       [0.18019009],\n",
              "       [0.8884129 ],\n",
              "       [0.6394995 ],\n",
              "       [0.22631535],\n",
              "       [0.15790653],\n",
              "       [0.5337706 ],\n",
              "       [0.1454882 ],\n",
              "       [0.12760222],\n",
              "       [0.1694865 ],\n",
              "       [0.59997076],\n",
              "       [0.9782291 ],\n",
              "       [0.99905145],\n",
              "       [0.47908276],\n",
              "       [0.20093757],\n",
              "       [0.53986734],\n",
              "       [0.26473954],\n",
              "       [0.8889445 ],\n",
              "       [0.7460543 ],\n",
              "       [0.4143798 ],\n",
              "       [0.14382201],\n",
              "       [0.14539295],\n",
              "       [0.35484362],\n",
              "       [0.21589953],\n",
              "       [0.07688907],\n",
              "       [0.27045876],\n",
              "       [0.26181895],\n",
              "       [0.12060499],\n",
              "       [0.98900115],\n",
              "       [0.45281908],\n",
              "       [0.8751961 ],\n",
              "       [0.6168241 ],\n",
              "       [0.30100685],\n",
              "       [0.16056928],\n",
              "       [0.12706834],\n",
              "       [0.04474354],\n",
              "       [0.61452687],\n",
              "       [0.04905832],\n",
              "       [0.08630031],\n",
              "       [0.54142874],\n",
              "       [0.805733  ],\n",
              "       [0.14912456],\n",
              "       [0.17014667],\n",
              "       [0.2924282 ],\n",
              "       [0.92431986],\n",
              "       [0.3826467 ],\n",
              "       [0.19977182],\n",
              "       [0.35224372],\n",
              "       [0.9751283 ],\n",
              "       [0.11100301],\n",
              "       [0.08156529],\n",
              "       [0.7101495 ],\n",
              "       [0.11438751],\n",
              "       [0.19952619],\n",
              "       [0.06188682],\n",
              "       [0.12404406],\n",
              "       [0.44812134],\n",
              "       [0.9924253 ],\n",
              "       [0.9978337 ],\n",
              "       [0.21405163],\n",
              "       [0.09585297],\n",
              "       [0.8444501 ],\n",
              "       [0.18109447],\n",
              "       [0.16978279],\n",
              "       [0.06223893],\n",
              "       [0.9110117 ],\n",
              "       [0.8179234 ],\n",
              "       [0.06101736],\n",
              "       [0.44344223],\n",
              "       [0.44515193],\n",
              "       [0.17234695],\n",
              "       [0.9462662 ],\n",
              "       [0.75509727],\n",
              "       [0.60474885],\n",
              "       [0.2609731 ],\n",
              "       [0.14902699],\n",
              "       [0.12079945]], dtype=float32)"
            ]
          },
          "metadata": {},
          "execution_count": 105
        }
      ]
    },
    {
      "cell_type": "code",
      "source": [
        "Trueorfalsetesting=(predictios_from_testingset>0.50)\n",
        "print(Trueorfalsetesting)\n",
        "Trueorfalsetesting_dataframe = pd.DataFrame(Trueorfalsetesting)"
      ],
      "metadata": {
        "colab": {
          "base_uri": "https://localhost:8080/"
        },
        "id": "vwGlTaRyDCsC",
        "outputId": "dd4f89c3-f812-4c56-f5f8-31d022b52871"
      },
      "execution_count": null,
      "outputs": [
        {
          "output_type": "stream",
          "name": "stdout",
          "text": [
            "[[ True]\n",
            " [False]\n",
            " [False]\n",
            " [False]\n",
            " [False]\n",
            " [False]\n",
            " [False]\n",
            " [False]\n",
            " [False]\n",
            " [False]\n",
            " [ True]\n",
            " [False]\n",
            " [False]\n",
            " [False]\n",
            " [ True]\n",
            " [ True]\n",
            " [ True]\n",
            " [ True]\n",
            " [ True]\n",
            " [ True]\n",
            " [ True]\n",
            " [ True]\n",
            " [False]\n",
            " [False]\n",
            " [ True]\n",
            " [False]\n",
            " [False]\n",
            " [ True]\n",
            " [False]\n",
            " [ True]\n",
            " [False]\n",
            " [False]\n",
            " [False]\n",
            " [False]\n",
            " [False]\n",
            " [ True]\n",
            " [False]\n",
            " [False]\n",
            " [False]\n",
            " [False]\n",
            " [False]\n",
            " [False]\n",
            " [False]\n",
            " [False]\n",
            " [False]\n",
            " [ True]\n",
            " [False]\n",
            " [False]\n",
            " [False]\n",
            " [ True]\n",
            " [ True]\n",
            " [ True]\n",
            " [False]\n",
            " [False]\n",
            " [False]\n",
            " [False]\n",
            " [False]\n",
            " [False]\n",
            " [False]\n",
            " [ True]\n",
            " [ True]\n",
            " [False]\n",
            " [False]\n",
            " [False]\n",
            " [ True]\n",
            " [False]\n",
            " [ True]\n",
            " [ True]\n",
            " [ True]\n",
            " [False]\n",
            " [False]\n",
            " [ True]\n",
            " [False]\n",
            " [False]\n",
            " [ True]\n",
            " [False]\n",
            " [False]\n",
            " [ True]\n",
            " [False]\n",
            " [False]\n",
            " [False]\n",
            " [ True]\n",
            " [ True]\n",
            " [False]\n",
            " [ True]\n",
            " [False]\n",
            " [False]\n",
            " [False]\n",
            " [False]\n",
            " [ True]\n",
            " [False]\n",
            " [False]\n",
            " [False]\n",
            " [ True]\n",
            " [False]\n",
            " [False]\n",
            " [ True]\n",
            " [ True]\n",
            " [False]\n",
            " [False]\n",
            " [ True]\n",
            " [False]\n",
            " [False]\n",
            " [False]\n",
            " [ True]\n",
            " [ True]\n",
            " [ True]\n",
            " [False]\n",
            " [False]\n",
            " [ True]\n",
            " [False]\n",
            " [ True]\n",
            " [ True]\n",
            " [False]\n",
            " [False]\n",
            " [False]\n",
            " [False]\n",
            " [False]\n",
            " [False]\n",
            " [False]\n",
            " [False]\n",
            " [False]\n",
            " [ True]\n",
            " [False]\n",
            " [ True]\n",
            " [ True]\n",
            " [False]\n",
            " [False]\n",
            " [False]\n",
            " [False]\n",
            " [ True]\n",
            " [False]\n",
            " [False]\n",
            " [ True]\n",
            " [ True]\n",
            " [False]\n",
            " [False]\n",
            " [False]\n",
            " [ True]\n",
            " [False]\n",
            " [False]\n",
            " [False]\n",
            " [ True]\n",
            " [False]\n",
            " [False]\n",
            " [ True]\n",
            " [False]\n",
            " [False]\n",
            " [False]\n",
            " [False]\n",
            " [False]\n",
            " [ True]\n",
            " [ True]\n",
            " [False]\n",
            " [False]\n",
            " [ True]\n",
            " [False]\n",
            " [False]\n",
            " [False]\n",
            " [ True]\n",
            " [ True]\n",
            " [False]\n",
            " [False]\n",
            " [False]\n",
            " [False]\n",
            " [ True]\n",
            " [ True]\n",
            " [ True]\n",
            " [False]\n",
            " [False]\n",
            " [False]]\n"
          ]
        }
      ]
    },
    {
      "cell_type": "code",
      "source": [
        "print(Trueorfalsetesting_dataframe)"
      ],
      "metadata": {
        "colab": {
          "base_uri": "https://localhost:8080/"
        },
        "id": "TvNtEDidERvD",
        "outputId": "79b41d05-d692-4064-bdcb-30e921816394"
      },
      "execution_count": null,
      "outputs": [
        {
          "output_type": "stream",
          "name": "stdout",
          "text": [
            "         0\n",
            "0     True\n",
            "1    False\n",
            "2    False\n",
            "3    False\n",
            "4    False\n",
            "..     ...\n",
            "166   True\n",
            "167   True\n",
            "168  False\n",
            "169  False\n",
            "170  False\n",
            "\n",
            "[171 rows x 1 columns]\n"
          ]
        }
      ]
    }
  ]
}