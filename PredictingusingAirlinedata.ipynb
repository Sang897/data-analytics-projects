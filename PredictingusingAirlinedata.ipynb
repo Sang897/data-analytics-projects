{
  "nbformat": 4,
  "nbformat_minor": 0,
  "metadata": {
    "colab": {
      "name": "PredictingusingAirlinedata.ipynb",
      "provenance": [],
      "collapsed_sections": [],
      "authorship_tag": "ABX9TyOqd9gXi6E0JgBGAUz8Twsw",
      "include_colab_link": true
    },
    "kernelspec": {
      "name": "python3",
      "display_name": "Python 3"
    },
    "language_info": {
      "name": "python"
    }
  },
  "cells": [
    {
      "cell_type": "markdown",
      "metadata": {
        "id": "view-in-github",
        "colab_type": "text"
      },
      "source": [
        "<a href=\"https://colab.research.google.com/github/Sang897/data-analytics-projects/blob/master/PredictingusingAirlinedata.ipynb\" target=\"_parent\"><img src=\"https://colab.research.google.com/assets/colab-badge.svg\" alt=\"Open In Colab\"/></a>"
      ]
    },
    {
      "cell_type": "code",
      "execution_count": null,
      "metadata": {
        "id": "8IrpMWYN7TF0"
      },
      "outputs": [],
      "source": [
        "import numpy as np\n",
        "import pandas as pd\n",
        "import tensorflow as tf\n",
        "\n"
      ]
    },
    {
      "cell_type": "code",
      "source": [
        "#The purpose of this project is to utilize Artifical Neural Network to create ML that predicts different inputs of data to predict whether\n",
        "#customer will give binary output anwer as \"satisified\" or \"not satisfied\"\n",
        "#The following data is based on customer service data of Airline \n",
        "dataset = pd.read_csv('Customer Service Network2.csv')"
      ],
      "metadata": {
        "id": "q4DedeUv7cze"
      },
      "execution_count": null,
      "outputs": []
    },
    {
      "cell_type": "code",
      "source": [
        "#Plan: Gender needs categorical encoding"
      ],
      "metadata": {
        "id": "S18qCBEW7u4p"
      },
      "execution_count": null,
      "outputs": []
    },
    {
      "cell_type": "code",
      "source": [
        "#What are the features that are valuable? \n",
        "#Gender, Customer Type, Age, Type of Travel, Class, Flight Distance, Inflight wifi service, Inflight Entertainment, On-board Service, \n",
        "#Baggage Handling, Checking Service, Cleainess, Deparatu  re delay in minutes, arrival delay in minutes \n",
        "\n",
        "#Which column should be used as an output? \n",
        "#Satisfaction column \n",
        "\n",
        "for col in dataset.columns:\n",
        "  print(col)\n",
        "\n",
        "#Is the result different if an array and a dataframe? \n",
        "#Tried using \n",
        "#numpy.ndarray but dataframe is the one that works? \n",
        "\n",
        "#Try using both dataframe and numpy.array version "
      ],
      "metadata": {
        "colab": {
          "base_uri": "https://localhost:8080/"
        },
        "id": "E0-uq1ro9Kja",
        "outputId": "21ea1ee0-10d6-4cb7-827e-c0ca4d04aef6"
      },
      "execution_count": null,
      "outputs": [
        {
          "output_type": "stream",
          "name": "stdout",
          "text": [
            "satisfaction\n",
            "Gender\n",
            "Customer Type\n",
            "Age\n",
            "Type of Travel\n",
            "Class\n",
            "Flight Distance\n",
            "Seat comfort\n",
            "Departure/Arrival time convenient\n",
            "Food and drink\n",
            "Gate location\n",
            "Inflight wifi service\n",
            "Inflight entertainment\n",
            "Online support\n",
            "Ease of Online booking\n",
            "On-board service\n",
            "Leg room service\n",
            "Baggage handling\n",
            "Checkin service\n",
            "Cleanliness\n",
            "Online boarding\n",
            "Departure Delay in Minutes\n",
            "Arrival Delay in Minutes\n"
          ]
        }
      ]
    },
    {
      "cell_type": "code",
      "source": [
        "dataset.dtypes"
      ],
      "metadata": {
        "colab": {
          "base_uri": "https://localhost:8080/"
        },
        "id": "Xax1iFmXL35Y",
        "outputId": "c2b9dd19-5776-4aa5-f2be-91808d7b481c"
      },
      "execution_count": null,
      "outputs": [
        {
          "output_type": "execute_result",
          "data": {
            "text/plain": [
              "satisfaction                          object\n",
              "Gender                                object\n",
              "Customer Type                         object\n",
              "Age                                    int64\n",
              "Type of Travel                        object\n",
              "Class                                 object\n",
              "Flight Distance                        int64\n",
              "Seat comfort                           int64\n",
              "Departure/Arrival time convenient      int64\n",
              "Food and drink                         int64\n",
              "Gate location                          int64\n",
              "Inflight wifi service                  int64\n",
              "Inflight entertainment                 int64\n",
              "Online support                         int64\n",
              "Ease of Online booking                 int64\n",
              "On-board service                       int64\n",
              "Leg room service                       int64\n",
              "Baggage handling                       int64\n",
              "Checkin service                        int64\n",
              "Cleanliness                            int64\n",
              "Online boarding                        int64\n",
              "Departure Delay in Minutes             int64\n",
              "Arrival Delay in Minutes             float64\n",
              "dtype: object"
            ]
          },
          "metadata": {},
          "execution_count": 85
        }
      ]
    },
    {
      "cell_type": "code",
      "source": [
        "dataset.columns"
      ],
      "metadata": {
        "colab": {
          "base_uri": "https://localhost:8080/"
        },
        "id": "qA1OSg1-aEe0",
        "outputId": "305aad2f-6c1f-4aaf-9017-64098540d43e"
      },
      "execution_count": null,
      "outputs": [
        {
          "output_type": "execute_result",
          "data": {
            "text/plain": [
              "Index(['satisfaction', 'Gender', 'Customer Type', 'Age', 'Type of Travel',\n",
              "       'Class', 'Flight Distance', 'Seat comfort',\n",
              "       'Departure/Arrival time convenient', 'Food and drink', 'Gate location',\n",
              "       'Inflight wifi service', 'Inflight entertainment', 'Online support',\n",
              "       'Ease of Online booking', 'On-board service', 'Leg room service',\n",
              "       'Baggage handling', 'Checkin service', 'Cleanliness', 'Online boarding',\n",
              "       'Departure Delay in Minutes', 'Arrival Delay in Minutes'],\n",
              "      dtype='object')"
            ]
          },
          "metadata": {},
          "execution_count": 86
        }
      ]
    },
    {
      "cell_type": "code",
      "source": [
        "Inputvariable = dataset.iloc[:,[1,2,3,4,5,6]].values #the limitation of this project is that the rating inputs such as \"ease of online booking\",\n",
        "#on-board service\", \"leg room service\", \"baggage handling\" that has score of 0 to 5 was not utlized in the ML as input.\n",
        "#The reason is that I noticed that when using it, this creates loss amount in the final training input as zero when the inputs are scales of 0 to 5. \n",
        "#I assume that this is because the scale itself is too low to compare. So I used following critical inputs: \"Gender, \"Customer Type\", \"Type of Travel\",\n",
        "#\"Age\", \"Flight Distance\" to make a prediction of whether the satisfication is yes or no. "
      ],
      "metadata": {
        "id": "rXHxEqcXME4M"
      },
      "execution_count": null,
      "outputs": []
    },
    {
      "cell_type": "code",
      "source": [
        "print(Inputvariable)"
      ],
      "metadata": {
        "colab": {
          "base_uri": "https://localhost:8080/"
        },
        "id": "oE4BbkAXCUB4",
        "outputId": "0575d7e4-dd45-48f3-85b3-abec934152ba"
      },
      "execution_count": null,
      "outputs": [
        {
          "output_type": "stream",
          "name": "stdout",
          "text": [
            "[['Female' 'Loyal Customer' 65 'Personal Travel' 'Eco' 265]\n",
            " ['Male' 'Loyal Customer' 47 'Personal Travel' 'Business' 2464]\n",
            " ['Female' 'Loyal Customer' 15 'Personal Travel' 'Eco' 2138]\n",
            " ...\n",
            " ['Male' 'disloyal Customer' 69 'Personal Travel' 'Eco' 2320]\n",
            " ['Male' 'disloyal Customer' 66 'Personal Travel' 'Eco' 2450]\n",
            " ['Female' 'disloyal Customer' 38 'Personal Travel' 'Eco' 4307]]\n"
          ]
        }
      ]
    },
    {
      "cell_type": "code",
      "source": [
        "#Inputvariable.columns"
      ],
      "metadata": {
        "id": "06LTqWhjARgG"
      },
      "execution_count": null,
      "outputs": []
    },
    {
      "cell_type": "code",
      "source": [
        "#Check: Gender, Customer Type, Age, Type of Travel, Class, Flight Distance, Inflight wifi service, Inflight Entertainment, On-board Service, \n",
        "#Baggage Handling, Checking Service, Cleainess, Deparature delay in minutes, arrival delay in minutes \n",
        "Inputvariable[1,:] #Compared with excel file and these are all correct. \n",
        "#For the inputs, Male or female requires label encoding, Loyal Customer requires label encoding, Personal Travel requires label encoding, and buissness requires hot encodin. \n"
      ],
      "metadata": {
        "colab": {
          "base_uri": "https://localhost:8080/"
        },
        "id": "YpIp9f7SfFAY",
        "outputId": "b828a51c-d17b-450e-e2ac-95ecda5b8a8d"
      },
      "execution_count": null,
      "outputs": [
        {
          "output_type": "execute_result",
          "data": {
            "text/plain": [
              "array(['Male', 'Loyal Customer', 47, 'Personal Travel', 'Business', 2464],\n",
              "      dtype=object)"
            ]
          },
          "metadata": {},
          "execution_count": 90
        }
      ]
    },
    {
      "cell_type": "code",
      "source": [
        "Outputvariable =dataset.iloc[:,0].values "
      ],
      "metadata": {
        "id": "2geqk6pch6YH"
      },
      "execution_count": null,
      "outputs": []
    },
    {
      "cell_type": "code",
      "source": [
        "Outputvariable"
      ],
      "metadata": {
        "colab": {
          "base_uri": "https://localhost:8080/"
        },
        "id": "f0EHa2GizygW",
        "outputId": "2469f28e-1c58-4ff1-b05b-60af3acd9f06"
      },
      "execution_count": null,
      "outputs": [
        {
          "output_type": "execute_result",
          "data": {
            "text/plain": [
              "array(['satisfied', 'satisfied', 'satisfied', ..., 'dissatisfied',\n",
              "       'dissatisfied', 'dissatisfied'], dtype=object)"
            ]
          },
          "metadata": {},
          "execution_count": 92
        }
      ]
    },
    {
      "cell_type": "code",
      "source": [
        "Outputvariable\n",
        "#Perform encoding for binary result with relationship. \n",
        "\n",
        "from sklearn.preprocessing import LabelEncoder #Imports to binary result relationsihp \n",
        "Encoder = LabelEncoder()\n",
        "Outputvariable = Encoder.fit_transform(Outputvariable) #trans"
      ],
      "metadata": {
        "id": "kmhuqgZaiDhl"
      },
      "execution_count": null,
      "outputs": []
    },
    {
      "cell_type": "code",
      "source": [
        " Outputvariable #Satisified = 1, dissatisified = 0 "
      ],
      "metadata": {
        "colab": {
          "base_uri": "https://localhost:8080/"
        },
        "id": "w-EJoQLoz1y0",
        "outputId": "2596f013-2e6a-4b28-aeac-70bd6717f9e0"
      },
      "execution_count": null,
      "outputs": [
        {
          "output_type": "execute_result",
          "data": {
            "text/plain": [
              "array([1, 1, 1, ..., 0, 0, 0])"
            ]
          },
          "metadata": {},
          "execution_count": 94
        }
      ]
    },
    {
      "cell_type": "code",
      "source": [
        "Inputvariable[:,0] = Encoder.fit_transform(Inputvariable[:,0])\n",
        "Inputvariable[:,0] #Male = 0, Female = 1 "
      ],
      "metadata": {
        "colab": {
          "base_uri": "https://localhost:8080/"
        },
        "id": "P6RINxbQ0sqX",
        "outputId": "00d7bfb8-04bf-48d8-e854-9fcc73563fdc"
      },
      "execution_count": null,
      "outputs": [
        {
          "output_type": "execute_result",
          "data": {
            "text/plain": [
              "array([0, 1, 0, ..., 1, 1, 0], dtype=object)"
            ]
          },
          "metadata": {},
          "execution_count": 95
        }
      ]
    },
    {
      "cell_type": "code",
      "source": [
        "Inputvariable[0,:]"
      ],
      "metadata": {
        "colab": {
          "base_uri": "https://localhost:8080/"
        },
        "id": "u-D2S-9t2cm3",
        "outputId": "529e9e50-f423-4513-b194-67561e514156"
      },
      "execution_count": null,
      "outputs": [
        {
          "output_type": "execute_result",
          "data": {
            "text/plain": [
              "array([0, 'Loyal Customer', 65, 'Personal Travel', 'Eco', 265],\n",
              "      dtype=object)"
            ]
          },
          "metadata": {},
          "execution_count": 96
        }
      ]
    },
    {
      "cell_type": "code",
      "source": [
        "Inputvariable[:,1] = Encoder.fit_transform(Inputvariable[:,1])\n",
        "Inputvariable[:,1]#Loyal customer  = 0 and disloyal customer = 1  \n",
        "\n"
      ],
      "metadata": {
        "colab": {
          "base_uri": "https://localhost:8080/"
        },
        "id": "wYcuAUvV2JNG",
        "outputId": "fce3ee24-4a3e-42b5-a043-f4755e3506bd"
      },
      "execution_count": null,
      "outputs": [
        {
          "output_type": "execute_result",
          "data": {
            "text/plain": [
              "array([0, 0, 0, ..., 1, 1, 1], dtype=object)"
            ]
          },
          "metadata": {},
          "execution_count": 97
        }
      ]
    },
    {
      "cell_type": "code",
      "source": [
        "Inputvariable[0,:] #Personal travel requires label encoding \n"
      ],
      "metadata": {
        "colab": {
          "base_uri": "https://localhost:8080/"
        },
        "id": "jvMWLLjB2bs4",
        "outputId": "5bb88740-7517-48ab-bfbd-f287d8037a9e"
      },
      "execution_count": null,
      "outputs": [
        {
          "output_type": "execute_result",
          "data": {
            "text/plain": [
              "array([0, 0, 65, 'Personal Travel', 'Eco', 265], dtype=object)"
            ]
          },
          "metadata": {},
          "execution_count": 98
        }
      ]
    },
    {
      "cell_type": "code",
      "source": [
        "Inputvariable[:,3] = Encoder.fit_transform(Inputvariable[:,3])\n",
        "Inputvariable[:,3] "
      ],
      "metadata": {
        "colab": {
          "base_uri": "https://localhost:8080/"
        },
        "id": "N62AXiB728hF",
        "outputId": "6293d6ee-94c2-49d1-c9af-5488506a5a83"
      },
      "execution_count": null,
      "outputs": [
        {
          "output_type": "execute_result",
          "data": {
            "text/plain": [
              "array([1, 1, 1, ..., 1, 1, 1], dtype=object)"
            ]
          },
          "metadata": {},
          "execution_count": 99
        }
      ]
    },
    {
      "cell_type": "code",
      "source": [
        "Inputvariable[0,:]"
      ],
      "metadata": {
        "colab": {
          "base_uri": "https://localhost:8080/"
        },
        "id": "XdzsduOU5vht",
        "outputId": "c97964ba-8a8d-4ca6-87df-dc51c5e525db"
      },
      "execution_count": null,
      "outputs": [
        {
          "output_type": "execute_result",
          "data": {
            "text/plain": [
              "array([0, 0, 65, 1, 'Eco', 265], dtype=object)"
            ]
          },
          "metadata": {},
          "execution_count": 100
        }
      ]
    },
    {
      "cell_type": "code",
      "source": [
        "Inputvariable[0,:]"
      ],
      "metadata": {
        "colab": {
          "base_uri": "https://localhost:8080/"
        },
        "id": "TZX8VfQpYC9w",
        "outputId": "1b0fe3d4-2bb2-48be-a601-25d8a5394177"
      },
      "execution_count": null,
      "outputs": [
        {
          "output_type": "execute_result",
          "data": {
            "text/plain": [
              "array([0, 0, 65, 1, 'Eco', 265], dtype=object)"
            ]
          },
          "metadata": {},
          "execution_count": 101
        }
      ]
    },
    {
      "cell_type": "code",
      "source": [
        "Inputvariable[1,:]"
      ],
      "metadata": {
        "colab": {
          "base_uri": "https://localhost:8080/"
        },
        "id": "pJzWOlEtdI2n",
        "outputId": "690acc3a-235d-4149-ef4d-35be453fa8a3"
      },
      "execution_count": null,
      "outputs": [
        {
          "output_type": "execute_result",
          "data": {
            "text/plain": [
              "array([1, 0, 47, 1, 'Business', 2464], dtype=object)"
            ]
          },
          "metadata": {},
          "execution_count": 102
        }
      ]
    },
    {
      "cell_type": "code",
      "source": [
        "from sklearn.compose import ColumnTransformer\n",
        "from sklearn.preprocessing import OneHotEncoder"
      ],
      "metadata": {
        "id": "fJwI49oaLkTe"
      },
      "execution_count": null,
      "outputs": []
    },
    {
      "cell_type": "code",
      "source": [
        "hotencoder= ColumnTransformer(transformers=[('encoder', OneHotEncoder(), [4])], remainder='passthrough')\n",
        "Inputvariable= np.array(hotencoder.fit_transform(Inputvariable))"
      ],
      "metadata": {
        "id": "lIRrnv3LL1-2"
      },
      "execution_count": null,
      "outputs": []
    },
    {
      "cell_type": "code",
      "source": [
        "Inputvariable[0,:]\n",
        "Inputvariable[1:]"
      ],
      "metadata": {
        "colab": {
          "base_uri": "https://localhost:8080/"
        },
        "id": "9YF3C1kc7YFU",
        "outputId": "38cb49e8-a933-4c3e-ef70-0ed746bb1f5f"
      },
      "execution_count": null,
      "outputs": [
        {
          "output_type": "execute_result",
          "data": {
            "text/plain": [
              "array([[1.0, 0.0, 0.0, ..., 47, 1, 2464],\n",
              "       [0.0, 1.0, 0.0, ..., 15, 1, 2138],\n",
              "       [0.0, 1.0, 0.0, ..., 60, 1, 623],\n",
              "       ...,\n",
              "       [0.0, 1.0, 0.0, ..., 69, 1, 2320],\n",
              "       [0.0, 1.0, 0.0, ..., 66, 1, 2450],\n",
              "       [0.0, 1.0, 0.0, ..., 38, 1, 4307]], dtype=object)"
            ]
          },
          "metadata": {},
          "execution_count": 105
        }
      ]
    },
    {
      "cell_type": "code",
      "source": [
        "#Make training and testing set. \n",
        "from sklearn.model_selection import train_test_split\n",
        "inputvariable_train, inputvariable_test, outputvariable_train, outputvariable_test = train_test_split(Inputvariable, Outputvariable, test_size = 0.3, random_state = 0)"
      ],
      "metadata": {
        "id": "T1mqPLm6eJWV"
      },
      "execution_count": null,
      "outputs": []
    },
    {
      "cell_type": "code",
      "source": [
        "#Make features scaling for ML inputs. \n",
        "from sklearn.preprocessing import StandardScaler\n",
        "Standardscaler = StandardScaler()\n",
        "inputvariable_train = Standardscaler.fit_transform(inputvariable_train) #Applies features scaling for both train and test set to avoid information leakage. \n",
        "inputvariable_test = Standardscaler.transform(inputvariable_test) "
      ],
      "metadata": {
        "id": "qEo8qwn_eK9k"
      },
      "execution_count": null,
      "outputs": []
    },
    {
      "cell_type": "code",
      "source": [
        "inputvariable_test  "
      ],
      "metadata": {
        "colab": {
          "base_uri": "https://localhost:8080/"
        },
        "id": "gR_UEUAj_KVR",
        "outputId": "cef7bd42-b9e3-4dd1-9be7-a73d3deb550f"
      },
      "execution_count": null,
      "outputs": [
        {
          "output_type": "execute_result",
          "data": {
            "text/plain": [
              "array([[-0.95526504, -0.90563601,  3.58302271, ...,  0.69930262,\n",
              "        -0.67155633, -0.74517665],\n",
              "       [ 1.0468299 , -0.90563601, -0.27909396, ...,  0.69930262,\n",
              "        -0.67155633, -1.08459749],\n",
              "       [ 1.0468299 , -0.90563601, -0.27909396, ..., -0.15980411,\n",
              "        -0.67155633, -0.62325825],\n",
              "       ...,\n",
              "       [-0.95526504,  1.10419638, -0.27909396, ..., -1.81193243,\n",
              "         1.48907837, -0.26725651],\n",
              "       [-0.95526504, -0.90563601,  3.58302271, ...,  0.63321748,\n",
              "         1.48907837, -0.38624887],\n",
              "       [-0.95526504,  1.10419638, -0.27909396, ..., -0.02763384,\n",
              "         1.48907837,  0.57739421]])"
            ]
          },
          "metadata": {},
          "execution_count": 108
        }
      ]
    },
    {
      "cell_type": "code",
      "source": [
        "#we are using ANN based on fully connected network, not a computational network. So we use squential classA\n",
        "ArtificalNeuralNetworkfullyconnected= tf.keras.models.Sequential()\n"
      ],
      "metadata": {
        "id": "sJJeIkuakLQJ"
      },
      "execution_count": null,
      "outputs": []
    },
    {
      "cell_type": "code",
      "source": [
        "#created as an instance of sequential class which initializes ANN as sequence of layers. \n",
        "#Dense class in tensorflow\n",
        "\n",
        "#These are two hidden layers. \n",
        "ArtificalNeuralNetworkfullyconnected.add(tf.keras.layers.Dense(6, activation = 'relu'))\n",
        "#call method inside sequential class. \n",
        "#created as an object of a dense class. So call the dense class. So\n",
        "#we call the denser class from tensorflow keras library\n",
        "#input neurons already have the #of hidden neurans. So this is for hidden layers for units for dense class. \n",
        "#And we use 6-8. \n",
        "#and module layers\n",
        "ArtificalNeuralNetworkfullyconnected.add(tf.keras.layers.Dense(6, activation = 'relu'))\n"
      ],
      "metadata": {
        "id": "4R7cEfwmkLUz"
      },
      "execution_count": null,
      "outputs": []
    },
    {
      "cell_type": "code",
      "source": [
        "#Now we have the output layer. \n",
        "ArtificalNeuralNetworkfullyconnected.add(tf.keras.layers.Dense(1, activation = 'sigmoid'))\n",
        "\n",
        "#Output is a binary that takes 0 or 1 which is one neuron to get the final predictions. \n",
        "#if non binary that has 3 outputs of A B C, then we need 3 dimensions. \n",
        "# A = [1,0,0], B = [0,1,1], C=[0,0,1]\n",
        "#sigmoid allows to get probability of binary outcome to find the probability that customer will make\n",
        "#either satisified or not satisified. \n"
      ],
      "metadata": {
        "id": "rFYSLK_CrPbG"
      },
      "execution_count": null,
      "outputs": []
    },
    {
      "cell_type": "code",
      "source": [
        "ArtificalNeuralNetworkfullyconnected.compile(      \n",
        "optimizer = 'adam', loss = 'binary_crossentropy', metrics = ['accuracy'])\n"
      ],
      "metadata": {
        "id": "XAJK7KBrsEeA"
      },
      "execution_count": null,
      "outputs": []
    },
    {
      "cell_type": "code",
      "source": [
        "inputvariable_train\n"
      ],
      "metadata": {
        "colab": {
          "base_uri": "https://localhost:8080/"
        },
        "id": "VPK9bsYd7kAi",
        "outputId": "0d16a64c-faed-4a94-8856-3d4bf8640ee8"
      },
      "execution_count": null,
      "outputs": [
        {
          "output_type": "execute_result",
          "data": {
            "text/plain": [
              "array([[-0.95526504, -0.90563601,  3.58302271, ..., -0.88674057,\n",
              "         1.48907837, -0.38722422],\n",
              "       [ 1.0468299 , -0.90563601, -0.27909396, ...,  0.43496209,\n",
              "        -0.67155633,  1.62686784],\n",
              "       [ 1.0468299 , -0.90563601, -0.27909396, ...,  0.43496209,\n",
              "        -0.67155633,  1.94678173],\n",
              "       ...,\n",
              "       [-0.95526504,  1.10419638, -0.27909396, ...,  0.50104722,\n",
              "        -0.67155633,  0.11312892],\n",
              "       [-0.95526504,  1.10419638, -0.27909396, ..., -0.09371898,\n",
              "        -0.67155633,  0.1375126 ],\n",
              "       [ 1.0468299 , -0.90563601, -0.27909396, ..., -1.01891083,\n",
              "        -0.67155633,  3.13085329]])"
            ]
          },
          "metadata": {},
          "execution_count": 113
        }
      ]
    },
    {
      "cell_type": "code",
      "source": [
        "outputvariable_train"
      ],
      "metadata": {
        "colab": {
          "base_uri": "https://localhost:8080/"
        },
        "id": "yk4ZNXFA8tK-",
        "outputId": "b71ef588-5610-41aa-e977-c4babc4c9848"
      },
      "execution_count": null,
      "outputs": [
        {
          "output_type": "execute_result",
          "data": {
            "text/plain": [
              "array([1, 0, 1, ..., 0, 0, 0])"
            ]
          },
          "metadata": {},
          "execution_count": 114
        }
      ]
    },
    {
      "cell_type": "code",
      "source": [
        "ArtificalNeuralNetworkfullyconnected.fit(inputvariable_train, outputvariable_train, batch_size = 30, epochs = 100) "
      ],
      "metadata": {
        "colab": {
          "base_uri": "https://localhost:8080/"
        },
        "id": "EZ5xDPAWtkmF",
        "outputId": "6635ee37-203f-4e9c-f251-e1d69ab67302"
      },
      "execution_count": null,
      "outputs": [
        {
          "output_type": "stream",
          "name": "stdout",
          "text": [
            "Epoch 1/100\n",
            "3031/3031 [==============================] - 6s 2ms/step - loss: 0.5162 - accuracy: 0.7601\n",
            "Epoch 2/100\n",
            "3031/3031 [==============================] - 5s 2ms/step - loss: 0.4866 - accuracy: 0.7816\n",
            "Epoch 3/100\n",
            "3031/3031 [==============================] - 5s 2ms/step - loss: 0.4856 - accuracy: 0.7826\n",
            "Epoch 4/100\n",
            "3031/3031 [==============================] - 5s 2ms/step - loss: 0.4853 - accuracy: 0.7826\n",
            "Epoch 5/100\n",
            "3031/3031 [==============================] - 5s 2ms/step - loss: 0.4850 - accuracy: 0.7834\n",
            "Epoch 6/100\n",
            "3031/3031 [==============================] - 5s 2ms/step - loss: 0.4849 - accuracy: 0.7826\n",
            "Epoch 7/100\n",
            "3031/3031 [==============================] - 5s 2ms/step - loss: 0.4846 - accuracy: 0.7838\n",
            "Epoch 8/100\n",
            "3031/3031 [==============================] - 5s 2ms/step - loss: 0.4844 - accuracy: 0.7830\n",
            "Epoch 9/100\n",
            "3031/3031 [==============================] - 5s 2ms/step - loss: 0.4842 - accuracy: 0.7828\n",
            "Epoch 10/100\n",
            "3031/3031 [==============================] - 5s 2ms/step - loss: 0.4837 - accuracy: 0.7835\n",
            "Epoch 11/100\n",
            "3031/3031 [==============================] - 5s 2ms/step - loss: 0.4834 - accuracy: 0.7837\n",
            "Epoch 12/100\n",
            "3031/3031 [==============================] - 5s 2ms/step - loss: 0.4828 - accuracy: 0.7838\n",
            "Epoch 13/100\n",
            "3031/3031 [==============================] - 5s 2ms/step - loss: 0.4820 - accuracy: 0.7844\n",
            "Epoch 14/100\n",
            "3031/3031 [==============================] - 5s 2ms/step - loss: 0.4815 - accuracy: 0.7838\n",
            "Epoch 15/100\n",
            "3031/3031 [==============================] - 5s 2ms/step - loss: 0.4810 - accuracy: 0.7839\n",
            "Epoch 16/100\n",
            "3031/3031 [==============================] - 5s 2ms/step - loss: 0.4805 - accuracy: 0.7847\n",
            "Epoch 17/100\n",
            "3031/3031 [==============================] - 5s 2ms/step - loss: 0.4799 - accuracy: 0.7847\n",
            "Epoch 18/100\n",
            "3031/3031 [==============================] - 5s 2ms/step - loss: 0.4796 - accuracy: 0.7844\n",
            "Epoch 19/100\n",
            "3031/3031 [==============================] - 5s 2ms/step - loss: 0.4794 - accuracy: 0.7860\n",
            "Epoch 20/100\n",
            "3031/3031 [==============================] - 5s 2ms/step - loss: 0.4791 - accuracy: 0.7857\n",
            "Epoch 21/100\n",
            "3031/3031 [==============================] - 5s 2ms/step - loss: 0.4789 - accuracy: 0.7858\n",
            "Epoch 22/100\n",
            "3031/3031 [==============================] - 5s 2ms/step - loss: 0.4786 - accuracy: 0.7856\n",
            "Epoch 23/100\n",
            "3031/3031 [==============================] - 5s 2ms/step - loss: 0.4784 - accuracy: 0.7860\n",
            "Epoch 24/100\n",
            "3031/3031 [==============================] - 5s 2ms/step - loss: 0.4781 - accuracy: 0.7860\n",
            "Epoch 25/100\n",
            "3031/3031 [==============================] - 5s 2ms/step - loss: 0.4779 - accuracy: 0.7858\n",
            "Epoch 26/100\n",
            "3031/3031 [==============================] - 5s 2ms/step - loss: 0.4779 - accuracy: 0.7862\n",
            "Epoch 27/100\n",
            "3031/3031 [==============================] - 5s 2ms/step - loss: 0.4779 - accuracy: 0.7861\n",
            "Epoch 28/100\n",
            "3031/3031 [==============================] - 5s 2ms/step - loss: 0.4777 - accuracy: 0.7868\n",
            "Epoch 29/100\n",
            "3031/3031 [==============================] - 5s 2ms/step - loss: 0.4778 - accuracy: 0.7866\n",
            "Epoch 30/100\n",
            "3031/3031 [==============================] - 5s 2ms/step - loss: 0.4776 - accuracy: 0.7864\n",
            "Epoch 31/100\n",
            "3031/3031 [==============================] - 5s 2ms/step - loss: 0.4774 - accuracy: 0.7871\n",
            "Epoch 32/100\n",
            "3031/3031 [==============================] - 5s 2ms/step - loss: 0.4774 - accuracy: 0.7863\n",
            "Epoch 33/100\n",
            "3031/3031 [==============================] - 5s 2ms/step - loss: 0.4775 - accuracy: 0.7861\n",
            "Epoch 34/100\n",
            "3031/3031 [==============================] - 5s 2ms/step - loss: 0.4774 - accuracy: 0.7865\n",
            "Epoch 35/100\n",
            "3031/3031 [==============================] - 5s 2ms/step - loss: 0.4773 - accuracy: 0.7861\n",
            "Epoch 36/100\n",
            "3031/3031 [==============================] - 5s 2ms/step - loss: 0.4773 - accuracy: 0.7861\n",
            "Epoch 37/100\n",
            "3031/3031 [==============================] - 5s 2ms/step - loss: 0.4770 - accuracy: 0.7872\n",
            "Epoch 38/100\n",
            "3031/3031 [==============================] - 5s 2ms/step - loss: 0.4771 - accuracy: 0.7868\n",
            "Epoch 39/100\n",
            "3031/3031 [==============================] - 5s 2ms/step - loss: 0.4770 - accuracy: 0.7865\n",
            "Epoch 40/100\n",
            "3031/3031 [==============================] - 5s 2ms/step - loss: 0.4772 - accuracy: 0.7866\n",
            "Epoch 41/100\n",
            "3031/3031 [==============================] - 5s 2ms/step - loss: 0.4770 - accuracy: 0.7869\n",
            "Epoch 42/100\n",
            "3031/3031 [==============================] - 5s 2ms/step - loss: 0.4771 - accuracy: 0.7866\n",
            "Epoch 43/100\n",
            "3031/3031 [==============================] - 5s 2ms/step - loss: 0.4768 - accuracy: 0.7872\n",
            "Epoch 44/100\n",
            "3031/3031 [==============================] - 5s 2ms/step - loss: 0.4769 - accuracy: 0.7864\n",
            "Epoch 45/100\n",
            "3031/3031 [==============================] - 5s 2ms/step - loss: 0.4770 - accuracy: 0.7866\n",
            "Epoch 46/100\n",
            "3031/3031 [==============================] - 5s 2ms/step - loss: 0.4768 - accuracy: 0.7867\n",
            "Epoch 47/100\n",
            "3031/3031 [==============================] - 5s 2ms/step - loss: 0.4770 - accuracy: 0.7864\n",
            "Epoch 48/100\n",
            "3031/3031 [==============================] - 5s 2ms/step - loss: 0.4768 - accuracy: 0.7868\n",
            "Epoch 49/100\n",
            "3031/3031 [==============================] - 5s 2ms/step - loss: 0.4768 - accuracy: 0.7864\n",
            "Epoch 50/100\n",
            "3031/3031 [==============================] - 5s 2ms/step - loss: 0.4768 - accuracy: 0.7867\n",
            "Epoch 51/100\n",
            "3031/3031 [==============================] - 5s 2ms/step - loss: 0.4766 - accuracy: 0.7868\n",
            "Epoch 52/100\n",
            "3031/3031 [==============================] - 5s 2ms/step - loss: 0.4768 - accuracy: 0.7862\n",
            "Epoch 53/100\n",
            "3031/3031 [==============================] - 5s 2ms/step - loss: 0.4767 - accuracy: 0.7869\n",
            "Epoch 54/100\n",
            "3031/3031 [==============================] - 6s 2ms/step - loss: 0.4767 - accuracy: 0.7869\n",
            "Epoch 55/100\n",
            "3031/3031 [==============================] - 5s 2ms/step - loss: 0.4766 - accuracy: 0.7871\n",
            "Epoch 56/100\n",
            "3031/3031 [==============================] - 5s 2ms/step - loss: 0.4767 - accuracy: 0.7869\n",
            "Epoch 57/100\n",
            "3031/3031 [==============================] - 5s 2ms/step - loss: 0.4766 - accuracy: 0.7864\n",
            "Epoch 58/100\n",
            "3031/3031 [==============================] - 6s 2ms/step - loss: 0.4765 - accuracy: 0.7867\n",
            "Epoch 59/100\n",
            "3031/3031 [==============================] - 5s 2ms/step - loss: 0.4766 - accuracy: 0.7872\n",
            "Epoch 60/100\n",
            "3031/3031 [==============================] - 6s 2ms/step - loss: 0.4768 - accuracy: 0.7870\n",
            "Epoch 61/100\n",
            "3031/3031 [==============================] - 5s 2ms/step - loss: 0.4765 - accuracy: 0.7864\n",
            "Epoch 62/100\n",
            "3031/3031 [==============================] - 5s 2ms/step - loss: 0.4766 - accuracy: 0.7865\n",
            "Epoch 63/100\n",
            "3031/3031 [==============================] - 6s 2ms/step - loss: 0.4764 - accuracy: 0.7870\n",
            "Epoch 64/100\n",
            "3031/3031 [==============================] - 5s 2ms/step - loss: 0.4765 - accuracy: 0.7872\n",
            "Epoch 65/100\n",
            "3031/3031 [==============================] - 5s 2ms/step - loss: 0.4767 - accuracy: 0.7866\n",
            "Epoch 66/100\n",
            "3031/3031 [==============================] - 5s 2ms/step - loss: 0.4765 - accuracy: 0.7871\n",
            "Epoch 67/100\n",
            "3031/3031 [==============================] - 5s 2ms/step - loss: 0.4763 - accuracy: 0.7868\n",
            "Epoch 68/100\n",
            "3031/3031 [==============================] - 5s 2ms/step - loss: 0.4763 - accuracy: 0.7868\n",
            "Epoch 69/100\n",
            "3031/3031 [==============================] - 5s 2ms/step - loss: 0.4765 - accuracy: 0.7863\n",
            "Epoch 70/100\n",
            "3031/3031 [==============================] - 5s 2ms/step - loss: 0.4766 - accuracy: 0.7865\n",
            "Epoch 71/100\n",
            "3031/3031 [==============================] - 5s 2ms/step - loss: 0.4763 - accuracy: 0.7872\n",
            "Epoch 72/100\n",
            "3031/3031 [==============================] - 5s 2ms/step - loss: 0.4763 - accuracy: 0.7866\n",
            "Epoch 73/100\n",
            "3031/3031 [==============================] - 5s 2ms/step - loss: 0.4764 - accuracy: 0.7867\n",
            "Epoch 74/100\n",
            "3031/3031 [==============================] - 5s 2ms/step - loss: 0.4765 - accuracy: 0.7864\n",
            "Epoch 75/100\n",
            "3031/3031 [==============================] - 5s 2ms/step - loss: 0.4764 - accuracy: 0.7866\n",
            "Epoch 76/100\n",
            "3031/3031 [==============================] - 5s 2ms/step - loss: 0.4764 - accuracy: 0.7865\n",
            "Epoch 77/100\n",
            "3031/3031 [==============================] - 5s 2ms/step - loss: 0.4765 - accuracy: 0.7868\n",
            "Epoch 78/100\n",
            "3031/3031 [==============================] - 6s 2ms/step - loss: 0.4764 - accuracy: 0.7868\n",
            "Epoch 79/100\n",
            "3031/3031 [==============================] - 5s 2ms/step - loss: 0.4764 - accuracy: 0.7872\n",
            "Epoch 80/100\n",
            "3031/3031 [==============================] - 5s 2ms/step - loss: 0.4763 - accuracy: 0.7868\n",
            "Epoch 81/100\n",
            "3031/3031 [==============================] - 5s 2ms/step - loss: 0.4764 - accuracy: 0.7875\n",
            "Epoch 82/100\n",
            "3031/3031 [==============================] - 5s 2ms/step - loss: 0.4762 - accuracy: 0.7875\n",
            "Epoch 83/100\n",
            "3031/3031 [==============================] - 5s 2ms/step - loss: 0.4763 - accuracy: 0.7874\n",
            "Epoch 84/100\n",
            "3031/3031 [==============================] - 5s 2ms/step - loss: 0.4763 - accuracy: 0.7879\n",
            "Epoch 85/100\n",
            "3031/3031 [==============================] - 5s 2ms/step - loss: 0.4763 - accuracy: 0.7871\n",
            "Epoch 86/100\n",
            "3031/3031 [==============================] - 5s 2ms/step - loss: 0.4762 - accuracy: 0.7871\n",
            "Epoch 87/100\n",
            "3031/3031 [==============================] - 5s 2ms/step - loss: 0.4763 - accuracy: 0.7871\n",
            "Epoch 88/100\n",
            "3031/3031 [==============================] - 5s 2ms/step - loss: 0.4762 - accuracy: 0.7867\n",
            "Epoch 89/100\n",
            "3031/3031 [==============================] - 5s 2ms/step - loss: 0.4762 - accuracy: 0.7869\n",
            "Epoch 90/100\n",
            "3031/3031 [==============================] - 5s 2ms/step - loss: 0.4762 - accuracy: 0.7872\n",
            "Epoch 91/100\n",
            "3031/3031 [==============================] - 5s 2ms/step - loss: 0.4761 - accuracy: 0.7874\n",
            "Epoch 92/100\n",
            "3031/3031 [==============================] - 5s 2ms/step - loss: 0.4761 - accuracy: 0.7878\n",
            "Epoch 93/100\n",
            "3031/3031 [==============================] - 5s 2ms/step - loss: 0.4759 - accuracy: 0.7870\n",
            "Epoch 94/100\n",
            "3031/3031 [==============================] - 5s 2ms/step - loss: 0.4761 - accuracy: 0.7871\n",
            "Epoch 95/100\n",
            "3031/3031 [==============================] - 6s 2ms/step - loss: 0.4760 - accuracy: 0.7872\n",
            "Epoch 96/100\n",
            "3031/3031 [==============================] - 6s 2ms/step - loss: 0.4761 - accuracy: 0.7874\n",
            "Epoch 97/100\n",
            "3031/3031 [==============================] - 6s 2ms/step - loss: 0.4762 - accuracy: 0.7873\n",
            "Epoch 98/100\n",
            "3031/3031 [==============================] - 6s 2ms/step - loss: 0.4761 - accuracy: 0.7874\n",
            "Epoch 99/100\n",
            "3031/3031 [==============================] - 6s 2ms/step - loss: 0.4760 - accuracy: 0.7872\n",
            "Epoch 100/100\n",
            "3031/3031 [==============================] - 5s 2ms/step - loss: 0.4759 - accuracy: 0.7879\n"
          ]
        },
        {
          "output_type": "execute_result",
          "data": {
            "text/plain": [
              "<keras.callbacks.History at 0x7f8a63955bd0>"
            ]
          },
          "metadata": {},
          "execution_count": 115
        }
      ]
    },
    {
      "cell_type": "code",
      "source": [
        "makeprediction =ArtificalNeuralNetworkfullyconnected.predict(inputvariable_test)"
      ],
      "metadata": {
        "id": "ctTavKXJ7VmF"
      },
      "execution_count": null,
      "outputs": []
    },
    {
      "cell_type": "code",
      "source": [
        "makeprediction>0.5 "
      ],
      "metadata": {
        "colab": {
          "base_uri": "https://localhost:8080/"
        },
        "id": "wQN8W0MA7YFu",
        "outputId": "720731a3-b31d-41e3-848b-c4c274e8522d"
      },
      "execution_count": null,
      "outputs": [
        {
          "output_type": "execute_result",
          "data": {
            "text/plain": [
              "array([[ True],\n",
              "       [False],\n",
              "       [ True],\n",
              "       ...,\n",
              "       [ True],\n",
              "       [ True],\n",
              "       [ True]])"
            ]
          },
          "metadata": {},
          "execution_count": 79
        }
      ]
    },
    {
      "cell_type": "code",
      "source": [
        ""
      ],
      "metadata": {
        "id": "OP4CsGQO1CLZ"
      },
      "execution_count": null,
      "outputs": []
    }
  ]
}