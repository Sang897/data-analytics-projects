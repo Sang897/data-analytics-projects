{
  "nbformat": 4,
  "nbformat_minor": 0,
  "metadata": {
    "colab": {
      "name": "PredictingusingAirlinedata.ipynb",
      "provenance": [],
      "collapsed_sections": [],
      "authorship_tag": "ABX9TyOhPcxUto8K12/suuoMcNLj",
      "include_colab_link": true
    },
    "kernelspec": {
      "name": "python3",
      "display_name": "Python 3"
    },
    "language_info": {
      "name": "python"
    }
  },
  "cells": [
    {
      "cell_type": "markdown",
      "metadata": {
        "id": "view-in-github",
        "colab_type": "text"
      },
      "source": [
        "<a href=\"https://colab.research.google.com/github/Sang897/data-analytics-projects/blob/master/PredictingusingAirlinedata.ipynb\" target=\"_parent\"><img src=\"https://colab.research.google.com/assets/colab-badge.svg\" alt=\"Open In Colab\"/></a>"
      ]
    },
    {
      "cell_type": "code",
      "execution_count": null,
      "metadata": {
        "id": "8IrpMWYN7TF0"
      },
      "outputs": [],
      "source": [
        "import numpy as np\n",
        "import pandas as pd\n",
        "import tensorflow as tf"
      ]
    },
    {
      "cell_type": "code",
      "source": [
        "#The following data is based on customer service data of Airline \n",
        "dataset = pd.read_csv('Customer Service Network.csv')"
      ],
      "metadata": {
        "id": "q4DedeUv7cze"
      },
      "execution_count": null,
      "outputs": []
    },
    {
      "cell_type": "code",
      "source": [
        "#Plan: Gender needs categorical encoding\n",
        "#Some of the require \"label encoding\" ex) gender \n",
        "#Some of them require \"One hot encoding\" ex) geogrpahy"
      ],
      "metadata": {
        "id": "S18qCBEW7u4p"
      },
      "execution_count": null,
      "outputs": []
    },
    {
      "cell_type": "code",
      "source": [
        "#What are the features that are valuable? \n",
        "#Gender, Customer Type, Age, Type of Travel, Class, Flight Distance, Inflight wifi service, Inflight Entertainment, On-board Service, \n",
        "#Baggage Handling, Checking Service, Cleainess, Deparatu  re delay in minutes, arrival delay in minutes \n",
        "\n",
        "#Which column should be used as an output? \n",
        "#Satisfaction column \n",
        "\n",
        "for col in dataset.columns:\n",
        "  print(col)\n",
        "\n",
        "#Is the result different if an array and a dataframe? \n",
        "#Tried using \n",
        "#numpy.ndarray but dataframe is the one that works? \n",
        "\n",
        "#Try using both dataframe and numpy.array version "
      ],
      "metadata": {
        "colab": {
          "base_uri": "https://localhost:8080/"
        },
        "id": "E0-uq1ro9Kja",
        "outputId": "43d8e494-9faa-40db-94be-e2c0d21eca6e"
      },
      "execution_count": null,
      "outputs": [
        {
          "output_type": "stream",
          "name": "stdout",
          "text": [
            "satisfaction\n",
            "Gender\n",
            "Customer Type\n",
            "Age\n",
            "Type of Travel\n",
            "Class\n",
            "Flight Distance\n",
            "Seat comfort\n",
            "Departure/Arrival time convenient\n",
            "Food and drink\n",
            "Gate location\n",
            "Inflight wifi service\n",
            "Inflight entertainment\n",
            "Online support\n",
            "Ease of Online booking\n",
            "On-board service\n",
            "Leg room service\n",
            "Baggage handling\n",
            "Checkin service\n",
            "Cleanliness\n",
            "Online boarding\n",
            "Departure Delay in Minutes\n",
            "Arrival Delay in Minutes\n"
          ]
        }
      ]
    },
    {
      "cell_type": "code",
      "source": [
        "dataset.dtypes"
      ],
      "metadata": {
        "colab": {
          "base_uri": "https://localhost:8080/"
        },
        "id": "Xax1iFmXL35Y",
        "outputId": "c76ec297-308b-4a45-e126-40c54ff802b1"
      },
      "execution_count": null,
      "outputs": [
        {
          "output_type": "execute_result",
          "data": {
            "text/plain": [
              "satisfaction                          object\n",
              "Gender                                object\n",
              "Customer Type                         object\n",
              "Age                                    int64\n",
              "Type of Travel                        object\n",
              "Class                                 object\n",
              "Flight Distance                        int64\n",
              "Seat comfort                           int64\n",
              "Departure/Arrival time convenient      int64\n",
              "Food and drink                         int64\n",
              "Gate location                          int64\n",
              "Inflight wifi service                  int64\n",
              "Inflight entertainment                 int64\n",
              "Online support                         int64\n",
              "Ease of Online booking                 int64\n",
              "On-board service                       int64\n",
              "Leg room service                       int64\n",
              "Baggage handling                       int64\n",
              "Checkin service                        int64\n",
              "Cleanliness                            int64\n",
              "Online boarding                        int64\n",
              "Departure Delay in Minutes             int64\n",
              "Arrival Delay in Minutes             float64\n",
              "dtype: object"
            ]
          },
          "metadata": {},
          "execution_count": 302
        }
      ]
    },
    {
      "cell_type": "code",
      "source": [
        "dataset.columns"
      ],
      "metadata": {
        "colab": {
          "base_uri": "https://localhost:8080/"
        },
        "id": "qA1OSg1-aEe0",
        "outputId": "dd9edf66-fb96-4ac6-c454-f9572b7111f5"
      },
      "execution_count": null,
      "outputs": [
        {
          "output_type": "execute_result",
          "data": {
            "text/plain": [
              "Index(['satisfaction', 'Gender', 'Customer Type', 'Age', 'Type of Travel',\n",
              "       'Class', 'Flight Distance', 'Seat comfort',\n",
              "       'Departure/Arrival time convenient', 'Food and drink', 'Gate location',\n",
              "       'Inflight wifi service', 'Inflight entertainment', 'Online support',\n",
              "       'Ease of Online booking', 'On-board service', 'Leg room service',\n",
              "       'Baggage handling', 'Checkin service', 'Cleanliness', 'Online boarding',\n",
              "       'Departure Delay in Minutes', 'Arrival Delay in Minutes'],\n",
              "      dtype='object')"
            ]
          },
          "metadata": {},
          "execution_count": 303
        }
      ]
    },
    {
      "cell_type": "code",
      "source": [
        "Inputvariable = dataset.iloc[:,[1,2,3,4,5,6,11,12,15,17,18,19,-2,-1]].values"
      ],
      "metadata": {
        "id": "rXHxEqcXME4M"
      },
      "execution_count": null,
      "outputs": []
    },
    {
      "cell_type": "code",
      "source": [
        "print(Inputvariable)"
      ],
      "metadata": {
        "colab": {
          "base_uri": "https://localhost:8080/"
        },
        "id": "oE4BbkAXCUB4",
        "outputId": "d38a560b-1cac-4ca3-cd90-73e1b5c1cc3d"
      },
      "execution_count": null,
      "outputs": [
        {
          "output_type": "stream",
          "name": "stdout",
          "text": [
            "[['Female' 'Loyal Customer' 65 ... 3 0 0.0]\n",
            " ['Male' 'Loyal Customer' 47 ... 3 310 305.0]\n",
            " ['Female' 'Loyal Customer' 15 ... 4 0 0.0]\n",
            " ...\n",
            " ['Male' 'disloyal Customer' 69 ... 3 155 163.0]\n",
            " ['Male' 'disloyal Customer' 66 ... 1 193 205.0]\n",
            " ['Female' 'disloyal Customer' 38 ... 3 185 186.0]]\n"
          ]
        }
      ]
    },
    {
      "cell_type": "code",
      "source": [
        "Inputvariable.columns"
      ],
      "metadata": {
        "colab": {
          "base_uri": "https://localhost:8080/",
          "height": 170
        },
        "id": "06LTqWhjARgG",
        "outputId": "970f8203-3339-48ac-ef49-efc11575d05b"
      },
      "execution_count": null,
      "outputs": [
        {
          "output_type": "error",
          "ename": "AttributeError",
          "evalue": "ignored",
          "traceback": [
            "\u001b[0;31m---------------------------------------------------------------------------\u001b[0m",
            "\u001b[0;31mAttributeError\u001b[0m                            Traceback (most recent call last)",
            "\u001b[0;32m<ipython-input-350-27240c57e37b>\u001b[0m in \u001b[0;36m<module>\u001b[0;34m()\u001b[0m\n\u001b[0;32m----> 1\u001b[0;31m \u001b[0mInputvariable\u001b[0m\u001b[0;34m.\u001b[0m\u001b[0mcolumns\u001b[0m\u001b[0;34m\u001b[0m\u001b[0;34m\u001b[0m\u001b[0m\n\u001b[0m",
            "\u001b[0;31mAttributeError\u001b[0m: 'numpy.ndarray' object has no attribute 'columns'"
          ]
        }
      ]
    },
    {
      "cell_type": "code",
      "source": [
        "#Check: Gender, Customer Type, Age, Type of Travel, Class, Flight Distance, Inflight wifi service, Inflight Entertainment, On-board Service, \n",
        "#Baggage Handling, Checking Service, Cleainess, Deparature delay in minutes, arrival delay in minutes \n",
        "Inputvariable[1,:] #Compared with excel file and these are all correct. \n",
        "#For the inputs, Male or female requires label encoding, Loyal Customer requires label encoding, Personal Travel requires label encoding, and buissness requires hot encodin. \n"
      ],
      "metadata": {
        "colab": {
          "base_uri": "https://localhost:8080/"
        },
        "id": "YpIp9f7SfFAY",
        "outputId": "651bb455-6570-4888-d610-c3a3d9d27ca0"
      },
      "execution_count": null,
      "outputs": [
        {
          "output_type": "execute_result",
          "data": {
            "text/plain": [
              "array(['Male', 'Loyal Customer', 47, 'Personal Travel', 'Business', 2464,\n",
              "       0, 2, 4, 4, 2, 3, 310, 305.0], dtype=object)"
            ]
          },
          "metadata": {},
          "execution_count": 351
        }
      ]
    },
    {
      "cell_type": "code",
      "source": [
        "Outputvariable =dataset.iloc[:,0].values "
      ],
      "metadata": {
        "id": "2geqk6pch6YH"
      },
      "execution_count": null,
      "outputs": []
    },
    {
      "cell_type": "code",
      "source": [
        "Outputvariable"
      ],
      "metadata": {
        "colab": {
          "base_uri": "https://localhost:8080/"
        },
        "id": "f0EHa2GizygW",
        "outputId": "ed04d129-2366-46fc-bc6b-5a8bf6fa85a1"
      },
      "execution_count": null,
      "outputs": [
        {
          "output_type": "execute_result",
          "data": {
            "text/plain": [
              "array(['satisfied', 'satisfied', 'satisfied', ..., 'dissatisfied',\n",
              "       'dissatisfied', 'dissatisfied'], dtype=object)"
            ]
          },
          "metadata": {},
          "execution_count": 353
        }
      ]
    },
    {
      "cell_type": "code",
      "source": [
        "Outputvariable\n",
        "#Perform encoding for binary result with relationship. \n",
        "\n",
        "from sklearn.preprocessing import LabelEncoder #Imports to binary result relationsihp \n",
        "Encoder = LabelEncoder()\n",
        "Outputvariable = Encoder.fit_transform(Outputvariable) #trans"
      ],
      "metadata": {
        "id": "kmhuqgZaiDhl"
      },
      "execution_count": null,
      "outputs": []
    },
    {
      "cell_type": "code",
      "source": [
        " Outputvariable #Satisified = 1, dissatisified = 0 "
      ],
      "metadata": {
        "colab": {
          "base_uri": "https://localhost:8080/"
        },
        "id": "w-EJoQLoz1y0",
        "outputId": "35bdb661-0f2f-47fc-ec25-7aacdeba2aa4"
      },
      "execution_count": null,
      "outputs": [
        {
          "output_type": "execute_result",
          "data": {
            "text/plain": [
              "array([1, 1, 1, ..., 0, 0, 0])"
            ]
          },
          "metadata": {},
          "execution_count": 355
        }
      ]
    },
    {
      "cell_type": "code",
      "source": [
        "Inputvariable[:,0] = Encoder.fit_transform(Inputvariable[:,0])\n",
        "Inputvariable[:,0] #Male = 0, Female = 1 "
      ],
      "metadata": {
        "colab": {
          "base_uri": "https://localhost:8080/"
        },
        "id": "P6RINxbQ0sqX",
        "outputId": "4ba619a8-edd3-4dd0-8d18-587d7314e13d"
      },
      "execution_count": null,
      "outputs": [
        {
          "output_type": "execute_result",
          "data": {
            "text/plain": [
              "array([0, 1, 0, ..., 1, 1, 0], dtype=object)"
            ]
          },
          "metadata": {},
          "execution_count": 356
        }
      ]
    },
    {
      "cell_type": "code",
      "source": [
        "Inputvariable[0,:]"
      ],
      "metadata": {
        "colab": {
          "base_uri": "https://localhost:8080/"
        },
        "id": "u-D2S-9t2cm3",
        "outputId": "76179823-3e64-452c-e1bb-7159e3736d30"
      },
      "execution_count": null,
      "outputs": [
        {
          "output_type": "execute_result",
          "data": {
            "text/plain": [
              "array([0, 'Loyal Customer', 65, 'Personal Travel', 'Eco', 265, 2, 4, 3, 3,\n",
              "       5, 3, 0, 0.0], dtype=object)"
            ]
          },
          "metadata": {},
          "execution_count": 357
        }
      ]
    },
    {
      "cell_type": "code",
      "source": [
        "Inputvariable[:,1] = Encoder.fit_transform(Inputvariable[:,1])\n",
        "Inputvariable[:,1]#Loyal customer  = 0 and disloyal customer = 1 "
      ],
      "metadata": {
        "colab": {
          "base_uri": "https://localhost:8080/"
        },
        "id": "wYcuAUvV2JNG",
        "outputId": "cb568d3c-d21e-474c-9961-a0167a9ff3e9"
      },
      "execution_count": null,
      "outputs": [
        {
          "output_type": "execute_result",
          "data": {
            "text/plain": [
              "array([0, 0, 0, ..., 1, 1, 1], dtype=object)"
            ]
          },
          "metadata": {},
          "execution_count": 358
        }
      ]
    },
    {
      "cell_type": "code",
      "source": [
        "Inputvariable[0,:] #Personal travel requires label encoding \n"
      ],
      "metadata": {
        "colab": {
          "base_uri": "https://localhost:8080/"
        },
        "id": "jvMWLLjB2bs4",
        "outputId": "c9ea3a54-6072-4d1b-cbb9-6ff2cd2b3197"
      },
      "execution_count": null,
      "outputs": [
        {
          "output_type": "execute_result",
          "data": {
            "text/plain": [
              "array([0, 0, 65, 'Personal Travel', 'Eco', 265, 2, 4, 3, 3, 5, 3, 0, 0.0],\n",
              "      dtype=object)"
            ]
          },
          "metadata": {},
          "execution_count": 359
        }
      ]
    },
    {
      "cell_type": "code",
      "source": [
        "Inputvariable[:,3] = Encoder.fit_transform(Inputvariable[:,3])\n",
        "Inputvariable[:,3] #Personal Travel: 1 Business Travel: 0 "
      ],
      "metadata": {
        "colab": {
          "base_uri": "https://localhost:8080/"
        },
        "id": "N62AXiB728hF",
        "outputId": "c8459903-a998-46ad-db5b-a4fb9dba4dc4"
      },
      "execution_count": null,
      "outputs": [
        {
          "output_type": "execute_result",
          "data": {
            "text/plain": [
              "array([1, 1, 1, ..., 1, 1, 1], dtype=object)"
            ]
          },
          "metadata": {},
          "execution_count": 360
        }
      ]
    },
    {
      "cell_type": "code",
      "source": [
        "Inputvariable[0,:]"
      ],
      "metadata": {
        "colab": {
          "base_uri": "https://localhost:8080/"
        },
        "id": "XdzsduOU5vht",
        "outputId": "fc090723-4e01-47ec-cad1-72495bb7291f"
      },
      "execution_count": null,
      "outputs": [
        {
          "output_type": "execute_result",
          "data": {
            "text/plain": [
              "array([0, 0, 65, 1, 'Eco', 265, 2, 4, 3, 3, 5, 3, 0, 0.0], dtype=object)"
            ]
          },
          "metadata": {},
          "execution_count": 361
        }
      ]
    },
    {
      "cell_type": "code",
      "source": [
        "Inputvariable[0,:]"
      ],
      "metadata": {
        "colab": {
          "base_uri": "https://localhost:8080/"
        },
        "id": "TZX8VfQpYC9w",
        "outputId": "6b41c149-ff89-4fcd-d61d-34a179da2f39"
      },
      "execution_count": null,
      "outputs": [
        {
          "output_type": "execute_result",
          "data": {
            "text/plain": [
              "array([0, 0, 65, 1, 'Eco', 265, 2, 4, 3, 3, 5, 3, 0, 0.0], dtype=object)"
            ]
          },
          "metadata": {},
          "execution_count": 362
        }
      ]
    },
    {
      "cell_type": "code",
      "source": [
        "Inputvariable[1,0:4]"
      ],
      "metadata": {
        "colab": {
          "base_uri": "https://localhost:8080/"
        },
        "id": "pJzWOlEtdI2n",
        "outputId": "58c55655-838a-4669-81ca-bfbaf475960b"
      },
      "execution_count": null,
      "outputs": [
        {
          "output_type": "execute_result",
          "data": {
            "text/plain": [
              "array([1, 0, 47, 1], dtype=object)"
            ]
          },
          "metadata": {},
          "execution_count": 363
        }
      ]
    },
    {
      "cell_type": "code",
      "source": [
        "\n",
        "from sklearn.compose import ColumnTransformer\n",
        "from sklearn.preprocessing import OneHotEncoder\n"
      ],
      "metadata": {
        "id": "fJwI49oaLkTe"
      },
      "execution_count": null,
      "outputs": []
    },
    {
      "cell_type": "code",
      "source": [
        "hotencoder= ColumnTransformer(transformers=[('encoder', OneHotEncoder(), [4])], remainder='passthrough')\n",
        "Inputvariable= np.array(hotencoder.fit_transform(Inputvariable))"
      ],
      "metadata": {
        "id": "lIRrnv3LL1-2"
      },
      "execution_count": null,
      "outputs": []
    },
    {
      "cell_type": "code",
      "source": [
        "#Make training and testing set. \n",
        "from sklearn.model_selection import train_test_split\n",
        "inputvariable_train, inputvariable_test, outputvariable_train, outputvariable_test = train_test_split(Inputvariable, Outputvariable, test_size = 0.3, random_state = 0)"
      ],
      "metadata": {
        "id": "T1mqPLm6eJWV"
      },
      "execution_count": null,
      "outputs": []
    },
    {
      "cell_type": "code",
      "source": [
        "outputvaraible_train,"
      ],
      "metadata": {
        "colab": {
          "base_uri": "https://localhost:8080/"
        },
        "id": "2q4LXT2Az-wl",
        "outputId": "369b033d-199e-4766-b0e9-05722def1d59"
      },
      "execution_count": null,
      "outputs": [
        {
          "output_type": "execute_result",
          "data": {
            "text/plain": [
              "(array([1, 0, 1, ..., 0, 0, 0]),)"
            ]
          },
          "metadata": {},
          "execution_count": 367
        }
      ]
    },
    {
      "cell_type": "code",
      "source": [
        "#Make features scaling for ML inputs. \n",
        "from sklearn.preprocessing import StandardScaler\n",
        "Standardscaler = StandardScaler()\n",
        "inputvariable_train = Standardscaler.fit_transform(inputvariable_train) #Applies features scaling for both train and test set to avoid information leakage. \n",
        "inputvariable_test = Standardscaler.transform(inputvariable_test) "
      ],
      "metadata": {
        "id": "qEo8qwn_eK9k"
      },
      "execution_count": null,
      "outputs": []
    },
    {
      "cell_type": "code",
      "source": [
        "inputvariable_test  "
      ],
      "metadata": {
        "colab": {
          "base_uri": "https://localhost:8080/"
        },
        "id": "gR_UEUAj_KVR",
        "outputId": "98c49ee3-20e7-4611-8378-25b7d4924541"
      },
      "execution_count": null,
      "outputs": [
        {
          "output_type": "execute_result",
          "data": {
            "text/plain": [
              "array([[-0.95526504, -0.90563601,  3.58302271, ..., -0.61273111,\n",
              "        -0.38624069, -0.10613943],\n",
              "       [ 1.0468299 , -0.90563601, -0.27909396, ...,  0.25539932,\n",
              "        -0.38624069, -0.39258186],\n",
              "       [ 1.0468299 , -0.90563601, -0.27909396, ...,  1.12352975,\n",
              "        -0.38624069, -0.39258186],\n",
              "       ...,\n",
              "       [-0.95526504,  1.10419638, -0.27909396, ..., -0.61273111,\n",
              "        -0.38624069, -0.39258186],\n",
              "       [-0.95526504, -0.90563601,  3.58302271, ...,  0.25539932,\n",
              "        -0.38624069, -0.26238076],\n",
              "       [-0.95526504,  1.10419638, -0.27909396, ...,  0.25539932,\n",
              "        -0.38624069, -0.39258186]])"
            ]
          },
          "metadata": {},
          "execution_count": 369
        }
      ]
    },
    {
      "cell_type": "code",
      "source": [
        "#we are using ANN based on fully connected network, not a computational network. So we use squential classA\n",
        "ArtificalNeuralNetworkfullyconnected= tf.keras.models.Sequential()\n"
      ],
      "metadata": {
        "id": "sJJeIkuakLQJ"
      },
      "execution_count": null,
      "outputs": []
    },
    {
      "cell_type": "code",
      "source": [
        "#created as an instance of sequential class which initializes ANN as sequence of layers. \n",
        "#Dense class in tensorflow\n",
        "\n",
        "#These are two hidden layers. \n",
        "ArtificalNeuralNetworkfullyconnected.add(tf.keras.layers.Dense(6, activation = 'relu'))\n",
        "#call method inside sequential class. \n",
        "#created as an object of a dense class. So call the dense class. So\n",
        "#we call the denser class from tensorflow keras library\n",
        "#input neurons already have the #of hidden neurans. So this is for hidden layers for units for dense class. \n",
        "#And we use 6-8. \n",
        "#and module layers\n",
        "ArtificalNeuralNetworkfullyconnected.add(tf.keras.layers.Dense(6, activation = 'relu'))\n"
      ],
      "metadata": {
        "id": "4R7cEfwmkLUz"
      },
      "execution_count": null,
      "outputs": []
    },
    {
      "cell_type": "code",
      "source": [
        "#Now we have the output layer. \n",
        "ArtificalNeuralNetworkfullyconnected.add(tf.keras.layers.Dense(1, activation = 'sigmoid'))\n",
        "\n",
        "#Output is a binary that takes 0 or 1 which is one neuron to get the final predictions. \n",
        "#if non binary that has 3 outputs of A B C, then we need 3 dimensions. \n",
        "# A = [1,0,0], B = [0,1,1], C=[0,0,1]\n",
        "#sigmoid allows to get probability of binary outcome to find the probability that customer will make\n",
        "#either satisified or not satisified. \n"
      ],
      "metadata": {
        "id": "rFYSLK_CrPbG"
      },
      "execution_count": null,
      "outputs": []
    },
    {
      "cell_type": "code",
      "source": [
        "ArtificalNeuralNetworkfullyconnected.compile(      \n",
        "optimizer = 'adam', loss = 'binary_crossentropy', metrics = ['accuracy'])\n"
      ],
      "metadata": {
        "id": "XAJK7KBrsEeA"
      },
      "execution_count": null,
      "outputs": []
    },
    {
      "cell_type": "code",
      "source": [
        "inputvariable_train\n"
      ],
      "metadata": {
        "colab": {
          "base_uri": "https://localhost:8080/"
        },
        "id": "VPK9bsYd7kAi",
        "outputId": "afebdb69-1cdd-4a2f-f808-8c12e1760aec"
      },
      "execution_count": null,
      "outputs": [
        {
          "output_type": "execute_result",
          "data": {
            "text/plain": [
              "array([[-0.95526504, -0.90563601,  3.58302271, ...,  0.25539932,\n",
              "        -0.0178024 , -0.39258186],\n",
              "       [ 1.0468299 , -0.90563601, -0.27909396, ..., -2.34899197,\n",
              "        -0.30728963, -0.18426009],\n",
              "       [ 1.0468299 , -0.90563601, -0.27909396, ...,  0.25539932,\n",
              "        -0.38624069, -0.39258186],\n",
              "       ...,\n",
              "       [-0.95526504,  1.10419638, -0.27909396, ...,  0.25539932,\n",
              "         0.27168483,  0.59694654],\n",
              "       [-0.95526504,  1.10419638, -0.27909396, ..., -0.61273111,\n",
              "        -0.38624069, -0.39258186],\n",
              "       [ 1.0468299 , -0.90563601, -0.27909396, ...,  0.25539932,\n",
              "        -0.25465559, -0.28842098]])"
            ]
          },
          "metadata": {},
          "execution_count": 374
        }
      ]
    },
    {
      "cell_type": "code",
      "source": [
        "outputvariable_train"
      ],
      "metadata": {
        "colab": {
          "base_uri": "https://localhost:8080/"
        },
        "id": "yk4ZNXFA8tK-",
        "outputId": "96ac3a71-029a-4416-be96-48dc499016ee"
      },
      "execution_count": null,
      "outputs": [
        {
          "output_type": "execute_result",
          "data": {
            "text/plain": [
              "array([1, 0, 1, ..., 0, 0, 0])"
            ]
          },
          "metadata": {},
          "execution_count": 375
        }
      ]
    },
    {
      "cell_type": "code",
      "source": [
        "ArtificalNeuralNetworkfullyconnected.fit(inputvariable_train, outputvariable_train, batch_size = 30, epochs = 10) "
      ],
      "metadata": {
        "colab": {
          "base_uri": "https://localhost:8080/"
        },
        "id": "EZ5xDPAWtkmF",
        "outputId": "2cd97b70-23d9-4712-ff92-72c01c2226de"
      },
      "execution_count": null,
      "outputs": [
        {
          "output_type": "stream",
          "name": "stdout",
          "text": [
            "Epoch 1/10\n",
            "3031/3031 [==============================] - 7s 2ms/step - loss: nan - accuracy: 0.4535\n",
            "Epoch 2/10\n",
            "3031/3031 [==============================] - 6s 2ms/step - loss: nan - accuracy: 0.4533\n",
            "Epoch 3/10\n",
            "3031/3031 [==============================] - 6s 2ms/step - loss: nan - accuracy: 0.4533\n",
            "Epoch 4/10\n",
            "3031/3031 [==============================] - 6s 2ms/step - loss: nan - accuracy: 0.4533\n",
            "Epoch 5/10\n",
            "3031/3031 [==============================] - 6s 2ms/step - loss: nan - accuracy: 0.4533\n",
            "Epoch 6/10\n",
            "3031/3031 [==============================] - 15s 5ms/step - loss: nan - accuracy: 0.4533\n",
            "Epoch 7/10\n",
            "3031/3031 [==============================] - 6s 2ms/step - loss: nan - accuracy: 0.4533\n",
            "Epoch 8/10\n",
            "3031/3031 [==============================] - 6s 2ms/step - loss: nan - accuracy: 0.4533\n",
            "Epoch 9/10\n",
            "3031/3031 [==============================] - 6s 2ms/step - loss: nan - accuracy: 0.4533\n",
            "Epoch 10/10\n",
            "3031/3031 [==============================] - 6s 2ms/step - loss: nan - accuracy: 0.4533\n"
          ]
        },
        {
          "output_type": "execute_result",
          "data": {
            "text/plain": [
              "<keras.callbacks.History at 0x7f18a7985110>"
            ]
          },
          "metadata": {},
          "execution_count": 376
        }
      ]
    },
    {
      "cell_type": "code",
      "source": [
        "makeprediction =ArtificalNeuralNetworkfullyconnected.predict(inputvariable_test)"
      ],
      "metadata": {
        "id": "ctTavKXJ7VmF"
      },
      "execution_count": null,
      "outputs": []
    },
    {
      "cell_type": "code",
      "source": [
        "makeprediction"
      ],
      "metadata": {
        "colab": {
          "base_uri": "https://localhost:8080/"
        },
        "id": "wQN8W0MA7YFu",
        "outputId": "e9fd65c7-a69b-4907-9860-c6a8e73cd0eb"
      },
      "execution_count": null,
      "outputs": [
        {
          "output_type": "execute_result",
          "data": {
            "text/plain": [
              "array([[nan],\n",
              "       [nan],\n",
              "       [nan],\n",
              "       ...,\n",
              "       [nan],\n",
              "       [nan],\n",
              "       [nan]], dtype=float32)"
            ]
          },
          "metadata": {},
          "execution_count": 330
        }
      ]
    }
  ]
}